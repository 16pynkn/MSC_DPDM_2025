{
  "nbformat": 4,
  "nbformat_minor": 0,
  "metadata": {
    "colab": {
      "provenance": [],
      "authorship_tag": "ABX9TyO8nSy/dqDAajcjVaFM9/LI",
      "include_colab_link": true
    },
    "kernelspec": {
      "name": "python3",
      "display_name": "Python 3"
    },
    "language_info": {
      "name": "python"
    }
  },
  "cells": [
    {
      "cell_type": "markdown",
      "metadata": {
        "id": "view-in-github",
        "colab_type": "text"
      },
      "source": [
        "<a href=\"https://colab.research.google.com/github/16pynkn/MSC_DPDM_2025/blob/main/Intro.ipynb\" target=\"_parent\"><img src=\"https://colab.research.google.com/assets/colab-badge.svg\" alt=\"Open In Colab\"/></a>"
      ]
    },
    {
      "cell_type": "markdown",
      "source": [
        "#Markdown#\n",
        "**abc**\n",
        "abc\n"
      ],
      "metadata": {
        "id": "pq_WV82Io8o_"
      }
    },
    {
      "cell_type": "code",
      "execution_count": 2,
      "metadata": {
        "colab": {
          "base_uri": "https://localhost:8080/"
        },
        "id": "WA5zEa5zmXyQ",
        "outputId": "43dc0828-cd9b-4554-9eea-ab3b197b025a"
      },
      "outputs": [
        {
          "output_type": "stream",
          "name": "stdout",
          "text": [
            "Poonyanoot\n"
          ]
        }
      ],
      "source": [
        "print(\"Poonyanoot\")"
      ]
    },
    {
      "cell_type": "code",
      "source": [
        "print(\"Khanom\")"
      ],
      "metadata": {
        "colab": {
          "base_uri": "https://localhost:8080/"
        },
        "id": "njtiJ-eioErh",
        "outputId": "2bc8b1bb-ae30-4969-b301-d8e6c4483916"
      },
      "execution_count": 3,
      "outputs": [
        {
          "output_type": "stream",
          "name": "stdout",
          "text": [
            "Khanom\n"
          ]
        }
      ]
    }
  ]
}
