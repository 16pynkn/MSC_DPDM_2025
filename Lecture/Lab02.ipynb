{
  "nbformat": 4,
  "nbformat_minor": 0,
  "metadata": {
    "colab": {
      "provenance": [],
      "toc_visible": true,
      "include_colab_link": true
    },
    "kernelspec": {
      "name": "python3",
      "display_name": "Python 3"
    },
    "language_info": {
      "name": "python"
    }
  },
  "cells": [
    {
      "cell_type": "markdown",
      "metadata": {
        "id": "view-in-github",
        "colab_type": "text"
      },
      "source": [
        "<a href=\"https://colab.research.google.com/github/16pynkn/MSC_DPDM_2025/blob/main/Lecture/Lab02.ipynb\" target=\"_parent\"><img src=\"https://colab.research.google.com/assets/colab-badge.svg\" alt=\"Open In Colab\"/></a>"
      ]
    },
    {
      "cell_type": "markdown",
      "source": [
        "# ใช้  header เพื่อจัดการ เอกสารและการ index\n",
        "\n",
        "# header1\n",
        "\n",
        "## header2\n",
        "\n",
        "### head 3\n",
        "\n",
        "\n",
        "*body*\n",
        "\n",
        "~~department~~\n",
        "\n",
        "⏰"
      ],
      "metadata": {
        "id": "U2yWfZdJ0ajZ"
      }
    },
    {
      "cell_type": "markdown",
      "source": [
        "# Python101"
      ],
      "metadata": {
        "id": "VmGtCcGmO4nt"
      }
    },
    {
      "cell_type": "markdown",
      "source": [
        "## Python example (ตัวอย่าง Python)"
      ],
      "metadata": {
        "id": "JUIWH8idYBIF"
      }
    },
    {
      "cell_type": "code",
      "source": [
        "for i in ['a','b','c'] :\n",
        "  print(i,end=' ')\n",
        "  print('/')\n",
        "  for j in range(10):\n",
        "    ccc=10"
      ],
      "metadata": {
        "colab": {
          "base_uri": "https://localhost:8080/"
        },
        "id": "dyfOsfVnX8zV",
        "outputId": "4ecb2fe4-af36-4f89-97ab-832f42070ef8"
      },
      "execution_count": null,
      "outputs": [
        {
          "output_type": "stream",
          "name": "stdout",
          "text": [
            "a /\n",
            "b /\n",
            "c /\n"
          ]
        }
      ]
    },
    {
      "cell_type": "code",
      "execution_count": null,
      "metadata": {
        "colab": {
          "base_uri": "https://localhost:8080/"
        },
        "id": "UkqSZC68X4cg",
        "outputId": "df920194-8ee7-4ac2-a6df-fbfe613ec4a7"
      },
      "outputs": [
        {
          "output_type": "stream",
          "name": "stdout",
          "text": [
            "a /\n",
            "10\n",
            "10\n",
            "10\n",
            "10\n",
            "10\n",
            "10\n",
            "10\n",
            "10\n",
            "10\n",
            "10\n",
            "b /\n",
            "10\n",
            "10\n",
            "10\n",
            "10\n",
            "10\n",
            "10\n",
            "10\n",
            "10\n",
            "10\n",
            "10\n",
            "c /\n",
            "10\n",
            "10\n",
            "10\n",
            "10\n",
            "10\n",
            "10\n",
            "10\n",
            "10\n",
            "10\n",
            "10\n"
          ]
        }
      ],
      "source": [
        "for i in ['a','b','c']:\n",
        "    print(i,end=' ')\n",
        "    print('/')\n",
        "    for j in range (10):\n",
        "        ccc=10\n",
        "        print(ccc)"
      ]
    },
    {
      "cell_type": "markdown",
      "source": [
        "# Intro to string and print statement\n",
        "\n",
        "การจัดการข้อมูลประเภท String"
      ],
      "metadata": {
        "id": "sUmW9DZPX9dY"
      }
    },
    {
      "cell_type": "markdown",
      "source": [
        "\n",
        "วิธีการ define ตัวแปร\n",
        "\n",
        "```\n",
        "variable_a = ข้อมูลที่เราต้องการ\n",
        "```\n",
        "\n"
      ],
      "metadata": {
        "id": "_ulwTs5ZluYY"
      }
    },
    {
      "cell_type": "markdown",
      "source": [
        "## String(text) ข้อมูลประเภท String"
      ],
      "metadata": {
        "id": "mgTqdqC-YbVr"
      }
    },
    {
      "cell_type": "code",
      "source": [
        "text1 = \"Stat\""
      ],
      "metadata": {
        "id": "Aki52LSMYeGR"
      },
      "execution_count": null,
      "outputs": []
    },
    {
      "cell_type": "code",
      "source": [
        "text2 = 'ม.ขอนแก่น'"
      ],
      "metadata": {
        "id": "DXqpcfVVYhNf"
      },
      "execution_count": null,
      "outputs": []
    },
    {
      "cell_type": "code",
      "source": [
        "text3 = '123456'"
      ],
      "metadata": {
        "id": "crjur8eGqQtw"
      },
      "execution_count": null,
      "outputs": []
    },
    {
      "cell_type": "code",
      "source": [
        "print(text1)"
      ],
      "metadata": {
        "colab": {
          "base_uri": "https://localhost:8080/"
        },
        "id": "gYbLncc1Yhwy",
        "outputId": "6d944d9e-9d8d-4d1c-9bb8-04e6396a3e7d"
      },
      "execution_count": null,
      "outputs": [
        {
          "output_type": "stream",
          "name": "stdout",
          "text": [
            "Stat\n"
          ]
        }
      ]
    },
    {
      "cell_type": "markdown",
      "source": [
        "เราสามารถนำ String + String ได้"
      ],
      "metadata": {
        "id": "w78M592zPNl3"
      }
    },
    {
      "cell_type": "code",
      "source": [
        "print(text1+text2)"
      ],
      "metadata": {
        "colab": {
          "base_uri": "https://localhost:8080/"
        },
        "id": "mZZ3M0wbYkru",
        "outputId": "bc941598-8493-4c65-dcc2-90b28f169f77"
      },
      "execution_count": null,
      "outputs": [
        {
          "output_type": "stream",
          "name": "stdout",
          "text": [
            "Statม.ขอนแก่น\n"
          ]
        }
      ]
    },
    {
      "cell_type": "code",
      "source": [
        "text1+text2"
      ],
      "metadata": {
        "colab": {
          "base_uri": "https://localhost:8080/",
          "height": 35
        },
        "id": "GLVRaHyfxaxF",
        "outputId": "137739e6-f87f-4a5d-d938-c24867b3753b"
      },
      "execution_count": null,
      "outputs": [
        {
          "output_type": "execute_result",
          "data": {
            "text/plain": [
              "'Statม.ขอนแก่น'"
            ],
            "application/vnd.google.colaboratory.intrinsic+json": {
              "type": "string"
            }
          },
          "metadata": {},
          "execution_count": 29
        }
      ]
    },
    {
      "cell_type": "code",
      "source": [
        "text4=text1+text2\n",
        "text4"
      ],
      "metadata": {
        "colab": {
          "base_uri": "https://localhost:8080/",
          "height": 35
        },
        "id": "XS47am-Zx8hq",
        "outputId": "d0733b56-5c93-4318-8c22-d1277bae8e99"
      },
      "execution_count": null,
      "outputs": [
        {
          "output_type": "execute_result",
          "data": {
            "text/plain": [
              "'Statม.ขอนแก่น'"
            ],
            "application/vnd.google.colaboratory.intrinsic+json": {
              "type": "string"
            }
          },
          "metadata": {},
          "execution_count": 30
        }
      ]
    },
    {
      "cell_type": "code",
      "source": [
        "text11 = text1+text2\n"
      ],
      "metadata": {
        "id": "fwpjHKRKyUo5"
      },
      "execution_count": null,
      "outputs": []
    },
    {
      "cell_type": "code",
      "source": [
        "print(text11)\n",
        "print(text2)"
      ],
      "metadata": {
        "colab": {
          "base_uri": "https://localhost:8080/"
        },
        "id": "v1873KM-ylj8",
        "outputId": "83c86ba1-0ad2-4299-d83a-0f710ee752f2"
      },
      "execution_count": null,
      "outputs": [
        {
          "output_type": "stream",
          "name": "stdout",
          "text": [
            "Statม.ขอนแก่น\n",
            "ม.ขอนแก่น\n"
          ]
        }
      ]
    },
    {
      "cell_type": "code",
      "source": [
        "int1 = 5"
      ],
      "metadata": {
        "id": "E-kEVHKhoo9j"
      },
      "execution_count": null,
      "outputs": []
    },
    {
      "cell_type": "markdown",
      "source": [
        "แต่ไม่สามารถ + ตัวเลขได้"
      ],
      "metadata": {
        "id": "z_z8I5lTPRyK"
      }
    },
    {
      "cell_type": "code",
      "source": [
        "print(text1 + int1)"
      ],
      "metadata": {
        "colab": {
          "base_uri": "https://localhost:8080/",
          "height": 139
        },
        "id": "zRL7x7KpYquR",
        "outputId": "cef32115-27b1-4898-fde3-66f5ed0b1ca4"
      },
      "execution_count": null,
      "outputs": [
        {
          "output_type": "error",
          "ename": "TypeError",
          "evalue": "can only concatenate str (not \"int\") to str",
          "traceback": [
            "\u001b[0;31m---------------------------------------------------------------------------\u001b[0m",
            "\u001b[0;31mTypeError\u001b[0m                                 Traceback (most recent call last)",
            "\u001b[0;32m/tmp/ipython-input-34-231686055.py\u001b[0m in \u001b[0;36m<cell line: 0>\u001b[0;34m()\u001b[0m\n\u001b[0;32m----> 1\u001b[0;31m \u001b[0mprint\u001b[0m\u001b[0;34m(\u001b[0m\u001b[0mtext1\u001b[0m \u001b[0;34m+\u001b[0m \u001b[0mint1\u001b[0m\u001b[0;34m)\u001b[0m\u001b[0;34m\u001b[0m\u001b[0;34m\u001b[0m\u001b[0m\n\u001b[0m",
            "\u001b[0;31mTypeError\u001b[0m: can only concatenate str (not \"int\") to str"
          ]
        }
      ]
    },
    {
      "cell_type": "code",
      "source": [
        "print(str(int1) + text1)"
      ],
      "metadata": {
        "colab": {
          "base_uri": "https://localhost:8080/"
        },
        "id": "-llIefCzYtaH",
        "outputId": "7707e6e3-c358-4723-c112-5f64a9f34edd"
      },
      "execution_count": null,
      "outputs": [
        {
          "output_type": "stream",
          "name": "stdout",
          "text": [
            "5Stat\n"
          ]
        }
      ]
    },
    {
      "cell_type": "code",
      "source": [
        "print(int1 + text3)"
      ],
      "metadata": {
        "colab": {
          "base_uri": "https://localhost:8080/",
          "height": 139
        },
        "id": "oYl4m7uDqe6B",
        "outputId": "72990d8d-2d23-49d7-8513-a4c79651e07c"
      },
      "execution_count": null,
      "outputs": [
        {
          "output_type": "error",
          "ename": "TypeError",
          "evalue": "unsupported operand type(s) for +: 'int' and 'str'",
          "traceback": [
            "\u001b[0;31m---------------------------------------------------------------------------\u001b[0m",
            "\u001b[0;31mTypeError\u001b[0m                                 Traceback (most recent call last)",
            "\u001b[0;32m/tmp/ipython-input-37-1956870398.py\u001b[0m in \u001b[0;36m<cell line: 0>\u001b[0;34m()\u001b[0m\n\u001b[0;32m----> 1\u001b[0;31m \u001b[0mprint\u001b[0m\u001b[0;34m(\u001b[0m\u001b[0mint1\u001b[0m \u001b[0;34m+\u001b[0m \u001b[0mtext3\u001b[0m\u001b[0;34m)\u001b[0m\u001b[0;34m\u001b[0m\u001b[0;34m\u001b[0m\u001b[0m\n\u001b[0m",
            "\u001b[0;31mTypeError\u001b[0m: unsupported operand type(s) for +: 'int' and 'str'"
          ]
        }
      ]
    },
    {
      "cell_type": "code",
      "source": [
        "# prompt: สร้าง string ว่า \"Stat ม.ขอนแก่น 1234\" จาก text1 text2 text3\n",
        "\n",
        "result_string = text1 + \" \" + text2 + \" \" + text3[:4]\n",
        "result_string"
      ],
      "metadata": {
        "colab": {
          "base_uri": "https://localhost:8080/",
          "height": 35
        },
        "id": "TGWRuooszulm",
        "outputId": "904cf42f-21c4-4294-832a-cd361c5b82a1"
      },
      "execution_count": null,
      "outputs": [
        {
          "output_type": "execute_result",
          "data": {
            "text/plain": [
              "'Stat ม.ขอนแก่น 1234'"
            ],
            "application/vnd.google.colaboratory.intrinsic+json": {
              "type": "string"
            }
          },
          "metadata": {},
          "execution_count": 40
        }
      ]
    },
    {
      "cell_type": "code",
      "source": [
        "# prompt: สร้าง string ว่า \"Stat ม.ขอนแก่น 1234\" จาก text1 text2 text3 use format string\n",
        "\n",
        "print(f\"{text1} {text2} {text3[:4]}\")\n",
        "new_str = f\"{text1} {text2} {text3[:4]}\"\n",
        "print(new_str)"
      ],
      "metadata": {
        "colab": {
          "base_uri": "https://localhost:8080/"
        },
        "id": "4hIBF-8-0NdH",
        "outputId": "86a4a478-233b-46b9-cd46-65a6a9739513"
      },
      "execution_count": null,
      "outputs": [
        {
          "output_type": "stream",
          "name": "stdout",
          "text": [
            "Stat ม.ขอนแก่น 1234\n",
            "Stat ม.ขอนแก่น 1234\n"
          ]
        }
      ]
    },
    {
      "cell_type": "code",
      "source": [
        "# prompt: สร้าง string ว่า \"Stat ม.ขอนแก่น 1234\" จาก text1 text2 text3 use format string\n",
        "# พร้อมใส่ comments อธิบาย code\n",
        "\n",
        "# ใช้ f-string (format string) เพื่อสร้าง string ใหม่\n",
        "# โดยนำค่าจาก text1, text2 และส่วนแรก 4 ตัวอักษรของ text3 มาต่อกัน\n",
        "# คั่นด้วยช่องว่าง\n",
        "result_string_formatted = f\"{text1} {text2} {text3[:4]}\"\n",
        "\n",
        "# พิมพ์ string ที่สร้างขึ้นมาออกทางหน้าจอ\n",
        "result_string_formatted"
      ],
      "metadata": {
        "colab": {
          "base_uri": "https://localhost:8080/",
          "height": 35
        },
        "id": "vBVaLVbs0lLb",
        "outputId": "c69f92db-ce45-4c62-85f2-81ea122f2980"
      },
      "execution_count": null,
      "outputs": [
        {
          "output_type": "execute_result",
          "data": {
            "text/plain": [
              "'Stat ม.ขอนแก่น 1234'"
            ],
            "application/vnd.google.colaboratory.intrinsic+json": {
              "type": "string"
            }
          },
          "metadata": {},
          "execution_count": 43
        }
      ]
    },
    {
      "cell_type": "markdown",
      "source": [
        "## การใช้ generative ai ช่วยในการเขียน code"
      ],
      "metadata": {
        "id": "7kOdaGHD4t4h"
      }
    },
    {
      "cell_type": "code",
      "source": [
        "# prompt: สุ่มตัวเลข 10 ตัว ใส่ตัวแปร x\n",
        "\n",
        "import random\n",
        "x = [random.randint(0, 9) for _ in range(10)]\n"
      ],
      "metadata": {
        "id": "rymqmapxrIya"
      },
      "execution_count": null,
      "outputs": []
    },
    {
      "cell_type": "code",
      "source": [
        "print(x)"
      ],
      "metadata": {
        "colab": {
          "base_uri": "https://localhost:8080/"
        },
        "id": "FHqADOxEs49V",
        "outputId": "91a31f30-69ca-4723-9f08-e2048b1159dc"
      },
      "execution_count": null,
      "outputs": [
        {
          "output_type": "stream",
          "name": "stdout",
          "text": [
            "[2, 6, 3, 0, 3, 1, 0, 5, 2, 1]\n"
          ]
        }
      ]
    },
    {
      "cell_type": "code",
      "source": [
        "# prompt: สุ่มตัวเลข 100 ตัว  แบบ Normal Distribution โดยมี mean = 6 และ SD= 2 ใส่ตัวแปร y\n",
        "\n",
        "import numpy as np\n",
        "\n",
        "y = np.random.normal(loc=6, scale=2, size=100)"
      ],
      "metadata": {
        "id": "FlbLuaZN1P-9"
      },
      "execution_count": null,
      "outputs": []
    },
    {
      "cell_type": "code",
      "source": [
        "y"
      ],
      "metadata": {
        "colab": {
          "base_uri": "https://localhost:8080/"
        },
        "id": "pYnxZHnQ1jR-",
        "outputId": "45463131-03fa-4d34-c062-cfc9ef606a09"
      },
      "execution_count": null,
      "outputs": [
        {
          "output_type": "execute_result",
          "data": {
            "text/plain": [
              "array([ 4.818237  ,  8.74093253,  4.77680037,  9.34575269,  5.14159959,\n",
              "        5.56186637,  6.04130786,  6.40742016,  7.91190609,  5.13177653,\n",
              "        7.32675419,  4.42754998,  7.94334281,  8.71660127,  4.71536348,\n",
              "        8.54694802,  6.9541602 ,  4.72116635,  3.76923922,  3.0897612 ,\n",
              "        4.67919833,  6.22904405, 10.42559415,  8.4280666 ,  6.57505156,\n",
              "        1.07036498,  5.68224021,  9.41292982,  6.93500641,  3.63684238,\n",
              "        7.63129065,  8.20505386,  9.72349806,  9.25261198,  6.4007771 ,\n",
              "        4.8142974 ,  8.13994052,  8.05356452,  5.83798344,  5.04044289,\n",
              "        6.02561464,  8.39007396,  4.6113582 ,  6.70192012,  8.20816132,\n",
              "        6.71588005,  6.41049188,  6.20612293,  6.29866895,  3.6385914 ,\n",
              "        3.24024146,  6.61469648,  7.26271078,  6.11144415,  3.17898208,\n",
              "        7.74208809,  6.79132484,  5.59864433,  4.91538895,  4.6942413 ,\n",
              "        5.00014882,  8.98079219,  2.62359281,  4.30744937,  3.38700958,\n",
              "        6.32923198,  6.72584442,  7.03869015,  9.72086974,  7.03021562,\n",
              "        8.27845403,  8.10670969,  4.85248993,  6.49802302,  5.47297101,\n",
              "        4.89864928,  5.99064772, 10.80230437,  7.58922619,  4.33823679,\n",
              "        8.63567131,  7.15096796,  5.80709501,  5.27150459,  6.64864796,\n",
              "        6.39969814,  6.31996305,  5.38730896,  5.78472075,  5.05548651,\n",
              "        6.62099693,  3.3387921 , 10.00257195,  6.73323888,  5.40586765,\n",
              "        7.2063476 ,  7.05526529,  5.91325411,  0.99861805,  6.83611333])"
            ]
          },
          "metadata": {},
          "execution_count": 47
        }
      ]
    },
    {
      "cell_type": "code",
      "source": [
        "# prompt: # prompt: สุ่มตัวเลข 100 ตัว  แบบ Normal Distribution โดยมี mean = 6 และ SD= 2 ใส่ตัวแปร y\n",
        "# และโชว์ค่า Mean และ SD\n",
        "\n",
        "y = np.random.normal(loc=6, scale=2, size=1000)\n",
        "\n",
        "mean_y = np.mean(y)\n",
        "std_y = np.std(y)\n",
        "\n",
        "print(f\"Mean of y: {mean_y}\")\n",
        "print(f\"Standard Deviation of y: {std_y}\")"
      ],
      "metadata": {
        "colab": {
          "base_uri": "https://localhost:8080/"
        },
        "id": "lO2dnWyP1oPp",
        "outputId": "86849119-857d-4967-e2df-2176f6089d8d"
      },
      "execution_count": null,
      "outputs": [
        {
          "output_type": "stream",
          "name": "stdout",
          "text": [
            "Mean of y: 5.9557050108925855\n",
            "Standard Deviation of y: 2.0171838063356033\n"
          ]
        }
      ]
    },
    {
      "cell_type": "code",
      "source": [
        "# prompt: สุ่มตัวเลข 100 ตัว  แบบ Normal Distribution โดยมี mean = 6 และ SD= 2 ใส่ตัวแปร y\n",
        "#  และโชว์ค่า Mean และ SD โชว์ว่าข้อมูลเป็น Normal Distribution\n",
        "\n",
        "import matplotlib.pyplot as plt\n",
        "import seaborn as sns\n",
        "\n",
        "# โชว์ว่าข้อมูลเป็น Normal Distribution\n",
        "plt.figure(figsize=(8, 6))\n",
        "sns.histplot(y, kde=True)\n",
        "plt.title(\"Distribution of y\")\n",
        "plt.xlabel(\"Value\")\n",
        "plt.ylabel(\"Frequency\")\n",
        "plt.show()"
      ],
      "metadata": {
        "colab": {
          "base_uri": "https://localhost:8080/",
          "height": 564
        },
        "id": "mE7cSaO01_3P",
        "outputId": "f5167aec-888a-4bd1-a9e6-a81a7cf0662a"
      },
      "execution_count": null,
      "outputs": [
        {
          "output_type": "display_data",
          "data": {
            "text/plain": [
              "<Figure size 800x600 with 1 Axes>"
            ],
            "image/png": "[encoded data removed]"
          },
          "metadata": {}
        }
      ]
    },
    {
      "cell_type": "code",
      "source": [
        "# prompt: ต้องการ Check ว่า y ข้อมูลเป็น Normal Distribution\n",
        "\n",
        "from scipy import stats\n",
        "\n",
        "# Perform the Shapiro-Wilk test for normality\n",
        "shapiro_test_stat, shapiro_p_value = stats.shapiro(y)\n",
        "\n",
        "print(f\"Shapiro-Wilk Test Statistic: {shapiro_test_stat}\")\n",
        "print(f\"Shapiro-Wilk P-value: {shapiro_p_value}\")\n",
        "\n",
        "# Interpret the result\n",
        "alpha = 0.05\n",
        "if shapiro_p_value > alpha:\n",
        "    print(\"The data appears to be normally distributed (fail to reject H0)\")\n",
        "else:\n",
        "    print(\"The data does not appear to be normally distributed (reject H0)\")\n",
        "\n",
        "# Another visual check: QQ plot\n",
        "import statsmodels.api as sm\n",
        "sm.qqplot(y, line='s')\n",
        "plt.title(\"QQ Plot of y\")\n",
        "plt.show()\n"
      ],
      "metadata": {
        "colab": {
          "base_uri": "https://localhost:8080/",
          "height": 523
        },
        "id": "o9fBHmC-2me3",
        "outputId": "3c166aff-4d4d-49f6-e546-15737c9eff2e"
      },
      "execution_count": null,
      "outputs": [
        {
          "output_type": "stream",
          "name": "stdout",
          "text": [
            "Shapiro-Wilk Test Statistic: 0.9901991098882759\n",
            "Shapiro-Wilk P-value: 0.6806961985484472\n",
            "The data appears to be normally distributed (fail to reject H0)\n"
          ]
        },
        {
          "output_type": "display_data",
          "data": {
            "text/plain": [
              "<Figure size 640x480 with 1 Axes>"
            ],
            "image/png": "[encoded data removed]"
          },
          "metadata": {}
        }
      ]
    },
    {
      "cell_type": "code",
      "source": [
        "# prompt: Plot Histogram of y and show normal distribution\n",
        "\n",
        "# Plot Histogram of y and show normal distribution\n",
        "plt.figure(figsize=(8, 6))\n",
        "sns.histplot(y, kde=True)\n",
        "\n",
        "# Add the normal distribution line\n",
        "xmin, xmax = plt.xlim()\n",
        "x = np.linspace(xmin, xmax, 1000)\n",
        "p = stats.norm.pdf(x, mean_y, std_y)\n",
        "plt.plot(x, p * len(y) * (xmax - xmin) / 50, 'k', linewidth=2) # Scale PDF to match histogram height\n",
        "\n",
        "plt.title(\"Histogram of y with Normal Distribution\")\n",
        "plt.xlabel(\"Value\")\n",
        "plt.ylabel(\"Frequency\")\n",
        "plt.show()\n",
        "\n",
        "mean_y = np.mean(y)\n",
        "std_y = np.std(y)\n",
        "\n",
        "print(f\"Mean of y: {mean_y}\")\n",
        "print(f\"Standard Deviation of y: {std_y}\")"
      ],
      "metadata": {
        "colab": {
          "base_uri": "https://localhost:8080/",
          "height": 598
        },
        "id": "p5zFDAdb2z_c",
        "outputId": "7cd69a4a-4792-46fd-95a1-48de5447e826"
      },
      "execution_count": null,
      "outputs": [
        {
          "output_type": "display_data",
          "data": {
            "text/plain": [
              "<Figure size 800x600 with 1 Axes>"
            ],
            "image/png": "[encoded data removed]"
          },
          "metadata": {}
        },
        {
          "output_type": "stream",
          "name": "stdout",
          "text": [
            "Mean of y: 5.9557050108925855\n",
            "Standard Deviation of y: 2.0171838063356033\n"
          ]
        }
      ]
    },
    {
      "cell_type": "code",
      "source": [
        "# prompt: ทดสอบการแจกแจงปกติของตัวแปร y\n",
        "\n",
        "# การทดสอบการแจกแจงปกติของตัวแปร y ด้วย Shapiro-Wilk test\n",
        "from scipy import stats\n",
        "\n",
        "# ทำ Shapiro-Wilk test\n",
        "shapiro_test_stat, shapiro_p_value = stats.shapiro(y)\n",
        "\n",
        "print(f\"Shapiro-Wilk Test Statistic: {shapiro_test_stat}\")\n",
        "print(f\"Shapiro-Wilk P-value: {shapiro_p_value}\")\n",
        "\n",
        "# แปลผล\n",
        "alpha = 0.05\n",
        "if shapiro_p_value > alpha:\n",
        "    print(\"Reject the null hypothesis: The data is likely drawn from a normal distribution (fail to reject H0).\")\n",
        "else:\n",
        "    print(\"Fail to reject the null hypothesis: The data is unlikely drawn from a normal distribution (reject H0).\")\n",
        "\n",
        "# การทดสอบการแจกแจงปกติของตัวแปร y ด้วย Kolmogorov-Smirnov test\n",
        "# Note: สำหรับ Kolmogorov-Smirnov test ต้องระบุการแจกแจงอ้างอิง\n",
        "# ในที่นี้เราจะทดสอบกับ Normal distribution โดยใช้ mean และ std ของข้อมูล y\n",
        "ks_test_stat, ks_p_value = stats.kstest(y, 'norm', args=(mean_y, std_y))\n",
        "\n",
        "print(f\"\\nKolmogorov-Smirnov Test Statistic: {ks_test_stat}\")\n",
        "print(f\"Kolmogorov-Smirnov P-value: {ks_p_value}\")\n",
        "\n",
        "# แปลผล\n",
        "if ks_p_value > alpha:\n",
        "    print(\"Reject the null hypothesis: The data is likely drawn from a normal distribution (fail to reject H0).\")\n",
        "else:\n",
        "    print(\"Fail to reject the null hypothesis: The data is unlikely drawn from a normal distribution (reject H0).\")"
      ],
      "metadata": {
        "id": "ck5VVXWc2T4w"
      },
      "execution_count": null,
      "outputs": []
    },
    {
      "cell_type": "markdown",
      "source": [
        "# Format String\n",
        "## เราสามารถจัดการ text แบบพิเศษ (ใช้ตัวแปร หรือ run code ใน text) ได้โดยการใช้\n",
        "\n",
        "```\n",
        "f'ข้อความ1 {ส่วนของ code1} ข้อความ2 {ส่วนของ code2}'\n",
        "```"
      ],
      "metadata": {
        "id": "LLAVvUnFuhe7"
      }
    },
    {
      "cell_type": "code",
      "source": [
        "f'six plus five = {6+5}'"
      ],
      "metadata": {
        "id": "C5A30Uq5ZmAB",
        "colab": {
          "base_uri": "https://localhost:8080/",
          "height": 35
        },
        "outputId": "e0039373-162b-408c-d638-00cff2f76638"
      },
      "execution_count": null,
      "outputs": [
        {
          "output_type": "execute_result",
          "data": {
            "text/plain": [
              "'six plus five = 11'"
            ],
            "application/vnd.google.colaboratory.intrinsic+json": {
              "type": "string"
            }
          },
          "metadata": {},
          "execution_count": 66
        }
      ]
    },
    {
      "cell_type": "code",
      "source": [
        "f'six plus five = {6+5:.2f}' # .2f หมายถึงทำเป็นทศนิยม 2 ตำแหน่ง"
      ],
      "metadata": {
        "id": "7uE5avqdZ4Lo",
        "colab": {
          "base_uri": "https://localhost:8080/",
          "height": 35
        },
        "outputId": "36d63d3c-1284-4332-8719-e80dedb3ee0f"
      },
      "execution_count": null,
      "outputs": [
        {
          "output_type": "execute_result",
          "data": {
            "text/plain": [
              "'six plus five = 11.00'"
            ],
            "application/vnd.google.colaboratory.intrinsic+json": {
              "type": "string"
            }
          },
          "metadata": {},
          "execution_count": 67
        }
      ]
    },
    {
      "cell_type": "code",
      "source": [
        "f'six plus five = {6+5:.2f}%' # % หมายถึงเป็น %"
      ],
      "metadata": {
        "id": "0bZygJghZnsP",
        "colab": {
          "base_uri": "https://localhost:8080/",
          "height": 35
        },
        "outputId": "0237e558-4258-4855-a431-c9a94949defd"
      },
      "execution_count": null,
      "outputs": [
        {
          "output_type": "execute_result",
          "data": {
            "text/plain": [
              "'six plus five = 11.00%'"
            ],
            "application/vnd.google.colaboratory.intrinsic+json": {
              "type": "string"
            }
          },
          "metadata": {},
          "execution_count": 68
        }
      ]
    },
    {
      "cell_type": "code",
      "source": [
        "f'six plus five = {6+5.7:.0f}%' # .0 หมายถึง ไม่เอาทศนิยม"
      ],
      "metadata": {
        "id": "YovMbr3zZo4p",
        "colab": {
          "base_uri": "https://localhost:8080/",
          "height": 35
        },
        "outputId": "b62e4a8d-5cfe-469c-f1b2-0a5b40b8ed5f"
      },
      "execution_count": null,
      "outputs": [
        {
          "output_type": "execute_result",
          "data": {
            "text/plain": [
              "'six plus five = 12%'"
            ],
            "application/vnd.google.colaboratory.intrinsic+json": {
              "type": "string"
            }
          },
          "metadata": {},
          "execution_count": 69
        }
      ]
    },
    {
      "cell_type": "code",
      "source": [
        "f'six plus five = {6+5:03d}' #แสดงผลลัพธ์ 3 หลัก"
      ],
      "metadata": {
        "id": "ZqEvgTlFZqTi",
        "colab": {
          "base_uri": "https://localhost:8080/",
          "height": 35
        },
        "outputId": "9c00059a-9637-4462-b3c4-52ce07d2f528"
      },
      "execution_count": null,
      "outputs": [
        {
          "output_type": "execute_result",
          "data": {
            "text/plain": [
              "'six plus five = 011'"
            ],
            "application/vnd.google.colaboratory.intrinsic+json": {
              "type": "string"
            }
          },
          "metadata": {},
          "execution_count": 72
        }
      ]
    },
    {
      "cell_type": "code",
      "source": [
        "st1 = f'six plus five = {6+5:03d}' #เก็บข้อมูลใน st1"
      ],
      "metadata": {
        "id": "Xk6sLHDoZ-5l"
      },
      "execution_count": null,
      "outputs": []
    },
    {
      "cell_type": "code",
      "source": [
        "st1 #แสดงผลออกมา"
      ],
      "metadata": {
        "id": "07IuSmjnaAbw",
        "colab": {
          "base_uri": "https://localhost:8080/",
          "height": 35
        },
        "outputId": "446dbc2b-dcf2-4e1e-82f8-10a3e68ba25d"
      },
      "execution_count": null,
      "outputs": [
        {
          "output_type": "execute_result",
          "data": {
            "text/plain": [
              "'six plus five = 011'"
            ],
            "application/vnd.google.colaboratory.intrinsic+json": {
              "type": "string"
            }
          },
          "metadata": {},
          "execution_count": 74
        }
      ]
    },
    {
      "cell_type": "code",
      "source": [
        "f\"six plus five = {'six' + 'five'}\" # การใช้งาน quote และ double quote"
      ],
      "metadata": {
        "id": "dqECkT84wOpF",
        "colab": {
          "base_uri": "https://localhost:8080/",
          "height": 35
        },
        "outputId": "ab5c8dd9-fb42-4abd-ee36-12e6d637b771"
      },
      "execution_count": null,
      "outputs": [
        {
          "output_type": "execute_result",
          "data": {
            "text/plain": [
              "'six plus five = sixfive'"
            ],
            "application/vnd.google.colaboratory.intrinsic+json": {
              "type": "string"
            }
          },
          "metadata": {},
          "execution_count": 75
        }
      ]
    },
    {
      "cell_type": "markdown",
      "source": [
        "##Advanced printing\n",
        "\n",
        "(การแสดงผลแบบ Advance)"
      ],
      "metadata": {
        "id": "MEflkU7kZRHh"
      }
    },
    {
      "cell_type": "markdown",
      "source": [
        "ในภาษา Python ฟังก์ชั่น `````function()`````จะมี`````()`````"
      ],
      "metadata": {
        "id": "_vJdMpCr8OK4"
      }
    },
    {
      "cell_type": "markdown",
      "source": [
        "## Print"
      ],
      "metadata": {
        "id": "5tvoD0Gi19oZ"
      }
    },
    {
      "cell_type": "markdown",
      "source": [
        "\n",
        "```\n",
        "print(object(s), sep=separator, end=end, file=file, flush=flush)\n",
        "```\n",
        "\n"
      ],
      "metadata": {
        "id": "uQcYWHgS9Ob9"
      }
    },
    {
      "cell_type": "markdown",
      "source": [
        "### object(s)\n",
        "\n",
        "(s) สามารถ input object ได้มากกว่า 1 ตัว"
      ],
      "metadata": {
        "id": "IBUxSqwfygLv"
      }
    },
    {
      "cell_type": "code",
      "source": [
        "print(text1,text2,text3)"
      ],
      "metadata": {
        "id": "6a_NLUdlyIjd",
        "colab": {
          "base_uri": "https://localhost:8080/"
        },
        "outputId": "78146d7f-8e67-4520-9ebc-a30997c605e4"
      },
      "execution_count": null,
      "outputs": [
        {
          "output_type": "stream",
          "name": "stdout",
          "text": [
            "Stat ม.ขอนแก่น 123456\n"
          ]
        }
      ]
    },
    {
      "cell_type": "markdown",
      "source": [
        "### separator (sep) คือการแบ่งข้อมูลด้วยคำสั่ง ทั้งช่องว่างและ /\n",
        "\n",
        "\n",
        "```\n",
        "Default is ' '\n",
        "```\n",
        "for example\n"
      ],
      "metadata": {
        "id": "VPmUaNBN-oDq"
      }
    },
    {
      "cell_type": "code",
      "source": [
        "print(text1,text2,text3) #ถ้าไม่กำหนด sep จะใช้ ' ' แบ่ง ช่องว่าง"
      ],
      "metadata": {
        "id": "58d2OykL9uLV",
        "colab": {
          "base_uri": "https://localhost:8080/"
        },
        "outputId": "4cf803bc-42cd-49d8-82e5-8f0556e443ee"
      },
      "execution_count": null,
      "outputs": [
        {
          "output_type": "stream",
          "name": "stdout",
          "text": [
            "Stat ม.ขอนแก่น 123456\n"
          ]
        }
      ]
    },
    {
      "cell_type": "code",
      "source": [
        "print(text1,text2,text3, sep ='+') #กำหนด sep เป็น +"
      ],
      "metadata": {
        "id": "JKDXwhUu98g8",
        "colab": {
          "base_uri": "https://localhost:8080/"
        },
        "outputId": "1449b493-10f6-435f-e948-228481c3bd81"
      },
      "execution_count": null,
      "outputs": [
        {
          "output_type": "stream",
          "name": "stdout",
          "text": [
            "Stat+ม.ขอนแก่น+123456\n"
          ]
        }
      ]
    },
    {
      "cell_type": "markdown",
      "source": [
        "### end (end) ไว้สำหรับการขึ้นบรรทัดใหม่หรือการเพิ่มตัวอักษร\n",
        "\n",
        "\n",
        "\n",
        "```\n",
        "Default is '\\n'  (new line)\n",
        "```\n",
        "for example\n",
        "\n",
        "\n"
      ],
      "metadata": {
        "id": "SjbKTyhO-sXc"
      }
    },
    {
      "cell_type": "code",
      "source": [
        "print('stat')\n",
        "print('KKU')"
      ],
      "metadata": {
        "id": "kBaAmiq_-Dtl",
        "colab": {
          "base_uri": "https://localhost:8080/"
        },
        "outputId": "bb47ed97-f8ac-4760-ad09-bde953ccbd10"
      },
      "execution_count": null,
      "outputs": [
        {
          "output_type": "stream",
          "name": "stdout",
          "text": [
            "stat\n",
            "KKU\n"
          ]
        }
      ]
    },
    {
      "cell_type": "code",
      "source": [
        "print('stat',end='+-+') #จบ คำสั่ง print ด้วย +-+\n",
        "print('KKU')"
      ],
      "metadata": {
        "id": "PUhgDUJC-mGu",
        "colab": {
          "base_uri": "https://localhost:8080/"
        },
        "outputId": "26f44011-ef15-43d9-f7e6-d8ee05d9cba1"
      },
      "execution_count": null,
      "outputs": [
        {
          "output_type": "stream",
          "name": "stdout",
          "text": [
            "stat+-+KKU\n"
          ]
        }
      ]
    },
    {
      "cell_type": "markdown",
      "source": [
        "# Variable (ตัวแปร)\n",
        "\n",
        "ใช้สำหรับการเก็บข้อมูลไว้ในตัวแปรนั้นๆไว้"
      ],
      "metadata": {
        "id": "pnuKktZj_aYP"
      }
    },
    {
      "cell_type": "markdown",
      "source": [
        "### ข้อกำหนดในการตั้งชื่อตัวแปร\n",
        "1. ตั้งให้สื่อความหมาย (แนะนำ)\n",
        "2. ตั้งให้เป็นภาษาอังกฤษ\n",
        "3. ใช้ตัวเลขผสมกับตัวหนังสือได้ แต่ห้ามขึ้นต้นด้วยตัวเลข\n",
        "4. ห้ามมีเว้นวรรคในชื่อตัวแปร\n",
        "5. ตัวใหญ่ ตัวเล็กค่าไม่เท่ากัน\n",
        "\n",
        "\n",
        "## variable naming rules\n",
        "1. Try to use meaningful word\n",
        "2. Do it in English\n",
        "3. You can use number in variable name the name connot atart with number\n",
        "4. there should be no space in the name\n",
        "5. variable name is case-sensitive (Abc is not equal to ABC)"
      ],
      "metadata": {
        "id": "Y-WakksGY-qa"
      }
    },
    {
      "cell_type": "code",
      "source": [
        "a = 5 #int\n",
        "print(a)"
      ],
      "metadata": {
        "id": "sG2g9sdjY43v",
        "colab": {
          "base_uri": "https://localhost:8080/"
        },
        "outputId": "081ecd85-68b9-48d2-d49f-240209bac372"
      },
      "execution_count": null,
      "outputs": [
        {
          "output_type": "stream",
          "name": "stdout",
          "text": [
            "5\n"
          ]
        }
      ]
    },
    {
      "cell_type": "code",
      "source": [
        "b = 5.7 #float\n",
        "print(b)"
      ],
      "metadata": {
        "id": "4USxTM0QY6fq",
        "colab": {
          "base_uri": "https://localhost:8080/"
        },
        "outputId": "850c0e00-5e13-4682-d439-ae5102a689d2"
      },
      "execution_count": null,
      "outputs": [
        {
          "output_type": "stream",
          "name": "stdout",
          "text": [
            "5.7\n"
          ]
        }
      ]
    },
    {
      "cell_type": "code",
      "source": [
        "c = a-b\n",
        "print(c)"
      ],
      "metadata": {
        "id": "DNM5bnjtY7yJ",
        "colab": {
          "base_uri": "https://localhost:8080/"
        },
        "outputId": "4e0b5548-adae-4318-8f4f-c9b6feec13e6"
      },
      "execution_count": null,
      "outputs": [
        {
          "output_type": "stream",
          "name": "stdout",
          "text": [
            "-0.7000000000000002\n"
          ]
        }
      ]
    },
    {
      "cell_type": "markdown",
      "source": [
        "## char (character : ตัวอักษร)"
      ],
      "metadata": {
        "id": "DoYZ4x93_er8"
      }
    },
    {
      "cell_type": "markdown",
      "source": [
        "####  ```String + String``` mean plus char and another char ตัวอักษร + ตัวอักษรได้\n",
        "\n"
      ],
      "metadata": {
        "id": "SrLiANLPAk9U"
      }
    },
    {
      "cell_type": "code",
      "source": [
        "a = 'C'"
      ],
      "metadata": {
        "id": "CdjcqOHG_kv8"
      },
      "execution_count": null,
      "outputs": []
    },
    {
      "cell_type": "code",
      "source": [
        "b = 'hatacter'"
      ],
      "metadata": {
        "id": "uhJO9m9C_mCK"
      },
      "execution_count": null,
      "outputs": []
    },
    {
      "cell_type": "code",
      "source": [
        "print(f'a={a} b={b}, then {a}+{b} = {a+b}') #string + string = เอามารวมกัน"
      ],
      "metadata": {
        "id": "CkA49ZQk_wXs",
        "colab": {
          "base_uri": "https://localhost:8080/"
        },
        "outputId": "ad089b85-dfd4-4e5f-bf81-0b33e963749b"
      },
      "execution_count": null,
      "outputs": [
        {
          "output_type": "stream",
          "name": "stdout",
          "text": [
            "a=C b=hatacter, then C+hatacter = Chatacter\n"
          ]
        }
      ]
    },
    {
      "cell_type": "code",
      "source": [
        "A ='ccccc'\n",
        "B = 'a'"
      ],
      "metadata": {
        "id": "vBanCSC2_6hf"
      },
      "execution_count": null,
      "outputs": []
    },
    {
      "cell_type": "code",
      "source": [
        "print(A+B)"
      ],
      "metadata": {
        "id": "Dtg2uAdX_-jp",
        "colab": {
          "base_uri": "https://localhost:8080/"
        },
        "outputId": "806e0e53-dde6-47ad-af77-614318b43b58"
      },
      "execution_count": null,
      "outputs": [
        {
          "output_type": "stream",
          "name": "stdout",
          "text": [
            "ccccca\n"
          ]
        }
      ]
    },
    {
      "cell_type": "code",
      "source": [
        "A = '1'\n",
        "B = 2"
      ],
      "metadata": {
        "id": "iJap5bGdehV8"
      },
      "execution_count": null,
      "outputs": []
    },
    {
      "cell_type": "code",
      "source": [
        "print(A,B)"
      ],
      "metadata": {
        "id": "1vOCasF6ehMn",
        "colab": {
          "base_uri": "https://localhost:8080/"
        },
        "outputId": "fe0a9a00-fd1e-4a07-95c1-b01dce05459a"
      },
      "execution_count": null,
      "outputs": [
        {
          "output_type": "stream",
          "name": "stdout",
          "text": [
            "1 2\n"
          ]
        }
      ]
    },
    {
      "cell_type": "code",
      "source": [
        "A"
      ],
      "metadata": {
        "id": "6AFU4aIJe1vK",
        "colab": {
          "base_uri": "https://localhost:8080/",
          "height": 35
        },
        "outputId": "2cb7ba8c-e5fa-405e-b83d-c2f1ee9acc5a"
      },
      "execution_count": null,
      "outputs": [
        {
          "output_type": "execute_result",
          "data": {
            "text/plain": [
              "'1'"
            ],
            "application/vnd.google.colaboratory.intrinsic+json": {
              "type": "string"
            }
          },
          "metadata": {},
          "execution_count": 95
        }
      ]
    },
    {
      "cell_type": "code",
      "source": [
        "B"
      ],
      "metadata": {
        "id": "PE1_GnqBe6iv",
        "colab": {
          "base_uri": "https://localhost:8080/"
        },
        "outputId": "e8d096ba-f590-4434-beda-c244671dbce7"
      },
      "execution_count": null,
      "outputs": [
        {
          "output_type": "execute_result",
          "data": {
            "text/plain": [
              "2"
            ]
          },
          "metadata": {},
          "execution_count": 96
        }
      ]
    },
    {
      "cell_type": "code",
      "source": [
        "A+str(B)"
      ],
      "metadata": {
        "id": "6cNjlgycfRtj",
        "colab": {
          "base_uri": "https://localhost:8080/",
          "height": 35
        },
        "outputId": "5e8111da-0a7d-4987-b113-dad6a19842f1"
      },
      "execution_count": null,
      "outputs": [
        {
          "output_type": "execute_result",
          "data": {
            "text/plain": [
              "'12'"
            ],
            "application/vnd.google.colaboratory.intrinsic+json": {
              "type": "string"
            }
          },
          "metadata": {},
          "execution_count": 99
        }
      ]
    },
    {
      "cell_type": "markdown",
      "source": [
        "# List() โครงสร้างข้อมูล"
      ],
      "metadata": {
        "id": "8OONbOe5gqm3"
      }
    },
    {
      "cell_type": "code",
      "source": [
        "list_a = [1,2,3]"
      ],
      "metadata": {
        "id": "hE_MrofBg3vQ"
      },
      "execution_count": null,
      "outputs": []
    },
    {
      "cell_type": "code",
      "source": [
        "list_a"
      ],
      "metadata": {
        "colab": {
          "base_uri": "https://localhost:8080/"
        },
        "id": "Ec_wGiV7Aqfi",
        "outputId": "1a54229a-8ccd-48b3-f234-9d947407a2b8"
      },
      "execution_count": null,
      "outputs": [
        {
          "output_type": "execute_result",
          "data": {
            "text/plain": [
              "[1, 2, 3]"
            ]
          },
          "metadata": {},
          "execution_count": 116
        }
      ]
    },
    {
      "cell_type": "code",
      "source": [
        "list_b = list()"
      ],
      "metadata": {
        "id": "7jJcmv85hb88"
      },
      "execution_count": null,
      "outputs": []
    },
    {
      "cell_type": "code",
      "source": [
        "list_b"
      ],
      "metadata": {
        "id": "Qh8LZ9KfhggE",
        "colab": {
          "base_uri": "https://localhost:8080/"
        },
        "outputId": "b2c68795-c88a-4c5a-e847-eb6a2526416f"
      },
      "execution_count": null,
      "outputs": [
        {
          "output_type": "execute_result",
          "data": {
            "text/plain": [
              "[]"
            ]
          },
          "metadata": {},
          "execution_count": 123
        }
      ]
    },
    {
      "cell_type": "code",
      "source": [
        "list_c = [] #list ว่าง\n",
        "list_c"
      ],
      "metadata": {
        "colab": {
          "base_uri": "https://localhost:8080/"
        },
        "id": "sWv_9rmYBAn6",
        "outputId": "84a9ed6a-bab4-4eba-972d-8f86cdaa0d6e"
      },
      "execution_count": null,
      "outputs": [
        {
          "output_type": "execute_result",
          "data": {
            "text/plain": [
              "[]"
            ]
          },
          "metadata": {},
          "execution_count": 111
        }
      ]
    },
    {
      "cell_type": "code",
      "source": [
        "list_b.append(1) #append คือการเพิ่มข้อมูลใน list\n",
        "print(list_b)\n",
        "list_b.append(2) # show ตามลำดับที่เพิ่มค่า\n",
        "print(list_b)"
      ],
      "metadata": {
        "id": "ULMnRasdhx-5",
        "colab": {
          "base_uri": "https://localhost:8080/"
        },
        "outputId": "edc7ead4-ae07-4740-ebec-af6eae053410"
      },
      "execution_count": null,
      "outputs": [
        {
          "output_type": "stream",
          "name": "stdout",
          "text": [
            "[1]\n",
            "[1, 2]\n"
          ]
        }
      ]
    },
    {
      "cell_type": "code",
      "source": [
        "list_b.append('f')\n",
        "list_b.append([12,6,'a'])\n",
        "list_b"
      ],
      "metadata": {
        "id": "2Iv-A55wiL7x",
        "colab": {
          "base_uri": "https://localhost:8080/"
        },
        "outputId": "1e7c2d65-fd45-4b3b-dc33-2e30dcc9891c"
      },
      "execution_count": null,
      "outputs": [
        {
          "output_type": "execute_result",
          "data": {
            "text/plain": [
              "[1, 2, 'f', [12, 6, 'a']]"
            ]
          },
          "metadata": {},
          "execution_count": 125
        }
      ]
    },
    {
      "cell_type": "code",
      "source": [
        "list_b[3] #index"
      ],
      "metadata": {
        "id": "leSTP3jlinfG",
        "colab": {
          "base_uri": "https://localhost:8080/"
        },
        "outputId": "43f0e5c0-f6a0-469b-98f3-dc6ebc8703d8"
      },
      "execution_count": null,
      "outputs": [
        {
          "output_type": "execute_result",
          "data": {
            "text/plain": [
              "[12, 6, 'a']"
            ]
          },
          "metadata": {},
          "execution_count": 126
        }
      ]
    },
    {
      "cell_type": "markdown",
      "source": [
        "## list slicing"
      ],
      "metadata": {
        "id": "QVQh_ivhC-QE"
      }
    },
    {
      "cell_type": "code",
      "source": [
        "list_x = [1,2,3,4,5,'ax','by','cz']"
      ],
      "metadata": {
        "id": "OtCfQNzoCxpu"
      },
      "execution_count": null,
      "outputs": []
    },
    {
      "cell_type": "code",
      "source": [
        "list_x[4:8] #[start:end] ตามเส้นจำนวน [จุดทึบ:จุดโปร่ง ไม่เอาตัวที่ 8]"
      ],
      "metadata": {
        "colab": {
          "base_uri": "https://localhost:8080/"
        },
        "id": "FUp0maNqDVXL",
        "outputId": "f7e06a74-7aee-43a5-e23b-9a205934bc92"
      },
      "execution_count": null,
      "outputs": [
        {
          "output_type": "execute_result",
          "data": {
            "text/plain": [
              "[5, 'ax', 'by', 'cz']"
            ]
          },
          "metadata": {},
          "execution_count": 131
        }
      ]
    },
    {
      "cell_type": "code",
      "source": [
        "list_x[4:7]"
      ],
      "metadata": {
        "colab": {
          "base_uri": "https://localhost:8080/"
        },
        "id": "sXiS6gAkDVNk",
        "outputId": "8aa868a1-1ce0-4e62-f4a2-db6ed1b098b9"
      },
      "execution_count": null,
      "outputs": [
        {
          "output_type": "execute_result",
          "data": {
            "text/plain": [
              "[5, 'ax', 'by']"
            ]
          },
          "metadata": {},
          "execution_count": 132
        }
      ]
    },
    {
      "cell_type": "code",
      "source": [
        "list_x[4:7:2] #[start:end:step]"
      ],
      "metadata": {
        "colab": {
          "base_uri": "https://localhost:8080/"
        },
        "id": "jgUfn1CKEB_U",
        "outputId": "0b9704c4-d31c-4ba2-f83e-f4c6205bb457"
      },
      "execution_count": null,
      "outputs": [
        {
          "output_type": "execute_result",
          "data": {
            "text/plain": [
              "[5, 'by']"
            ]
          },
          "metadata": {},
          "execution_count": 134
        }
      ]
    },
    {
      "cell_type": "markdown",
      "source": [
        "####```integer * char```mean multiple copies of the char หรือสามารถคูณตัวอักษรเพื่อแสดงผลเท่าผลคูณได้"
      ],
      "metadata": {
        "id": "Oni4-2pSAaFj"
      }
    },
    {
      "cell_type": "code",
      "source": [
        "[1,2]+[3,4]"
      ],
      "metadata": {
        "id": "9jKUKXJyxHD6",
        "outputId": "73247438-86a1-4057-8c19-30d25f2bbefc",
        "colab": {
          "base_uri": "https://localhost:8080/"
        }
      },
      "execution_count": 6,
      "outputs": [
        {
          "output_type": "execute_result",
          "data": {
            "text/plain": [
              "[1, 2, 3, 4]"
            ]
          },
          "metadata": {},
          "execution_count": 6
        }
      ]
    },
    {
      "cell_type": "code",
      "source": [
        "print(5*[1,2])"
      ],
      "metadata": {
        "id": "B1B6Yi1VxM6G",
        "outputId": "be86004a-46c2-4cc7-9fcc-8c5eb49bb21d",
        "colab": {
          "base_uri": "https://localhost:8080/"
        }
      },
      "execution_count": 7,
      "outputs": [
        {
          "output_type": "stream",
          "name": "stdout",
          "text": [
            "[1, 2, 1, 2, 1, 2, 1, 2, 1, 2]\n"
          ]
        }
      ]
    },
    {
      "cell_type": "code",
      "source": [
        "print(5*'T')"
      ],
      "metadata": {
        "id": "3lnB0SYRAFtJ",
        "colab": {
          "base_uri": "https://localhost:8080/"
        },
        "outputId": "aa48572f-8dbb-4afa-8305-08a219c564a8"
      },
      "execution_count": null,
      "outputs": [
        {
          "output_type": "stream",
          "name": "stdout",
          "text": [
            "TTTTT\n"
          ]
        }
      ]
    },
    {
      "cell_type": "code",
      "source": [
        "print(10*'Ha')"
      ],
      "metadata": {
        "id": "YJ9QmnLnBqba",
        "colab": {
          "base_uri": "https://localhost:8080/"
        },
        "outputId": "46edcf1a-d21e-4d6a-8d42-7000d1d78ee2"
      },
      "execution_count": null,
      "outputs": [
        {
          "output_type": "stream",
          "name": "stdout",
          "text": [
            "HaHaHaHaHaHaHaHaHaHa\n"
          ]
        }
      ]
    },
    {
      "cell_type": "markdown",
      "source": [
        "## Dictionary `{}`"
      ],
      "metadata": {
        "id": "y3kAc5llEkqp"
      }
    },
    {
      "cell_type": "code",
      "source": [
        "dict_a = {'ant':27, 'bee':25, 'cat':79}"
      ],
      "metadata": {
        "id": "ZaqjuhK6xQT1"
      },
      "execution_count": 8,
      "outputs": []
    },
    {
      "cell_type": "markdown",
      "source": [
        "# For วนซ้ำ"
      ],
      "metadata": {
        "id": "WzKNF7tQgxxC"
      }
    },
    {
      "cell_type": "markdown",
      "source": [
        "```\n",
        "for สมาชิกแต่ละตัว in list:\n",
        "    ทำอะไรซักอย่าง\n",
        "```"
      ],
      "metadata": {
        "id": "pGLXJ4F6jPyZ"
      }
    },
    {
      "cell_type": "code",
      "source": [
        "for i in [1,2,3,5,7] :\n",
        "  print(2*i,end=' ')"
      ],
      "metadata": {
        "id": "yWv5jK3NDKLa"
      },
      "execution_count": null,
      "outputs": []
    },
    {
      "cell_type": "markdown",
      "source": [
        "***\n",
        "**Quiz 2**\n",
        "\n",
        "print Ka 5 ครั้ง ต่อด้วย Ga อีก 10 ครั้ง แบบใช้ loop และ ขั้น Ka แต่ละตัวด้วย + ขั้น Ga แต่ละตัวด้วย x ขั้นระหว่าง Ka กับ Ga ด้วย % (อยู่ในบรรทัดเดียวกันทั้งหมด)"
      ],
      "metadata": {
        "id": "APmqR1RdBgya"
      }
    },
    {
      "cell_type": "code",
      "source": [
        "for i in range(5):\n",
        "  print('Ka',end='')\n",
        "  if i!=4:\n",
        "    print('+',end='')\n",
        "print('%',end='')\n",
        "for i in range(10):\n",
        "  print('Ga',end='')\n",
        "  if i!=9:\n",
        "    print('x',end='')"
      ],
      "metadata": {
        "id": "mEbvNRqYpSZZ"
      },
      "execution_count": null,
      "outputs": []
    },
    {
      "cell_type": "markdown",
      "source": [
        "### Int(eger) (จำนวนเต็ม)\n",
        "\n",
        "สำหรับการแสดงข้อมูลจำนวนเต็มเท่านั้น"
      ],
      "metadata": {
        "id": "nm_V6REpF_rN"
      }
    },
    {
      "cell_type": "code",
      "source": [
        "int_a = 7\n",
        "int_b = 2"
      ],
      "metadata": {
        "id": "WfDIV_xGFupZ"
      },
      "execution_count": null,
      "outputs": []
    },
    {
      "cell_type": "code",
      "source": [
        "print(type(int_a),type(int_b))"
      ],
      "metadata": {
        "id": "KbcyJutkGOdt"
      },
      "execution_count": null,
      "outputs": []
    },
    {
      "cell_type": "code",
      "source": [
        "int_c = int_a + int_b #assign the value as the output of operation\n",
        "print(int_c)"
      ],
      "metadata": {
        "id": "u7nN1IsnGW3Q"
      },
      "execution_count": null,
      "outputs": []
    },
    {
      "cell_type": "code",
      "source": [
        "6**3"
      ],
      "metadata": {
        "id": "0BhUPixuqXZ0"
      },
      "execution_count": null,
      "outputs": []
    },
    {
      "cell_type": "code",
      "source": [
        "2**0.5"
      ],
      "metadata": {
        "id": "V2rxnmznqzq5"
      },
      "execution_count": null,
      "outputs": []
    },
    {
      "cell_type": "markdown",
      "source": [
        "### Float (จำนวนจริง ทศนิยม)\n",
        "\n",
        "สำหรับการแสดงข้อมูลที่เป็นทศนิยมได้"
      ],
      "metadata": {
        "id": "mPMNOOD3GmWo"
      }
    },
    {
      "cell_type": "code",
      "source": [
        "fl_a = 7. #ใส่ . สามารถทำให้เป็นค่าทศนิยมได้\n",
        "fl_b = 2.571"
      ],
      "metadata": {
        "id": "7XZPSOy_GdgY"
      },
      "execution_count": null,
      "outputs": []
    },
    {
      "cell_type": "code",
      "source": [
        "print(type(fl_a),type(fl_b))"
      ],
      "metadata": {
        "id": "HYRCz1iAG-vm"
      },
      "execution_count": null,
      "outputs": []
    },
    {
      "cell_type": "code",
      "source": [
        "fl_a"
      ],
      "metadata": {
        "id": "DPRki3o2HKJz"
      },
      "execution_count": null,
      "outputs": []
    },
    {
      "cell_type": "code",
      "source": [
        "fl_b"
      ],
      "metadata": {
        "id": "JS_6KNb8HNGG"
      },
      "execution_count": null,
      "outputs": []
    },
    {
      "cell_type": "markdown",
      "source": [
        "###Boolean (ตัวแปรที่มีค่า true หรือ False) ตรรกศาสตร์มีแค่ 2 ค่าเท่านั้นคือ True และ False"
      ],
      "metadata": {
        "id": "BbsoMwn1HT7p"
      }
    },
    {
      "cell_type": "code",
      "source": [
        "b_T = True"
      ],
      "metadata": {
        "id": "AHwxT4uuHnO9"
      },
      "execution_count": null,
      "outputs": []
    },
    {
      "cell_type": "code",
      "source": [
        "b_F = False"
      ],
      "metadata": {
        "id": "tRFaz9SHHtfE"
      },
      "execution_count": null,
      "outputs": []
    },
    {
      "cell_type": "markdown",
      "source": [
        "all of equation (สัญลักษณ์สำหรับตรรกศาสตร์)\n",
        "\n",
        "```\n",
        "#numeric operands\n",
        "== is equal\n",
        "\n",
        "!= is not equal\n",
        "\n",
        "> is geater than\n",
        "\n",
        "<= is less than or equal\n",
        "\n",
        "#logic operands\n",
        "| is or\n",
        "\n",
        "& is and\n",
        "\n",
        "#other operands\n",
        "in ตรวจสอบสมาชิกใน list\n",
        "is ตรวจสอบชนิดตัวแปร\n",
        "```\n",
        "\n"
      ],
      "metadata": {
        "id": "kg8dghdFHwPx"
      }
    },
    {
      "cell_type": "code",
      "source": [
        "b_T | b_F"
      ],
      "metadata": {
        "id": "VYPNz4_1Hvj6"
      },
      "execution_count": null,
      "outputs": []
    },
    {
      "cell_type": "code",
      "source": [
        "b_T & b_F"
      ],
      "metadata": {
        "id": "HjccJPC0tWCi"
      },
      "execution_count": null,
      "outputs": []
    },
    {
      "cell_type": "code",
      "source": [
        "name = 'Khon Kaen University'\n",
        "print('T' in name)\n",
        "print('t' in name)"
      ],
      "metadata": {
        "id": "4Z3Q6ZPutdHJ"
      },
      "execution_count": null,
      "outputs": []
    },
    {
      "cell_type": "markdown",
      "source": [
        "### Complex number (จำนวนเชิงซ้อน)"
      ],
      "metadata": {
        "id": "nKDDMUcrIUiU"
      }
    },
    {
      "cell_type": "code",
      "source": [
        "x = 1+ 2j"
      ],
      "metadata": {
        "id": "cvZgCS4SIScD"
      },
      "execution_count": null,
      "outputs": []
    },
    {
      "cell_type": "code",
      "source": [
        "x"
      ],
      "metadata": {
        "id": "k1JTzDaeuHLS"
      },
      "execution_count": null,
      "outputs": []
    },
    {
      "cell_type": "markdown",
      "source": [
        "we can check the datatype with type()"
      ],
      "metadata": {
        "id": "j0KZNNl6IdSS"
      }
    },
    {
      "cell_type": "code",
      "source": [
        "print (f'variable x value is {x} and datatype is {type(x)}')"
      ],
      "metadata": {
        "id": "b5x8UpvwIbxY"
      },
      "execution_count": null,
      "outputs": []
    },
    {
      "cell_type": "code",
      "source": [
        "print (f'ตัวแปร A ค่าคือ {A} ชนิด {type(A)}')"
      ],
      "metadata": {
        "id": "XQQqGZLcIxxM"
      },
      "execution_count": null,
      "outputs": []
    },
    {
      "cell_type": "code",
      "source": [
        "print (f'ตัวแปร a ค่าคือ {a} ชนิด {type(a)}')"
      ],
      "metadata": {
        "id": "ItVhvTShI5ek"
      },
      "execution_count": null,
      "outputs": []
    },
    {
      "cell_type": "markdown",
      "source": [
        "##การแปลงชนิดของตัวแปร (Variable Casting)"
      ],
      "metadata": {
        "id": "joXu_ngYJQJ3"
      }
    },
    {
      "cell_type": "code",
      "source": [
        "print(f'int a = {int_a} int_b = {int_b} Fl_a {fl_a} Fl_b={fl_b}')"
      ],
      "metadata": {
        "id": "j5Pej_rkJPwh"
      },
      "execution_count": null,
      "outputs": []
    },
    {
      "cell_type": "code",
      "source": [
        "str_a = '6'\n",
        "str_b = '-2'"
      ],
      "metadata": {
        "id": "4m5QSvrVJ5TR"
      },
      "execution_count": null,
      "outputs": []
    },
    {
      "cell_type": "code",
      "source": [
        "str_a2int = int(str_a) # Transform string into int แปลงค่าจาก String เป็น int\n",
        "print(f'ตัวแปร str_a2int ค่าคือ {str_a2int} ชนิด {type(str_a2int)}')"
      ],
      "metadata": {
        "id": "G2S-qjanJ_4A"
      },
      "execution_count": null,
      "outputs": []
    },
    {
      "cell_type": "code",
      "source": [
        "str_a2int + int_a"
      ],
      "metadata": {
        "id": "_KFJn3ZvKWuz"
      },
      "execution_count": null,
      "outputs": []
    },
    {
      "cell_type": "code",
      "source": [
        "str_a + int_a #ไม่สามารถนำ string + int ได้"
      ],
      "metadata": {
        "id": "NyZfTn8DKibW"
      },
      "execution_count": null,
      "outputs": []
    },
    {
      "cell_type": "code",
      "source": [
        "str(fl_b) #transform float to string แปลงค่าจาก Float เป็น string ได้"
      ],
      "metadata": {
        "id": "JeVH4S4AKq6S"
      },
      "execution_count": null,
      "outputs": []
    },
    {
      "cell_type": "code",
      "source": [
        "int(fl_b) #transform float to int (but it will cut te floating point) แปลงค่าจาก float เป็น int ได้แต่จะตัดจุดทศนิยมออกไป"
      ],
      "metadata": {
        "id": "QTiKLXKSLPHu"
      },
      "execution_count": null,
      "outputs": []
    },
    {
      "cell_type": "markdown",
      "source": [
        "# More about string"
      ],
      "metadata": {
        "id": "ITh167pN7Yw5"
      }
    },
    {
      "cell_type": "markdown",
      "source": [
        "## Replace() แทนที่ character ใน String"
      ],
      "metadata": {
        "id": "8YFNUDO4LmdQ"
      }
    },
    {
      "cell_type": "markdown",
      "source": [
        "การแปลงค่าด้วยข้อมูล String"
      ],
      "metadata": {
        "id": "cmoF4NRwRRtl"
      }
    },
    {
      "cell_type": "code",
      "source": [
        "st_test1 = 'Department of Statistics,'"
      ],
      "metadata": {
        "id": "CL-j3LuCLVn9"
      },
      "execution_count": null,
      "outputs": []
    },
    {
      "cell_type": "code",
      "source": [
        "st_test1.replace('e',' ') #replace e with space แทน e ด้วยช่องว่าง"
      ],
      "metadata": {
        "id": "JnP8RDvtMPEY"
      },
      "execution_count": null,
      "outputs": []
    },
    {
      "cell_type": "code",
      "source": [
        "st_test1"
      ],
      "metadata": {
        "id": "ID_umjiYNGjY"
      },
      "execution_count": null,
      "outputs": []
    },
    {
      "cell_type": "code",
      "source": [
        "st_test2 = st_test1.replace('e',' ')"
      ],
      "metadata": {
        "id": "rYUU_OLcMZJt"
      },
      "execution_count": null,
      "outputs": []
    },
    {
      "cell_type": "code",
      "source": [
        "st_test2"
      ],
      "metadata": {
        "id": "NCY7ZBvFMrvi"
      },
      "execution_count": null,
      "outputs": []
    },
    {
      "cell_type": "code",
      "source": [
        "st_test1.replace('ti','TI') # Modify ti to TI เปลี่ยน ti เป็น TI"
      ],
      "metadata": {
        "id": "rXQkaJW_ND8e"
      },
      "execution_count": null,
      "outputs": []
    },
    {
      "cell_type": "markdown",
      "source": [
        "## split() แยก string"
      ],
      "metadata": {
        "id": "E29yNtS1OM3S"
      }
    },
    {
      "cell_type": "markdown",
      "source": [
        "การแยกข้อมูลไว้สำหรับตัดข้อมูลออกซึ่งจะเก็บในรูปแบบ list"
      ],
      "metadata": {
        "id": "JNejsy9MRcOQ"
      }
    },
    {
      "cell_type": "code",
      "source": [
        "'a b c d e f g'.split() #ตัด string ที่ช่องว่าง"
      ],
      "metadata": {
        "id": "sSInuCufNrJ8"
      },
      "execution_count": null,
      "outputs": []
    },
    {
      "cell_type": "code",
      "source": [
        "'abc de fg'.split() # แยกด้วย ช่องว่าง"
      ],
      "metadata": {
        "id": "QnXAFBSzObln"
      },
      "execution_count": null,
      "outputs": []
    },
    {
      "cell_type": "code",
      "source": [
        "'a,b/c,d e/f g'.split('/') # แยกด้วย /"
      ],
      "metadata": {
        "id": "LAj0aYmuOs4O"
      },
      "execution_count": null,
      "outputs": []
    },
    {
      "cell_type": "markdown",
      "source": [
        "# Quiz 3\n",
        "\n",
        "แยก ```'a,b/c,d e/f g'``` ออกมาเป็น list -> ```['a','b','c','d','e','f','g']```"
      ],
      "metadata": {
        "id": "npRrR5sFyJjG"
      }
    },
    {
      "cell_type": "code",
      "source": [
        "# Replace delimiters with a common character\n",
        "text = 'a,b/c,d e/f g'\n",
        "text_modified = text.replace('/', ' ').replace(',', ' ')\n",
        "\n",
        "# Split the string\n",
        "result = text_modified.split()\n",
        "print(result)  # Output: ['a', 'b', 'c', 'd', 'e', 'f', 'g']"
      ],
      "metadata": {
        "id": "ixPk7QoT3de8"
      },
      "execution_count": null,
      "outputs": []
    },
    {
      "cell_type": "code",
      "source": [],
      "metadata": {
        "id": "6iOMbe7k3ZJz"
      },
      "execution_count": null,
      "outputs": []
    }
  ]
}