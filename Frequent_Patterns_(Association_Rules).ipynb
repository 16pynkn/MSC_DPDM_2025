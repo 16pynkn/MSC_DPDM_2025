{
  "nbformat": 4,
  "nbformat_minor": 0,
  "metadata": {
    "colab": {
      "provenance": [],
      "collapsed_sections": [
        "JstLxHG8y5Uw"
      ],
      "toc_visible": true,
      "include_colab_link": true
    },
    "kernelspec": {
      "name": "python3",
      "display_name": "Python 3"
    },
    "language_info": {
      "name": "python"
    }
  },
  "cells": [
    {
      "cell_type": "markdown",
      "metadata": {
        "id": "view-in-github",
        "colab_type": "text"
      },
      "source": [
        "<a href=\"https://colab.research.google.com/github/16pynkn/MSC_DPDM_2025/blob/main/Frequent_Patterns_(Association_Rules).ipynb\" target=\"_parent\"><img src=\"https://colab.research.google.com/assets/colab-badge.svg\" alt=\"Open In Colab\"/></a>"
      ]
    },
    {
      "cell_type": "code",
      "metadata": {
        "id": "KZmRixV_o0Jw"
      },
      "source": [
        "import pandas as pd\n",
        "import os"
      ],
      "execution_count": null,
      "outputs": []
    },
    {
      "cell_type": "code",
      "metadata": {
        "colab": {
          "base_uri": "https://localhost:8080/"
        },
        "id": "BZaeBFmzp6zA",
        "outputId": "3b8edd05-2d87-4a10-c6b0-1ede221a9b53"
      },
      "source": [
        "from google.colab import drive\n",
        "drive.mount('/content/drive')"
      ],
      "execution_count": null,
      "outputs": [
        {
          "output_type": "stream",
          "name": "stdout",
          "text": [
            "Mounted at /content/drive\n"
          ]
        }
      ]
    },
    {
      "cell_type": "code",
      "source": [
        "path = '/content/drive/MyDrive/Dataset_dpdm25'"
      ],
      "metadata": {
        "id": "krbEDi1CijTV"
      },
      "execution_count": null,
      "outputs": []
    },
    {
      "cell_type": "code",
      "metadata": {
        "id": "ikJazGz6qAn7"
      },
      "source": [
        "data = pd.read_csv(os.path.join(path,'reduced_marketbasket.csv'),encoding='latin-1') #encoding= 'latin-1' bc. มีภาษาที่เป็นจุด ๆ บนหัวทำให้ข้อมมูลเละ"
      ],
      "execution_count": null,
      "outputs": []
    },
    {
      "cell_type": "code",
      "metadata": {
        "colab": {
          "base_uri": "https://localhost:8080/",
          "height": 352
        },
        "id": "vVP_s3oxqNnU",
        "outputId": "3677bfa6-66c7-4ddb-9fb1-51b73fd957bf"
      },
      "source": [
        "data"
      ],
      "execution_count": null,
      "outputs": [
        {
          "output_type": "execute_result",
          "data": {
            "text/plain": [
              "       InvoiceNo StockCode                          Description  Quantity  \\\n",
              "0         536365    85123A   WHITE HANGING HEART T-LIGHT HOLDER         6   \n",
              "1         536365     71053                  WHITE METAL LANTERN         6   \n",
              "2         536365    84406B       CREAM CUPID HEARTS COAT HANGER         8   \n",
              "3         536365    84029G  KNITTED UNION FLAG HOT WATER BOTTLE         6   \n",
              "4         536365    84029E       RED WOOLLY HOTTIE WHITE HEART.         6   \n",
              "...          ...       ...                                  ...       ...   \n",
              "541904    581587     22613          PACK OF 20 SPACEBOY NAPKINS        12   \n",
              "541905    581587     22899         CHILDREN'S APRON DOLLY GIRL          6   \n",
              "541906    581587     23254        CHILDRENS CUTLERY DOLLY GIRL          4   \n",
              "541907    581587     23255      CHILDRENS CUTLERY CIRCUS PARADE         4   \n",
              "541908    581587     22138        BAKING SET 9 PIECE RETROSPOT          3   \n",
              "\n",
              "             InvoiceDate  UnitPrice  CustomerID         Country  \n",
              "0       12/01/2010 08:26       2.55     17850.0  United Kingdom  \n",
              "1       12/01/2010 08:26       3.39     17850.0  United Kingdom  \n",
              "2       12/01/2010 08:26       2.75     17850.0  United Kingdom  \n",
              "3       12/01/2010 08:26       3.39     17850.0  United Kingdom  \n",
              "4       12/01/2010 08:26       3.39     17850.0  United Kingdom  \n",
              "...                  ...        ...         ...             ...  \n",
              "541904  12/09/2011 12:50       0.85     12680.0          France  \n",
              "541905  12/09/2011 12:50       2.10     12680.0          France  \n",
              "541906  12/09/2011 12:50       4.15     12680.0          France  \n",
              "541907  12/09/2011 12:50       4.15     12680.0          France  \n",
              "541908  12/09/2011 12:50       4.95     12680.0          France  \n",
              "\n",
              "[541909 rows x 8 columns]"
            ],
            "text/html": [
              "\n",
              "  <div id=\"df-6e7e9cbf-36d2-46f7-b42a-8f132cb8b54f\" class=\"colab-df-container\">\n",
              "    <div>\n",
              "<style scoped>\n",
              "    .dataframe tbody tr th:only-of-type {\n",
              "        vertical-align: middle;\n",
              "    }\n",
              "\n",
              "    .dataframe tbody tr th {\n",
              "        vertical-align: top;\n",
              "    }\n",
              "\n",
              "    .dataframe thead th {\n",
              "        text-align: right;\n",
              "    }\n",
              "</style>\n",
              "<table border=\"1\" class=\"dataframe\">\n",
              "  <thead>\n",
              "    <tr style=\"text-align: right;\">\n",
              "      <th></th>\n",
              "      <th>InvoiceNo</th>\n",
              "      <th>StockCode</th>\n",
              "      <th>Description</th>\n",
              "      <th>Quantity</th>\n",
              "      <th>InvoiceDate</th>\n",
              "      <th>UnitPrice</th>\n",
              "      <th>CustomerID</th>\n",
              "      <th>Country</th>\n",
              "    </tr>\n",
              "  </thead>\n",
              "  <tbody>\n",
              "    <tr>\n",
              "      <th>0</th>\n",
              "      <td>536365</td>\n",
              "      <td>85123A</td>\n",
              "      <td>WHITE HANGING HEART T-LIGHT HOLDER</td>\n",
              "      <td>6</td>\n",
              "      <td>12/01/2010 08:26</td>\n",
              "      <td>2.55</td>\n",
              "      <td>17850.0</td>\n",
              "      <td>United Kingdom</td>\n",
              "    </tr>\n",
              "    <tr>\n",
              "      <th>1</th>\n",
              "      <td>536365</td>\n",
              "      <td>71053</td>\n",
              "      <td>WHITE METAL LANTERN</td>\n",
              "      <td>6</td>\n",
              "      <td>12/01/2010 08:26</td>\n",
              "      <td>3.39</td>\n",
              "      <td>17850.0</td>\n",
              "      <td>United Kingdom</td>\n",
              "    </tr>\n",
              "    <tr>\n",
              "      <th>2</th>\n",
              "      <td>536365</td>\n",
              "      <td>84406B</td>\n",
              "      <td>CREAM CUPID HEARTS COAT HANGER</td>\n",
              "      <td>8</td>\n",
              "      <td>12/01/2010 08:26</td>\n",
              "      <td>2.75</td>\n",
              "      <td>17850.0</td>\n",
              "      <td>United Kingdom</td>\n",
              "    </tr>\n",
              "    <tr>\n",
              "      <th>3</th>\n",
              "      <td>536365</td>\n",
              "      <td>84029G</td>\n",
              "      <td>KNITTED UNION FLAG HOT WATER BOTTLE</td>\n",
              "      <td>6</td>\n",
              "      <td>12/01/2010 08:26</td>\n",
              "      <td>3.39</td>\n",
              "      <td>17850.0</td>\n",
              "      <td>United Kingdom</td>\n",
              "    </tr>\n",
              "    <tr>\n",
              "      <th>4</th>\n",
              "      <td>536365</td>\n",
              "      <td>84029E</td>\n",
              "      <td>RED WOOLLY HOTTIE WHITE HEART.</td>\n",
              "      <td>6</td>\n",
              "      <td>12/01/2010 08:26</td>\n",
              "      <td>3.39</td>\n",
              "      <td>17850.0</td>\n",
              "      <td>United Kingdom</td>\n",
              "    </tr>\n",
              "    <tr>\n",
              "      <th>...</th>\n",
              "      <td>...</td>\n",
              "      <td>...</td>\n",
              "      <td>...</td>\n",
              "      <td>...</td>\n",
              "      <td>...</td>\n",
              "      <td>...</td>\n",
              "      <td>...</td>\n",
              "      <td>...</td>\n",
              "    </tr>\n",
              "    <tr>\n",
              "      <th>541904</th>\n",
              "      <td>581587</td>\n",
              "      <td>22613</td>\n",
              "      <td>PACK OF 20 SPACEBOY NAPKINS</td>\n",
              "      <td>12</td>\n",
              "      <td>12/09/2011 12:50</td>\n",
              "      <td>0.85</td>\n",
              "      <td>12680.0</td>\n",
              "      <td>France</td>\n",
              "    </tr>\n",
              "    <tr>\n",
              "      <th>541905</th>\n",
              "      <td>581587</td>\n",
              "      <td>22899</td>\n",
              "      <td>CHILDREN'S APRON DOLLY GIRL</td>\n",
              "      <td>6</td>\n",
              "      <td>12/09/2011 12:50</td>\n",
              "      <td>2.10</td>\n",
              "      <td>12680.0</td>\n",
              "      <td>France</td>\n",
              "    </tr>\n",
              "    <tr>\n",
              "      <th>541906</th>\n",
              "      <td>581587</td>\n",
              "      <td>23254</td>\n",
              "      <td>CHILDRENS CUTLERY DOLLY GIRL</td>\n",
              "      <td>4</td>\n",
              "      <td>12/09/2011 12:50</td>\n",
              "      <td>4.15</td>\n",
              "      <td>12680.0</td>\n",
              "      <td>France</td>\n",
              "    </tr>\n",
              "    <tr>\n",
              "      <th>541907</th>\n",
              "      <td>581587</td>\n",
              "      <td>23255</td>\n",
              "      <td>CHILDRENS CUTLERY CIRCUS PARADE</td>\n",
              "      <td>4</td>\n",
              "      <td>12/09/2011 12:50</td>\n",
              "      <td>4.15</td>\n",
              "      <td>12680.0</td>\n",
              "      <td>France</td>\n",
              "    </tr>\n",
              "    <tr>\n",
              "      <th>541908</th>\n",
              "      <td>581587</td>\n",
              "      <td>22138</td>\n",
              "      <td>BAKING SET 9 PIECE RETROSPOT</td>\n",
              "      <td>3</td>\n",
              "      <td>12/09/2011 12:50</td>\n",
              "      <td>4.95</td>\n",
              "      <td>12680.0</td>\n",
              "      <td>France</td>\n",
              "    </tr>\n",
              "  </tbody>\n",
              "</table>\n",
              "<p>541909 rows × 8 columns</p>\n",
              "</div>\n",
              "    <div class=\"colab-df-buttons\">\n",
              "\n",
              "  <div class=\"colab-df-container\">\n",
              "    <button class=\"colab-df-convert\" onclick=\"convertToInteractive('df-6e7e9cbf-36d2-46f7-b42a-8f132cb8b54f')\"\n",
              "            title=\"Convert this dataframe to an interactive table.\"\n",
              "            style=\"display:none;\">\n",
              "\n",
              "  <svg xmlns=\"http://www.w3.org/2000/svg\" height=\"24px\" viewBox=\"0 -960 960 960\">\n",
              "    <path d=\"M120-120v-720h720v720H120Zm60-500h600v-160H180v160Zm220 220h160v-160H400v160Zm0 220h160v-160H400v160ZM180-400h160v-160H180v160Zm440 0h160v-160H620v160ZM180-180h160v-160H180v160Zm440 0h160v-160H620v160Z\"/>\n",
              "  </svg>\n",
              "    </button>\n",
              "\n",
              "  <style>\n",
              "    .colab-df-container {\n",
              "      display:flex;\n",
              "      gap: 12px;\n",
              "    }\n",
              "\n",
              "    .colab-df-convert {\n",
              "      background-color: #E8F0FE;\n",
              "      border: none;\n",
              "      border-radius: 50%;\n",
              "      cursor: pointer;\n",
              "      display: none;\n",
              "      fill: #1967D2;\n",
              "      height: 32px;\n",
              "      padding: 0 0 0 0;\n",
              "      width: 32px;\n",
              "    }\n",
              "\n",
              "    .colab-df-convert:hover {\n",
              "      background-color: #E2EBFA;\n",
              "      box-shadow: 0px 1px 2px rgba(60, 64, 67, 0.3), 0px 1px 3px 1px rgba(60, 64, 67, 0.15);\n",
              "      fill: #174EA6;\n",
              "    }\n",
              "\n",
              "    .colab-df-buttons div {\n",
              "      margin-bottom: 4px;\n",
              "    }\n",
              "\n",
              "    [theme=dark] .colab-df-convert {\n",
              "      background-color: #3B4455;\n",
              "      fill: #D2E3FC;\n",
              "    }\n",
              "\n",
              "    [theme=dark] .colab-df-convert:hover {\n",
              "      background-color: #434B5C;\n",
              "      box-shadow: 0px 1px 3px 1px rgba(0, 0, 0, 0.15);\n",
              "      filter: drop-shadow(0px 1px 2px rgba(0, 0, 0, 0.3));\n",
              "      fill: #FFFFFF;\n",
              "    }\n",
              "  </style>\n",
              "\n",
              "    <script>\n",
              "      const buttonEl =\n",
              "        document.querySelector('#df-6e7e9cbf-36d2-46f7-b42a-8f132cb8b54f button.colab-df-convert');\n",
              "      buttonEl.style.display =\n",
              "        google.colab.kernel.accessAllowed ? 'block' : 'none';\n",
              "\n",
              "      async function convertToInteractive(key) {\n",
              "        const element = document.querySelector('#df-6e7e9cbf-36d2-46f7-b42a-8f132cb8b54f');\n",
              "        const dataTable =\n",
              "          await google.colab.kernel.invokeFunction('convertToInteractive',\n",
              "                                                    [key], {});\n",
              "        if (!dataTable) return;\n",
              "\n",
              "        const docLinkHtml = 'Like what you see? Visit the ' +\n",
              "          '<a target=\"_blank\" href=https://colab.research.google.com/notebooks/data_table.ipynb>data table notebook</a>'\n",
              "          + ' to learn more about interactive tables.';\n",
              "        element.innerHTML = '';\n",
              "        dataTable['output_type'] = 'display_data';\n",
              "        await google.colab.output.renderOutput(dataTable, element);\n",
              "        const docLink = document.createElement('div');\n",
              "        docLink.innerHTML = docLinkHtml;\n",
              "        element.appendChild(docLink);\n",
              "      }\n",
              "    </script>\n",
              "  </div>\n",
              "\n",
              "\n",
              "    <div id=\"df-9e2eaf33-aabb-4e88-8399-4ba863e5f11e\">\n",
              "      <button class=\"colab-df-quickchart\" onclick=\"quickchart('df-9e2eaf33-aabb-4e88-8399-4ba863e5f11e')\"\n",
              "                title=\"Suggest charts\"\n",
              "                style=\"display:none;\">\n",
              "\n",
              "<svg xmlns=\"http://www.w3.org/2000/svg\" height=\"24px\"viewBox=\"0 0 24 24\"\n",
              "     width=\"24px\">\n",
              "    <g>\n",
              "        <path d=\"M19 3H5c-1.1 0-2 .9-2 2v14c0 1.1.9 2 2 2h14c1.1 0 2-.9 2-2V5c0-1.1-.9-2-2-2zM9 17H7v-7h2v7zm4 0h-2V7h2v10zm4 0h-2v-4h2v4z\"/>\n",
              "    </g>\n",
              "</svg>\n",
              "      </button>\n",
              "\n",
              "<style>\n",
              "  .colab-df-quickchart {\n",
              "      --bg-color: #E8F0FE;\n",
              "      --fill-color: #1967D2;\n",
              "      --hover-bg-color: #E2EBFA;\n",
              "      --hover-fill-color: #174EA6;\n",
              "      --disabled-fill-color: #AAA;\n",
              "      --disabled-bg-color: #DDD;\n",
              "  }\n",
              "\n",
              "  [theme=dark] .colab-df-quickchart {\n",
              "      --bg-color: #3B4455;\n",
              "      --fill-color: #D2E3FC;\n",
              "      --hover-bg-color: #434B5C;\n",
              "      --hover-fill-color: #FFFFFF;\n",
              "      --disabled-bg-color: #3B4455;\n",
              "      --disabled-fill-color: #666;\n",
              "  }\n",
              "\n",
              "  .colab-df-quickchart {\n",
              "    background-color: var(--bg-color);\n",
              "    border: none;\n",
              "    border-radius: 50%;\n",
              "    cursor: pointer;\n",
              "    display: none;\n",
              "    fill: var(--fill-color);\n",
              "    height: 32px;\n",
              "    padding: 0;\n",
              "    width: 32px;\n",
              "  }\n",
              "\n",
              "  .colab-df-quickchart:hover {\n",
              "    background-color: var(--hover-bg-color);\n",
              "    box-shadow: 0 1px 2px rgba(60, 64, 67, 0.3), 0 1px 3px 1px rgba(60, 64, 67, 0.15);\n",
              "    fill: var(--button-hover-fill-color);\n",
              "  }\n",
              "\n",
              "  .colab-df-quickchart-complete:disabled,\n",
              "  .colab-df-quickchart-complete:disabled:hover {\n",
              "    background-color: var(--disabled-bg-color);\n",
              "    fill: var(--disabled-fill-color);\n",
              "    box-shadow: none;\n",
              "  }\n",
              "\n",
              "  .colab-df-spinner {\n",
              "    border: 2px solid var(--fill-color);\n",
              "    border-color: transparent;\n",
              "    border-bottom-color: var(--fill-color);\n",
              "    animation:\n",
              "      spin 1s steps(1) infinite;\n",
              "  }\n",
              "\n",
              "  @keyframes spin {\n",
              "    0% {\n",
              "      border-color: transparent;\n",
              "      border-bottom-color: var(--fill-color);\n",
              "      border-left-color: var(--fill-color);\n",
              "    }\n",
              "    20% {\n",
              "      border-color: transparent;\n",
              "      border-left-color: var(--fill-color);\n",
              "      border-top-color: var(--fill-color);\n",
              "    }\n",
              "    30% {\n",
              "      border-color: transparent;\n",
              "      border-left-color: var(--fill-color);\n",
              "      border-top-color: var(--fill-color);\n",
              "      border-right-color: var(--fill-color);\n",
              "    }\n",
              "    40% {\n",
              "      border-color: transparent;\n",
              "      border-right-color: var(--fill-color);\n",
              "      border-top-color: var(--fill-color);\n",
              "    }\n",
              "    60% {\n",
              "      border-color: transparent;\n",
              "      border-right-color: var(--fill-color);\n",
              "    }\n",
              "    80% {\n",
              "      border-color: transparent;\n",
              "      border-right-color: var(--fill-color);\n",
              "      border-bottom-color: var(--fill-color);\n",
              "    }\n",
              "    90% {\n",
              "      border-color: transparent;\n",
              "      border-bottom-color: var(--fill-color);\n",
              "    }\n",
              "  }\n",
              "</style>\n",
              "\n",
              "      <script>\n",
              "        async function quickchart(key) {\n",
              "          const quickchartButtonEl =\n",
              "            document.querySelector('#' + key + ' button');\n",
              "          quickchartButtonEl.disabled = true;  // To prevent multiple clicks.\n",
              "          quickchartButtonEl.classList.add('colab-df-spinner');\n",
              "          try {\n",
              "            const charts = await google.colab.kernel.invokeFunction(\n",
              "                'suggestCharts', [key], {});\n",
              "          } catch (error) {\n",
              "            console.error('Error during call to suggestCharts:', error);\n",
              "          }\n",
              "          quickchartButtonEl.classList.remove('colab-df-spinner');\n",
              "          quickchartButtonEl.classList.add('colab-df-quickchart-complete');\n",
              "        }\n",
              "        (() => {\n",
              "          let quickchartButtonEl =\n",
              "            document.querySelector('#df-9e2eaf33-aabb-4e88-8399-4ba863e5f11e button');\n",
              "          quickchartButtonEl.style.display =\n",
              "            google.colab.kernel.accessAllowed ? 'block' : 'none';\n",
              "        })();\n",
              "      </script>\n",
              "    </div>\n",
              "\n",
              "  <div id=\"id_60f8e654-17ac-4247-b17c-7654fe63f7a7\">\n",
              "    <style>\n",
              "      .colab-df-generate {\n",
              "        background-color: #E8F0FE;\n",
              "        border: none;\n",
              "        border-radius: 50%;\n",
              "        cursor: pointer;\n",
              "        display: none;\n",
              "        fill: #1967D2;\n",
              "        height: 32px;\n",
              "        padding: 0 0 0 0;\n",
              "        width: 32px;\n",
              "      }\n",
              "\n",
              "      .colab-df-generate:hover {\n",
              "        background-color: #E2EBFA;\n",
              "        box-shadow: 0px 1px 2px rgba(60, 64, 67, 0.3), 0px 1px 3px 1px rgba(60, 64, 67, 0.15);\n",
              "        fill: #174EA6;\n",
              "      }\n",
              "\n",
              "      [theme=dark] .colab-df-generate {\n",
              "        background-color: #3B4455;\n",
              "        fill: #D2E3FC;\n",
              "      }\n",
              "\n",
              "      [theme=dark] .colab-df-generate:hover {\n",
              "        background-color: #434B5C;\n",
              "        box-shadow: 0px 1px 3px 1px rgba(0, 0, 0, 0.15);\n",
              "        filter: drop-shadow(0px 1px 2px rgba(0, 0, 0, 0.3));\n",
              "        fill: #FFFFFF;\n",
              "      }\n",
              "    </style>\n",
              "    <button class=\"colab-df-generate\" onclick=\"generateWithVariable('data')\"\n",
              "            title=\"Generate code using this dataframe.\"\n",
              "            style=\"display:none;\">\n",
              "\n",
              "  <svg xmlns=\"http://www.w3.org/2000/svg\" height=\"24px\"viewBox=\"0 0 24 24\"\n",
              "       width=\"24px\">\n",
              "    <path d=\"M7,19H8.4L18.45,9,17,7.55,7,17.6ZM5,21V16.75L18.45,3.32a2,2,0,0,1,2.83,0l1.4,1.43a1.91,1.91,0,0,1,.58,1.4,1.91,1.91,0,0,1-.58,1.4L9.25,21ZM18.45,9,17,7.55Zm-12,3A5.31,5.31,0,0,0,4.9,8.1,5.31,5.31,0,0,0,1,6.5,5.31,5.31,0,0,0,4.9,4.9,5.31,5.31,0,0,0,6.5,1,5.31,5.31,0,0,0,8.1,4.9,5.31,5.31,0,0,0,12,6.5,5.46,5.46,0,0,0,6.5,12Z\"/>\n",
              "  </svg>\n",
              "    </button>\n",
              "    <script>\n",
              "      (() => {\n",
              "      const buttonEl =\n",
              "        document.querySelector('#id_60f8e654-17ac-4247-b17c-7654fe63f7a7 button.colab-df-generate');\n",
              "      buttonEl.style.display =\n",
              "        google.colab.kernel.accessAllowed ? 'block' : 'none';\n",
              "\n",
              "      buttonEl.onclick = () => {\n",
              "        google.colab.notebook.generateWithVariable('data');\n",
              "      }\n",
              "      })();\n",
              "    </script>\n",
              "  </div>\n",
              "\n",
              "    </div>\n",
              "  </div>\n"
            ],
            "application/vnd.google.colaboratory.intrinsic+json": {
              "type": "dataframe",
              "variable_name": "data"
            }
          },
          "metadata": {},
          "execution_count": 5
        }
      ]
    },
    {
      "cell_type": "code",
      "source": [
        "data.isnull().any()"
      ],
      "metadata": {
        "colab": {
          "base_uri": "https://localhost:8080/",
          "height": 277
        },
        "id": "UzHyVCoQtm5U",
        "outputId": "ddb1a9c9-cf3c-426c-cdd2-b7d82b50b07a"
      },
      "execution_count": null,
      "outputs": [
        {
          "output_type": "execute_result",
          "data": {
            "text/plain": [
              "InvoiceNo      False\n",
              "StockCode      False\n",
              "Description     True\n",
              "Quantity       False\n",
              "InvoiceDate    False\n",
              "UnitPrice      False\n",
              "CustomerID      True\n",
              "Country        False\n",
              "dtype: bool"
            ],
            "text/html": [
              "<div>\n",
              "<style scoped>\n",
              "    .dataframe tbody tr th:only-of-type {\n",
              "        vertical-align: middle;\n",
              "    }\n",
              "\n",
              "    .dataframe tbody tr th {\n",
              "        vertical-align: top;\n",
              "    }\n",
              "\n",
              "    .dataframe thead th {\n",
              "        text-align: right;\n",
              "    }\n",
              "</style>\n",
              "<table border=\"1\" class=\"dataframe\">\n",
              "  <thead>\n",
              "    <tr style=\"text-align: right;\">\n",
              "      <th></th>\n",
              "      <th>0</th>\n",
              "    </tr>\n",
              "  </thead>\n",
              "  <tbody>\n",
              "    <tr>\n",
              "      <th>InvoiceNo</th>\n",
              "      <td>False</td>\n",
              "    </tr>\n",
              "    <tr>\n",
              "      <th>StockCode</th>\n",
              "      <td>False</td>\n",
              "    </tr>\n",
              "    <tr>\n",
              "      <th>Description</th>\n",
              "      <td>True</td>\n",
              "    </tr>\n",
              "    <tr>\n",
              "      <th>Quantity</th>\n",
              "      <td>False</td>\n",
              "    </tr>\n",
              "    <tr>\n",
              "      <th>InvoiceDate</th>\n",
              "      <td>False</td>\n",
              "    </tr>\n",
              "    <tr>\n",
              "      <th>UnitPrice</th>\n",
              "      <td>False</td>\n",
              "    </tr>\n",
              "    <tr>\n",
              "      <th>CustomerID</th>\n",
              "      <td>True</td>\n",
              "    </tr>\n",
              "    <tr>\n",
              "      <th>Country</th>\n",
              "      <td>False</td>\n",
              "    </tr>\n",
              "  </tbody>\n",
              "</table>\n",
              "</div><br><label><b>dtype:</b> bool</label>"
            ]
          },
          "metadata": {},
          "execution_count": 6
        }
      ]
    },
    {
      "cell_type": "code",
      "source": [
        "data.info()"
      ],
      "metadata": {
        "colab": {
          "base_uri": "https://localhost:8080/"
        },
        "id": "Z2UMEkMQxiRl",
        "outputId": "0f859248-34b7-4ffa-b08e-236c553bb8d7"
      },
      "execution_count": null,
      "outputs": [
        {
          "output_type": "stream",
          "name": "stdout",
          "text": [
            "<class 'pandas.core.frame.DataFrame'>\n",
            "RangeIndex: 541909 entries, 0 to 541908\n",
            "Data columns (total 8 columns):\n",
            " #   Column       Non-Null Count   Dtype  \n",
            "---  ------       --------------   -----  \n",
            " 0   InvoiceNo    541909 non-null  object \n",
            " 1   StockCode    541909 non-null  object \n",
            " 2   Description  540455 non-null  object \n",
            " 3   Quantity     541909 non-null  int64  \n",
            " 4   InvoiceDate  541909 non-null  object \n",
            " 5   UnitPrice    541909 non-null  float64\n",
            " 6   CustomerID   406829 non-null  float64\n",
            " 7   Country      541909 non-null  object \n",
            "dtypes: float64(2), int64(1), object(5)\n",
            "memory usage: 33.1+ MB\n"
          ]
        }
      ]
    },
    {
      "cell_type": "markdown",
      "source": [
        "## การเตรียมข้อมูลสำหรับ Apriori Algorithm"
      ],
      "metadata": {
        "id": "z2SfJsQvRuzq"
      }
    },
    {
      "cell_type": "markdown",
      "source": [
        "ข้อมูลที่ใช้มักจะอยู่ในรูปแบบของธุรกรรม (Transactions) โดยแต่ละธุรกรรมจะประกอบไปด้วยชุดของรายการ (Item)"
      ],
      "metadata": {
        "id": "r9qB7RGwR9yD"
      }
    },
    {
      "cell_type": "markdown",
      "source": [
        "InvoiceNo = รหัสใบเสร็จ, StockCode = รหัสสินค้า, Description = คำอธิบายรายการสินค้า, Quantity = จำนวนชิ้น, InvoiceDate = วันที่ซื้อ, UnitPrice = ราคาต่อหน่วย, CustomerID = รหัสสมาชิกลูกค้า, Country = ประเทศที่ตั้ง กรณีมีหลายสาขา"
      ],
      "metadata": {
        "id": "7fFZhPmwO-hN"
      }
    },
    {
      "cell_type": "code",
      "source": [
        "transactions = data.groupby('InvoiceNo')['StockCode'].apply(list) #จัดกลุ่มแล้วสร้างเป็น list #รวม ให้สินค้ารหัสใบเสร็จเดียวกันมาอยู่ด้วยกัน # จัดกลุ่มข้อมูล .apply(func  ที่จะทำ)"
      ],
      "metadata": {
        "id": "24vlB3XrNBm7"
      },
      "execution_count": null,
      "outputs": []
    },
    {
      "cell_type": "code",
      "source": [
        "transactions"
      ],
      "metadata": {
        "colab": {
          "base_uri": "https://localhost:8080/",
          "height": 406
        },
        "id": "k6arVhRihbOp",
        "outputId": "5429b84e-97d9-42e1-bfcf-0df168233552"
      },
      "execution_count": null,
      "outputs": [
        {
          "output_type": "execute_result",
          "data": {
            "text/plain": [
              "InvoiceNo\n",
              "536365     [85123A, 71053, 84406B, 84029G, 84029E, 22752,...\n",
              "536366                                        [22633, 22632]\n",
              "536367     [84879, 22745, 22748, 22749, 22310, 84969, 226...\n",
              "536368                          [22960, 22913, 22912, 22914]\n",
              "536369                                               [21756]\n",
              "                                 ...                        \n",
              "C581484                                              [23843]\n",
              "C581490                                       [22178, 23144]\n",
              "C581499                                                  [M]\n",
              "C581568                                              [21258]\n",
              "C581569                                       [84978, 20979]\n",
              "Name: StockCode, Length: 25900, dtype: object"
            ],
            "text/html": [
              "<div>\n",
              "<style scoped>\n",
              "    .dataframe tbody tr th:only-of-type {\n",
              "        vertical-align: middle;\n",
              "    }\n",
              "\n",
              "    .dataframe tbody tr th {\n",
              "        vertical-align: top;\n",
              "    }\n",
              "\n",
              "    .dataframe thead th {\n",
              "        text-align: right;\n",
              "    }\n",
              "</style>\n",
              "<table border=\"1\" class=\"dataframe\">\n",
              "  <thead>\n",
              "    <tr style=\"text-align: right;\">\n",
              "      <th></th>\n",
              "      <th>StockCode</th>\n",
              "    </tr>\n",
              "    <tr>\n",
              "      <th>InvoiceNo</th>\n",
              "      <th></th>\n",
              "    </tr>\n",
              "  </thead>\n",
              "  <tbody>\n",
              "    <tr>\n",
              "      <th>536365</th>\n",
              "      <td>[85123A, 71053, 84406B, 84029G, 84029E, 22752,...</td>\n",
              "    </tr>\n",
              "    <tr>\n",
              "      <th>536366</th>\n",
              "      <td>[22633, 22632]</td>\n",
              "    </tr>\n",
              "    <tr>\n",
              "      <th>536367</th>\n",
              "      <td>[84879, 22745, 22748, 22749, 22310, 84969, 226...</td>\n",
              "    </tr>\n",
              "    <tr>\n",
              "      <th>536368</th>\n",
              "      <td>[22960, 22913, 22912, 22914]</td>\n",
              "    </tr>\n",
              "    <tr>\n",
              "      <th>536369</th>\n",
              "      <td>[21756]</td>\n",
              "    </tr>\n",
              "    <tr>\n",
              "      <th>...</th>\n",
              "      <td>...</td>\n",
              "    </tr>\n",
              "    <tr>\n",
              "      <th>C581484</th>\n",
              "      <td>[23843]</td>\n",
              "    </tr>\n",
              "    <tr>\n",
              "      <th>C581490</th>\n",
              "      <td>[22178, 23144]</td>\n",
              "    </tr>\n",
              "    <tr>\n",
              "      <th>C581499</th>\n",
              "      <td>[M]</td>\n",
              "    </tr>\n",
              "    <tr>\n",
              "      <th>C581568</th>\n",
              "      <td>[21258]</td>\n",
              "    </tr>\n",
              "    <tr>\n",
              "      <th>C581569</th>\n",
              "      <td>[84978, 20979]</td>\n",
              "    </tr>\n",
              "  </tbody>\n",
              "</table>\n",
              "<p>25900 rows × 1 columns</p>\n",
              "</div><br><label><b>dtype:</b> object</label>"
            ]
          },
          "metadata": {},
          "execution_count": 9
        }
      ]
    },
    {
      "cell_type": "code",
      "source": [
        "len(data['Country'].unique())"
      ],
      "metadata": {
        "colab": {
          "base_uri": "https://localhost:8080/"
        },
        "id": "crWZf7vuVXnP",
        "outputId": "463ea65b-4fc5-4a0f-ea6c-eaf1839952ae"
      },
      "execution_count": null,
      "outputs": [
        {
          "output_type": "execute_result",
          "data": {
            "text/plain": [
              "38"
            ]
          },
          "metadata": {},
          "execution_count": 10
        }
      ]
    },
    {
      "cell_type": "code",
      "source": [
        "set(data['Country']) #  เหมือนกับ .unique() สามารถระบุได้ไหมว่าลูกค้าประเทศไหนซื้อสินค้าอะไร"
      ],
      "metadata": {
        "colab": {
          "base_uri": "https://localhost:8080/"
        },
        "id": "KBCui-E6VcAV",
        "outputId": "0abe0553-42b5-4f0a-e815-c3667fcefb5f"
      },
      "execution_count": null,
      "outputs": [
        {
          "output_type": "execute_result",
          "data": {
            "text/plain": [
              "{'Australia',\n",
              " 'Austria',\n",
              " 'Bahrain',\n",
              " 'Belgium',\n",
              " 'Brazil',\n",
              " 'Canada',\n",
              " 'Channel Islands',\n",
              " 'Cyprus',\n",
              " 'Czech Republic',\n",
              " 'Denmark',\n",
              " 'EIRE',\n",
              " 'European Community',\n",
              " 'Finland',\n",
              " 'France',\n",
              " 'Germany',\n",
              " 'Greece',\n",
              " 'Hong Kong',\n",
              " 'Iceland',\n",
              " 'Israel',\n",
              " 'Italy',\n",
              " 'Japan',\n",
              " 'Lebanon',\n",
              " 'Lithuania',\n",
              " 'Malta',\n",
              " 'Netherlands',\n",
              " 'Norway',\n",
              " 'Poland',\n",
              " 'Portugal',\n",
              " 'RSA',\n",
              " 'Saudi Arabia',\n",
              " 'Singapore',\n",
              " 'Spain',\n",
              " 'Sweden',\n",
              " 'Switzerland',\n",
              " 'USA',\n",
              " 'United Arab Emirates',\n",
              " 'United Kingdom',\n",
              " 'Unspecified'}"
            ]
          },
          "metadata": {},
          "execution_count": 11
        }
      ]
    },
    {
      "cell_type": "markdown",
      "metadata": {
        "id": "TqkZl7tUsgUT"
      },
      "source": [
        "## Association Rules"
      ]
    },
    {
      "cell_type": "code",
      "metadata": {
        "colab": {
          "base_uri": "https://localhost:8080/"
        },
        "id": "kxLayaaAtkh8",
        "outputId": "4404e1e8-cdac-479d-eaba-ddd7c3cba754"
      },
      "source": [
        "!pip install apyori"
      ],
      "execution_count": null,
      "outputs": [
        {
          "output_type": "stream",
          "name": "stdout",
          "text": [
            "Collecting apyori\n",
            "  Downloading apyori-1.1.2.tar.gz (8.6 kB)\n",
            "  Preparing metadata (setup.py) ... \u001b[?25l\u001b[?25hdone\n",
            "Building wheels for collected packages: apyori\n",
            "  Building wheel for apyori (setup.py) ... \u001b[?25l\u001b[?25hdone\n",
            "  Created wheel for apyori: filename=apyori-1.1.2-py3-none-any.whl size=5954 sha256=4251536648c3ab982fcb6e9f395037fc90d83991b82dd71e3b159773d346d11d\n",
            "  Stored in directory: /root/.cache/pip/wheels/7f/49/e3/42c73b19a264de37129fadaa0c52f26cf50e87de08fb9804af\n",
            "Successfully built apyori\n",
            "Installing collected packages: apyori\n",
            "Successfully installed apyori-1.1.2\n"
          ]
        }
      ]
    },
    {
      "cell_type": "code",
      "metadata": {
        "id": "MU_DkGZ2sKw_"
      },
      "source": [
        "from apyori import apriori"
      ],
      "execution_count": null,
      "outputs": []
    },
    {
      "cell_type": "code",
      "source": [
        "list(apriori(transactions,min_support = 0.5)) #ไม่มีสินค้าใดๆที่ถูกซื้อ เกิน 50% จากtransactions"
      ],
      "metadata": {
        "colab": {
          "base_uri": "https://localhost:8080/"
        },
        "id": "97k-zMvHOCsh",
        "outputId": "a4f8856e-e52e-422c-ed5f-ff4be638f6a7"
      },
      "execution_count": null,
      "outputs": [
        {
          "output_type": "execute_result",
          "data": {
            "text/plain": [
              "[]"
            ]
          },
          "metadata": {},
          "execution_count": 14
        }
      ]
    },
    {
      "cell_type": "code",
      "source": [
        "list(apriori(transactions,min_support = 0.1)) #ไม่มีสินค้าใดๆที่ถูกซื้อ เกิน 10% จากtransactions"
      ],
      "metadata": {
        "colab": {
          "base_uri": "https://localhost:8080/"
        },
        "id": "bw35IV3HOboo",
        "outputId": "1b5a8dc2-c5c9-4521-b901-aa6e6fdfd73d"
      },
      "execution_count": null,
      "outputs": [
        {
          "output_type": "execute_result",
          "data": {
            "text/plain": [
              "[]"
            ]
          },
          "metadata": {},
          "execution_count": 15
        }
      ]
    },
    {
      "cell_type": "code",
      "metadata": {
        "colab": {
          "base_uri": "https://localhost:8080/"
        },
        "id": "Uwysx9eLtg7H",
        "outputId": "17342594-6020-4136-cfdf-a45d6c36e620"
      },
      "source": [
        "frequentItemsets = list(apriori(transactions,min_support = 0.065)) #output 4 lists มี itemset 4 ตัวที่ถูกซื้อเกิน 6.5%\n",
        "frequentItemsets"
      ],
      "execution_count": null,
      "outputs": [
        {
          "output_type": "execute_result",
          "data": {
            "text/plain": [
              "[RelationRecord(items=frozenset({'22423'}), support=0.08386100386100385, ordered_statistics=[OrderedStatistic(items_base=frozenset(), items_add=frozenset({'22423'}), confidence=0.08386100386100385, lift=1.0)]),\n",
              " RelationRecord(items=frozenset({'47566'}), support=0.06586872586872587, ordered_statistics=[OrderedStatistic(items_base=frozenset(), items_add=frozenset({'47566'}), confidence=0.06586872586872587, lift=1.0)]),\n",
              " RelationRecord(items=frozenset({'85099B'}), support=0.08243243243243244, ordered_statistics=[OrderedStatistic(items_base=frozenset(), items_add=frozenset({'85099B'}), confidence=0.08243243243243244, lift=1.0)]),\n",
              " RelationRecord(items=frozenset({'85123A'}), support=0.08671814671814672, ordered_statistics=[OrderedStatistic(items_base=frozenset(), items_add=frozenset({'85123A'}), confidence=0.08671814671814672, lift=1.0)])]"
            ]
          },
          "metadata": {},
          "execution_count": 16
        }
      ]
    },
    {
      "cell_type": "code",
      "source": [
        "frequentItemsets[0]"
      ],
      "metadata": {
        "colab": {
          "base_uri": "https://localhost:8080/"
        },
        "id": "r53SXrzCiy5s",
        "outputId": "b85e1adc-0bf5-43d9-d746-da51885f3dd0"
      },
      "execution_count": null,
      "outputs": [
        {
          "output_type": "execute_result",
          "data": {
            "text/plain": [
              "RelationRecord(items=frozenset({'22423'}), support=0.08386100386100385, ordered_statistics=[OrderedStatistic(items_base=frozenset(), items_add=frozenset({'22423'}), confidence=0.08386100386100385, lift=1.0)])"
            ]
          },
          "metadata": {},
          "execution_count": 17
        }
      ]
    },
    {
      "cell_type": "code",
      "source": [
        "frequentItemsets = list(apriori(transactions,min_support = 0.03))\n",
        "frequentItemsets"
      ],
      "metadata": {
        "colab": {
          "base_uri": "https://localhost:8080/"
        },
        "id": "YrGYvw60PK1-",
        "outputId": "4fc9f1f6-0fc5-49cf-c318-3eecd19f1e45"
      },
      "execution_count": null,
      "outputs": [
        {
          "output_type": "execute_result",
          "data": {
            "text/plain": [
              "[RelationRecord(items=frozenset({'20712'}), support=0.033667953667953665, ordered_statistics=[OrderedStatistic(items_base=frozenset(), items_add=frozenset({'20712'}), confidence=0.033667953667953665, lift=1.0)]),\n",
              " RelationRecord(items=frozenset({'20719'}), support=0.03254826254826255, ordered_statistics=[OrderedStatistic(items_base=frozenset(), items_add=frozenset({'20719'}), confidence=0.03254826254826255, lift=1.0)]),\n",
              " RelationRecord(items=frozenset({'20724'}), support=0.04054054054054054, ordered_statistics=[OrderedStatistic(items_base=frozenset(), items_add=frozenset({'20724'}), confidence=0.04054054054054054, lift=1.0)]),\n",
              " RelationRecord(items=frozenset({'20725'}), support=0.062084942084942085, ordered_statistics=[OrderedStatistic(items_base=frozenset(), items_add=frozenset({'20725'}), confidence=0.062084942084942085, lift=1.0)]),\n",
              " RelationRecord(items=frozenset({'20726'}), support=0.04003861003861004, ordered_statistics=[OrderedStatistic(items_base=frozenset(), items_add=frozenset({'20726'}), confidence=0.04003861003861004, lift=1.0)]),\n",
              " RelationRecord(items=frozenset({'20727'}), support=0.05, ordered_statistics=[OrderedStatistic(items_base=frozenset(), items_add=frozenset({'20727'}), confidence=0.05, lift=1.0)]),\n",
              " RelationRecord(items=frozenset({'20728'}), support=0.04528957528957529, ordered_statistics=[OrderedStatistic(items_base=frozenset(), items_add=frozenset({'20728'}), confidence=0.04528957528957529, lift=1.0)]),\n",
              " RelationRecord(items=frozenset({'20914'}), support=0.03528957528957529, ordered_statistics=[OrderedStatistic(items_base=frozenset(), items_add=frozenset({'20914'}), confidence=0.03528957528957529, lift=1.0)]),\n",
              " RelationRecord(items=frozenset({'21034'}), support=0.033745173745173745, ordered_statistics=[OrderedStatistic(items_base=frozenset(), items_add=frozenset({'21034'}), confidence=0.033745173745173745, lift=1.0)]),\n",
              " RelationRecord(items=frozenset({'21080'}), support=0.03814671814671815, ordered_statistics=[OrderedStatistic(items_base=frozenset(), items_add=frozenset({'21080'}), confidence=0.03814671814671815, lift=1.0)]),\n",
              " RelationRecord(items=frozenset({'21175'}), support=0.031544401544401544, ordered_statistics=[OrderedStatistic(items_base=frozenset(), items_add=frozenset({'21175'}), confidence=0.031544401544401544, lift=1.0)]),\n",
              " RelationRecord(items=frozenset({'21181'}), support=0.033281853281853284, ordered_statistics=[OrderedStatistic(items_base=frozenset(), items_add=frozenset({'21181'}), confidence=0.033281853281853284, lift=1.0)]),\n",
              " RelationRecord(items=frozenset({'21212'}), support=0.05150579150579151, ordered_statistics=[OrderedStatistic(items_base=frozenset(), items_add=frozenset({'21212'}), confidence=0.05150579150579151, lift=1.0)]),\n",
              " RelationRecord(items=frozenset({'21232'}), support=0.03428571428571429, ordered_statistics=[OrderedStatistic(items_base=frozenset(), items_add=frozenset({'21232'}), confidence=0.03428571428571429, lift=1.0)]),\n",
              " RelationRecord(items=frozenset({'21731'}), support=0.033243243243243244, ordered_statistics=[OrderedStatistic(items_base=frozenset(), items_add=frozenset({'21731'}), confidence=0.033243243243243244, lift=1.0)]),\n",
              " RelationRecord(items=frozenset({'21754'}), support=0.030386100386100387, ordered_statistics=[OrderedStatistic(items_base=frozenset(), items_add=frozenset({'21754'}), confidence=0.030386100386100387, lift=1.0)]),\n",
              " RelationRecord(items=frozenset({'21790'}), support=0.035868725868725866, ordered_statistics=[OrderedStatistic(items_base=frozenset(), items_add=frozenset({'21790'}), confidence=0.035868725868725866, lift=1.0)]),\n",
              " RelationRecord(items=frozenset({'21928'}), support=0.031505791505791504, ordered_statistics=[OrderedStatistic(items_base=frozenset(), items_add=frozenset({'21928'}), confidence=0.031505791505791504, lift=1.0)]),\n",
              " RelationRecord(items=frozenset({'21929'}), support=0.03386100386100386, ordered_statistics=[OrderedStatistic(items_base=frozenset(), items_add=frozenset({'21929'}), confidence=0.03386100386100386, lift=1.0)]),\n",
              " RelationRecord(items=frozenset({'21931'}), support=0.04637065637065637, ordered_statistics=[OrderedStatistic(items_base=frozenset(), items_add=frozenset({'21931'}), confidence=0.04637065637065637, lift=1.0)]),\n",
              " RelationRecord(items=frozenset({'21977'}), support=0.033783783783783786, ordered_statistics=[OrderedStatistic(items_base=frozenset(), items_add=frozenset({'21977'}), confidence=0.033783783783783786, lift=1.0)]),\n",
              " RelationRecord(items=frozenset({'22077'}), support=0.037104247104247104, ordered_statistics=[OrderedStatistic(items_base=frozenset(), items_add=frozenset({'22077'}), confidence=0.037104247104247104, lift=1.0)]),\n",
              " RelationRecord(items=frozenset({'22086'}), support=0.04517374517374517, ordered_statistics=[OrderedStatistic(items_base=frozenset(), items_add=frozenset({'22086'}), confidence=0.04517374517374517, lift=1.0)]),\n",
              " RelationRecord(items=frozenset({'22090'}), support=0.03111969111969112, ordered_statistics=[OrderedStatistic(items_base=frozenset(), items_add=frozenset({'22090'}), confidence=0.03111969111969112, lift=1.0)]),\n",
              " RelationRecord(items=frozenset({'22111'}), support=0.03003861003861004, ordered_statistics=[OrderedStatistic(items_base=frozenset(), items_add=frozenset({'22111'}), confidence=0.03003861003861004, lift=1.0)]),\n",
              " RelationRecord(items=frozenset({'22112'}), support=0.03343629343629344, ordered_statistics=[OrderedStatistic(items_base=frozenset(), items_add=frozenset({'22112'}), confidence=0.03343629343629344, lift=1.0)]),\n",
              " RelationRecord(items=frozenset({'22138'}), support=0.037104247104247104, ordered_statistics=[OrderedStatistic(items_base=frozenset(), items_add=frozenset({'22138'}), confidence=0.037104247104247104, lift=1.0)]),\n",
              " RelationRecord(items=frozenset({'22139'}), support=0.037953667953667954, ordered_statistics=[OrderedStatistic(items_base=frozenset(), items_add=frozenset({'22139'}), confidence=0.037953667953667954, lift=1.0)]),\n",
              " RelationRecord(items=frozenset({'22178'}), support=0.041003861003861004, ordered_statistics=[OrderedStatistic(items_base=frozenset(), items_add=frozenset({'22178'}), confidence=0.041003861003861004, lift=1.0)]),\n",
              " RelationRecord(items=frozenset({'22197'}), support=0.055675675675675676, ordered_statistics=[OrderedStatistic(items_base=frozenset(), items_add=frozenset({'22197'}), confidence=0.055675675675675676, lift=1.0)]),\n",
              " RelationRecord(items=frozenset({'22355'}), support=0.034555984555984555, ordered_statistics=[OrderedStatistic(items_base=frozenset(), items_add=frozenset({'22355'}), confidence=0.034555984555984555, lift=1.0)]),\n",
              " RelationRecord(items=frozenset({'22382'}), support=0.04517374517374517, ordered_statistics=[OrderedStatistic(items_base=frozenset(), items_add=frozenset({'22382'}), confidence=0.04517374517374517, lift=1.0)]),\n",
              " RelationRecord(items=frozenset({'22383'}), support=0.050424710424710424, ordered_statistics=[OrderedStatistic(items_base=frozenset(), items_add=frozenset({'22383'}), confidence=0.050424710424710424, lift=1.0)]),\n",
              " RelationRecord(items=frozenset({'22384'}), support=0.04285714285714286, ordered_statistics=[OrderedStatistic(items_base=frozenset(), items_add=frozenset({'22384'}), confidence=0.04285714285714286, lift=1.0)]),\n",
              " RelationRecord(items=frozenset({'22386'}), support=0.04752895752895753, ordered_statistics=[OrderedStatistic(items_base=frozenset(), items_add=frozenset({'22386'}), confidence=0.04752895752895753, lift=1.0)]),\n",
              " RelationRecord(items=frozenset({'22411'}), support=0.04583011583011583, ordered_statistics=[OrderedStatistic(items_base=frozenset(), items_add=frozenset({'22411'}), confidence=0.04583011583011583, lift=1.0)]),\n",
              " RelationRecord(items=frozenset({'22423'}), support=0.08386100386100385, ordered_statistics=[OrderedStatistic(items_base=frozenset(), items_add=frozenset({'22423'}), confidence=0.08386100386100385, lift=1.0)]),\n",
              " RelationRecord(items=frozenset({'22457'}), support=0.04888030888030888, ordered_statistics=[OrderedStatistic(items_base=frozenset(), items_add=frozenset({'22457'}), confidence=0.04888030888030888, lift=1.0)]),\n",
              " RelationRecord(items=frozenset({'22469'}), support=0.04687258687258687, ordered_statistics=[OrderedStatistic(items_base=frozenset(), items_add=frozenset({'22469'}), confidence=0.04687258687258687, lift=1.0)]),\n",
              " RelationRecord(items=frozenset({'22470'}), support=0.03644787644787645, ordered_statistics=[OrderedStatistic(items_base=frozenset(), items_add=frozenset({'22470'}), confidence=0.03644787644787645, lift=1.0)]),\n",
              " RelationRecord(items=frozenset({'22558'}), support=0.030231660231660233, ordered_statistics=[OrderedStatistic(items_base=frozenset(), items_add=frozenset({'22558'}), confidence=0.030231660231660233, lift=1.0)]),\n",
              " RelationRecord(items=frozenset({'22629'}), support=0.03505791505791506, ordered_statistics=[OrderedStatistic(items_base=frozenset(), items_add=frozenset({'22629'}), confidence=0.03505791505791506, lift=1.0)]),\n",
              " RelationRecord(items=frozenset({'22630'}), support=0.033204633204633204, ordered_statistics=[OrderedStatistic(items_base=frozenset(), items_add=frozenset({'22630'}), confidence=0.033204633204633204, lift=1.0)]),\n",
              " RelationRecord(items=frozenset({'22666'}), support=0.044942084942084945, ordered_statistics=[OrderedStatistic(items_base=frozenset(), items_add=frozenset({'22666'}), confidence=0.044942084942084945, lift=1.0)]),\n",
              " RelationRecord(items=frozenset({'22697'}), support=0.04081081081081081, ordered_statistics=[OrderedStatistic(items_base=frozenset(), items_add=frozenset({'22697'}), confidence=0.04081081081081081, lift=1.0)]),\n",
              " RelationRecord(items=frozenset({'22698'}), support=0.030965250965250966, ordered_statistics=[OrderedStatistic(items_base=frozenset(), items_add=frozenset({'22698'}), confidence=0.030965250965250966, lift=1.0)]),\n",
              " RelationRecord(items=frozenset({'22699'}), support=0.043243243243243246, ordered_statistics=[OrderedStatistic(items_base=frozenset(), items_add=frozenset({'22699'}), confidence=0.043243243243243246, lift=1.0)]),\n",
              " RelationRecord(items=frozenset({'22720'}), support=0.056447876447876445, ordered_statistics=[OrderedStatistic(items_base=frozenset(), items_add=frozenset({'22720'}), confidence=0.056447876447876445, lift=1.0)]),\n",
              " RelationRecord(items=frozenset({'22722'}), support=0.03274131274131274, ordered_statistics=[OrderedStatistic(items_base=frozenset(), items_add=frozenset({'22722'}), confidence=0.03274131274131274, lift=1.0)]),\n",
              " RelationRecord(items=frozenset({'22726'}), support=0.03872586872586872, ordered_statistics=[OrderedStatistic(items_base=frozenset(), items_add=frozenset({'22726'}), confidence=0.03872586872586872, lift=1.0)]),\n",
              " RelationRecord(items=frozenset({'22727'}), support=0.04173745173745174, ordered_statistics=[OrderedStatistic(items_base=frozenset(), items_add=frozenset({'22727'}), confidence=0.04173745173745174, lift=1.0)]),\n",
              " RelationRecord(items=frozenset({'22728'}), support=0.03084942084942085, ordered_statistics=[OrderedStatistic(items_base=frozenset(), items_add=frozenset({'22728'}), confidence=0.03084942084942085, lift=1.0)]),\n",
              " RelationRecord(items=frozenset({'22910'}), support=0.032123552123552127, ordered_statistics=[OrderedStatistic(items_base=frozenset(), items_add=frozenset({'22910'}), confidence=0.032123552123552127, lift=1.0)]),\n",
              " RelationRecord(items=frozenset({'22960'}), support=0.047104247104247106, ordered_statistics=[OrderedStatistic(items_base=frozenset(), items_add=frozenset({'22960'}), confidence=0.047104247104247106, lift=1.0)]),\n",
              " RelationRecord(items=frozenset({'22961'}), support=0.045328185328185326, ordered_statistics=[OrderedStatistic(items_base=frozenset(), items_add=frozenset({'22961'}), confidence=0.045328185328185326, lift=1.0)]),\n",
              " RelationRecord(items=frozenset({'22993'}), support=0.041776061776061774, ordered_statistics=[OrderedStatistic(items_base=frozenset(), items_add=frozenset({'22993'}), confidence=0.041776061776061774, lift=1.0)]),\n",
              " RelationRecord(items=frozenset({'23084'}), support=0.03957528957528957, ordered_statistics=[OrderedStatistic(items_base=frozenset(), items_add=frozenset({'23084'}), confidence=0.03957528957528957, lift=1.0)]),\n",
              " RelationRecord(items=frozenset({'23199'}), support=0.03857142857142857, ordered_statistics=[OrderedStatistic(items_base=frozenset(), items_add=frozenset({'23199'}), confidence=0.03857142857142857, lift=1.0)]),\n",
              " RelationRecord(items=frozenset({'23201'}), support=0.03552123552123552, ordered_statistics=[OrderedStatistic(items_base=frozenset(), items_add=frozenset({'23201'}), confidence=0.03552123552123552, lift=1.0)]),\n",
              " RelationRecord(items=frozenset({'23202'}), support=0.03420849420849421, ordered_statistics=[OrderedStatistic(items_base=frozenset(), items_add=frozenset({'23202'}), confidence=0.03420849420849421, lift=1.0)]),\n",
              " RelationRecord(items=frozenset({'23203'}), support=0.04822393822393822, ordered_statistics=[OrderedStatistic(items_base=frozenset(), items_add=frozenset({'23203'}), confidence=0.04822393822393822, lift=1.0)]),\n",
              " RelationRecord(items=frozenset({'23206'}), support=0.0405019305019305, ordered_statistics=[OrderedStatistic(items_base=frozenset(), items_add=frozenset({'23206'}), confidence=0.0405019305019305, lift=1.0)]),\n",
              " RelationRecord(items=frozenset({'23209'}), support=0.04285714285714286, ordered_statistics=[OrderedStatistic(items_base=frozenset(), items_add=frozenset({'23209'}), confidence=0.04285714285714286, lift=1.0)]),\n",
              " RelationRecord(items=frozenset({'23245'}), support=0.03513513513513514, ordered_statistics=[OrderedStatistic(items_base=frozenset(), items_add=frozenset({'23245'}), confidence=0.03513513513513514, lift=1.0)]),\n",
              " RelationRecord(items=frozenset({'23298'}), support=0.04474903474903475, ordered_statistics=[OrderedStatistic(items_base=frozenset(), items_add=frozenset({'23298'}), confidence=0.04474903474903475, lift=1.0)]),\n",
              " RelationRecord(items=frozenset({'23301'}), support=0.03567567567567568, ordered_statistics=[OrderedStatistic(items_base=frozenset(), items_add=frozenset({'23301'}), confidence=0.03567567567567568, lift=1.0)]),\n",
              " RelationRecord(items=frozenset({'23355'}), support=0.0305019305019305, ordered_statistics=[OrderedStatistic(items_base=frozenset(), items_add=frozenset({'23355'}), confidence=0.0305019305019305, lift=1.0)]),\n",
              " RelationRecord(items=frozenset({'47566'}), support=0.06586872586872587, ordered_statistics=[OrderedStatistic(items_base=frozenset(), items_add=frozenset({'47566'}), confidence=0.06586872586872587, lift=1.0)]),\n",
              " RelationRecord(items=frozenset({'82482'}), support=0.043166023166023165, ordered_statistics=[OrderedStatistic(items_base=frozenset(), items_add=frozenset({'82482'}), confidence=0.043166023166023165, lift=1.0)]),\n",
              " RelationRecord(items=frozenset({'82494L'}), support=0.03594594594594595, ordered_statistics=[OrderedStatistic(items_base=frozenset(), items_add=frozenset({'82494L'}), confidence=0.03594594594594595, lift=1.0)]),\n",
              " RelationRecord(items=frozenset({'84879'}), support=0.05667953667953668, ordered_statistics=[OrderedStatistic(items_base=frozenset(), items_add=frozenset({'84879'}), confidence=0.05667953667953668, lift=1.0)]),\n",
              " RelationRecord(items=frozenset({'84946'}), support=0.03598455598455599, ordered_statistics=[OrderedStatistic(items_base=frozenset(), items_add=frozenset({'84946'}), confidence=0.03598455598455599, lift=1.0)]),\n",
              " RelationRecord(items=frozenset({'84991'}), support=0.03227799227799228, ordered_statistics=[OrderedStatistic(items_base=frozenset(), items_add=frozenset({'84991'}), confidence=0.03227799227799228, lift=1.0)]),\n",
              " RelationRecord(items=frozenset({'85099B'}), support=0.08243243243243244, ordered_statistics=[OrderedStatistic(items_base=frozenset(), items_add=frozenset({'85099B'}), confidence=0.08243243243243244, lift=1.0)]),\n",
              " RelationRecord(items=frozenset({'85099C'}), support=0.03656370656370656, ordered_statistics=[OrderedStatistic(items_base=frozenset(), items_add=frozenset({'85099C'}), confidence=0.03656370656370656, lift=1.0)]),\n",
              " RelationRecord(items=frozenset({'85099F'}), support=0.032046332046332046, ordered_statistics=[OrderedStatistic(items_base=frozenset(), items_add=frozenset({'85099F'}), confidence=0.032046332046332046, lift=1.0)]),\n",
              " RelationRecord(items=frozenset({'85123A'}), support=0.08671814671814672, ordered_statistics=[OrderedStatistic(items_base=frozenset(), items_add=frozenset({'85123A'}), confidence=0.08671814671814672, lift=1.0)]),\n",
              " RelationRecord(items=frozenset({'POST'}), support=0.04841698841698842, ordered_statistics=[OrderedStatistic(items_base=frozenset(), items_add=frozenset({'POST'}), confidence=0.04841698841698842, lift=1.0)]),\n",
              " RelationRecord(items=frozenset({'22386', '85099B'}), support=0.03216216216216216, ordered_statistics=[OrderedStatistic(items_base=frozenset(), items_add=frozenset({'22386', '85099B'}), confidence=0.03216216216216216, lift=1.0), OrderedStatistic(items_base=frozenset({'22386'}), items_add=frozenset({'85099B'}), confidence=0.6766856214459789, lift=8.20897311262335), OrderedStatistic(items_base=frozenset({'85099B'}), items_add=frozenset({'22386'}), confidence=0.39016393442622943, lift=8.20897311262335)]),\n",
              " RelationRecord(items=frozenset({'22699', '22697'}), support=0.03027027027027027, ordered_statistics=[OrderedStatistic(items_base=frozenset(), items_add=frozenset({'22699', '22697'}), confidence=0.03027027027027027, lift=1.0), OrderedStatistic(items_base=frozenset({'22697'}), items_add=frozenset({'22699'}), confidence=0.7417218543046358, lift=17.1523178807947), OrderedStatistic(items_base=frozenset({'22699'}), items_add=frozenset({'22697'}), confidence=0.7, lift=17.1523178807947)])]"
            ]
          },
          "metadata": {},
          "execution_count": 18
        }
      ]
    },
    {
      "cell_type": "code",
      "metadata": {
        "id": "Cy62VyRYubh1",
        "outputId": "ecea6959-ebdf-4d0f-aaaa-5124f6c45143",
        "colab": {
          "base_uri": "https://localhost:8080/"
        }
      },
      "source": [
        "len(frequentItemsets)"
      ],
      "execution_count": null,
      "outputs": [
        {
          "output_type": "execute_result",
          "data": {
            "text/plain": [
              "80"
            ]
          },
          "metadata": {},
          "execution_count": 19
        }
      ]
    },
    {
      "cell_type": "code",
      "source": [
        "frequentItemsets[-1] #itemset ตัวสุดท้าย #2-itemset #สินค้า '22697', '22699' ถูกซื้อเกิน 3% ของ transction ทั้งหมด"
      ],
      "metadata": {
        "colab": {
          "base_uri": "https://localhost:8080/"
        },
        "id": "6lzdtht5OqOw",
        "outputId": "9521bc34-8c15-4291-f3d5-a54174d51dbd"
      },
      "execution_count": null,
      "outputs": [
        {
          "output_type": "execute_result",
          "data": {
            "text/plain": [
              "RelationRecord(items=frozenset({'22699', '22697'}), support=0.03027027027027027, ordered_statistics=[OrderedStatistic(items_base=frozenset(), items_add=frozenset({'22699', '22697'}), confidence=0.03027027027027027, lift=1.0), OrderedStatistic(items_base=frozenset({'22697'}), items_add=frozenset({'22699'}), confidence=0.7417218543046358, lift=17.1523178807947), OrderedStatistic(items_base=frozenset({'22699'}), items_add=frozenset({'22697'}), confidence=0.7, lift=17.1523178807947)])"
            ]
          },
          "metadata": {},
          "execution_count": 20
        }
      ]
    },
    {
      "cell_type": "markdown",
      "source": [
        "support=0.03027027027027027: สินค้าคู่ '22697', '22699' ถูกซื้อ 3.027% ของ transactions ทั้งหมด"
      ],
      "metadata": {
        "id": "EfaDSKxFjjZP"
      }
    },
    {
      "cell_type": "markdown",
      "source": [
        "OrderedStatistic(items_base=frozenset({'22697'}), items_add=frozenset({'22699'}), confidence=0.7417218543046358, lift=17.1523178807947) แปลว่า 74% ของคนที่ซื้อ '22697' ก็จะซื้อ '22699' ด้วย"
      ],
      "metadata": {
        "id": "lKv5UC73jwNi"
      }
    },
    {
      "cell_type": "markdown",
      "source": [
        "OrderedStatistic(items_base=frozenset({'22699'}), items_add=frozenset({'22697'}), confidence=0.7, lift=17.1523178807947)] แปลว่าในทางตรงกันข้าม 70% ของคนที่ซื้อ '22699' ก็จะซื้อ '22697' ด้วย"
      ],
      "metadata": {
        "id": "O6XFj9B0kift"
      }
    },
    {
      "cell_type": "markdown",
      "source": [
        "# HW 8 หา Pattern ที่น่าสนใจใน Data ตำรวจ"
      ],
      "metadata": {
        "id": "E0xZKzt0lGJy"
      }
    },
    {
      "cell_type": "markdown",
      "source": [
        "ต้องการดู Pattern ของ  \"พื้นที่\" ที่มีโอกาสต่อการเกิด \"อาชญากรรมประเภทหนึ่ง\" ก็มักจะมีโอกาสการเกิด \"อาชญากรรมอีกประเภทหนึ่ง\" ด้วย"
      ],
      "metadata": {
        "id": "rgsCgh-p2kyQ"
      }
    },
    {
      "cell_type": "code",
      "source": [
        "from google.colab import drive\n",
        "drive.mount('/content/drive')"
      ],
      "metadata": {
        "colab": {
          "base_uri": "https://localhost:8080/"
        },
        "id": "qhpixHHYcVCD",
        "outputId": "50ab5580-371d-4f04-dc63-af9e26da1fdc"
      },
      "execution_count": 45,
      "outputs": [
        {
          "output_type": "stream",
          "name": "stdout",
          "text": [
            "Drive already mounted at /content/drive; to attempt to forcibly remount, call drive.mount(\"/content/drive\", force_remount=True).\n"
          ]
        }
      ]
    },
    {
      "cell_type": "code",
      "source": [
        "path = '/content/drive/MyDrive/Dataset_dpdm25/2025-01'"
      ],
      "metadata": {
        "id": "_Mfrtw6ecXAy"
      },
      "execution_count": 46,
      "outputs": []
    },
    {
      "cell_type": "code",
      "source": [
        "import pandas as pd\n",
        "import os"
      ],
      "metadata": {
        "id": "2DVH6KPm7u3s"
      },
      "execution_count": 47,
      "outputs": []
    },
    {
      "cell_type": "code",
      "source": [
        "df = pd.read_csv(os.path.join(path,'2025-01-nottinghamshire-street.csv'),encoding='latin-1')"
      ],
      "metadata": {
        "id": "3W1QpUFAb5OC"
      },
      "execution_count": 48,
      "outputs": []
    },
    {
      "cell_type": "markdown",
      "source": [
        "## ตรวจสอบข้อมูล"
      ],
      "metadata": {
        "id": "1mYy9pkPe9GB"
      }
    },
    {
      "cell_type": "code",
      "metadata": {
        "colab": {
          "base_uri": "https://localhost:8080/",
          "height": 750
        },
        "id": "ff0942c7",
        "outputId": "18a386e4-5696-4c6c-829e-0d740754c7d3"
      },
      "source": [
        "df"
      ],
      "execution_count": 49,
      "outputs": [
        {
          "output_type": "execute_result",
          "data": {
            "text/plain": [
              "                                               Crime ID    Month  \\\n",
              "0     3d83fe51abba4d51d9b50c7c7252fd39f381526df5f6d8...  2025-01   \n",
              "1     82058f096cb12c9a232f38bb04ddb565d7d4325f3c1e8f...  2025-01   \n",
              "2     2f006e797f6ba92344b391cb73188494bbac22d7d5992a...  2025-01   \n",
              "3     e8b280fd16e4ac986b3c14d414bf3ac830502e07271918...  2025-01   \n",
              "4     358e2dd423f0fa63cfb24f03b12bb7e1be71f569423e8b...  2025-01   \n",
              "...                                                 ...      ...   \n",
              "9543  231f16011fd10da9fe31f741408d2f150a1bd455c15297...  2025-01   \n",
              "9544  24700e2d6d67b17a25b431593fd41f3cc178ee2f8ab8f1...  2025-01   \n",
              "9545  0eda8615e5710293042e971b618c1c216a37129f92a260...  2025-01   \n",
              "9546  be9c26093704a2ae6ad9c077f9ff9002a48bdcfc24aa4d...  2025-01   \n",
              "9547  e21de09094e0ec260457cc0c74bb19b94fb2a68a378a5e...  2025-01   \n",
              "\n",
              "                 Reported by            Falls within  Longitude   Latitude  \\\n",
              "0     Nottinghamshire Police  Nottinghamshire Police  -1.414628  53.044918   \n",
              "1     Nottinghamshire Police  Nottinghamshire Police  -1.251084  53.142307   \n",
              "2     Nottinghamshire Police  Nottinghamshire Police  -1.259196  53.141800   \n",
              "3     Nottinghamshire Police  Nottinghamshire Police  -1.253696  53.141676   \n",
              "4     Nottinghamshire Police  Nottinghamshire Police  -1.253696  53.141676   \n",
              "...                      ...                     ...        ...        ...   \n",
              "9543  Nottinghamshire Police  Nottinghamshire Police        NaN        NaN   \n",
              "9544  Nottinghamshire Police  Nottinghamshire Police        NaN        NaN   \n",
              "9545  Nottinghamshire Police  Nottinghamshire Police        NaN        NaN   \n",
              "9546  Nottinghamshire Police  Nottinghamshire Police        NaN        NaN   \n",
              "9547  Nottinghamshire Police  Nottinghamshire Police        NaN        NaN   \n",
              "\n",
              "                            Location  LSOA code          LSOA name  \\\n",
              "0         On or near Strelley Avenue  E01019462  Amber Valley 006E   \n",
              "1         On or near Hardwick Avenue  E01027979      Ashfield 001A   \n",
              "2     On or near St Andrews Crescent  E01027979      Ashfield 001A   \n",
              "3             On or near Supermarket  E01027979      Ashfield 001A   \n",
              "4             On or near Supermarket  E01027979      Ashfield 001A   \n",
              "...                              ...        ...                ...   \n",
              "9543                     No Location        NaN                NaN   \n",
              "9544                     No Location        NaN                NaN   \n",
              "9545                     No Location        NaN                NaN   \n",
              "9546                     No Location        NaN                NaN   \n",
              "9547                     No Location        NaN                NaN   \n",
              "\n",
              "                        Crime type  \\\n",
              "0                            Drugs   \n",
              "1                         Burglary   \n",
              "2                         Burglary   \n",
              "3                            Drugs   \n",
              "4                      Other theft   \n",
              "...                            ...   \n",
              "9543  Violence and sexual offences   \n",
              "9544  Violence and sexual offences   \n",
              "9545  Violence and sexual offences   \n",
              "9546  Violence and sexual offences   \n",
              "9547                   Other crime   \n",
              "\n",
              "                              Last outcome category  Context  \n",
              "0                                  Local resolution      NaN  \n",
              "1     Investigation complete; no suspect identified      NaN  \n",
              "2     Investigation complete; no suspect identified      NaN  \n",
              "3                                  Local resolution      NaN  \n",
              "4                       Unable to prosecute suspect      NaN  \n",
              "...                                             ...      ...  \n",
              "9543                            Under investigation      NaN  \n",
              "9544                    Unable to prosecute suspect      NaN  \n",
              "9545     Action to be taken by another organisation      NaN  \n",
              "9546  Investigation complete; no suspect identified      NaN  \n",
              "9547                         Awaiting court outcome      NaN  \n",
              "\n",
              "[9548 rows x 12 columns]"
            ],
            "text/html": [
              "\n",
              "  <div id=\"df-61e87b59-22ec-4a47-b6e6-94d208391cc5\" class=\"colab-df-container\">\n",
              "    <div>\n",
              "<style scoped>\n",
              "    .dataframe tbody tr th:only-of-type {\n",
              "        vertical-align: middle;\n",
              "    }\n",
              "\n",
              "    .dataframe tbody tr th {\n",
              "        vertical-align: top;\n",
              "    }\n",
              "\n",
              "    .dataframe thead th {\n",
              "        text-align: right;\n",
              "    }\n",
              "</style>\n",
              "<table border=\"1\" class=\"dataframe\">\n",
              "  <thead>\n",
              "    <tr style=\"text-align: right;\">\n",
              "      <th></th>\n",
              "      <th>Crime ID</th>\n",
              "      <th>Month</th>\n",
              "      <th>Reported by</th>\n",
              "      <th>Falls within</th>\n",
              "      <th>Longitude</th>\n",
              "      <th>Latitude</th>\n",
              "      <th>Location</th>\n",
              "      <th>LSOA code</th>\n",
              "      <th>LSOA name</th>\n",
              "      <th>Crime type</th>\n",
              "      <th>Last outcome category</th>\n",
              "      <th>Context</th>\n",
              "    </tr>\n",
              "  </thead>\n",
              "  <tbody>\n",
              "    <tr>\n",
              "      <th>0</th>\n",
              "      <td>3d83fe51abba4d51d9b50c7c7252fd39f381526df5f6d8...</td>\n",
              "      <td>2025-01</td>\n",
              "      <td>Nottinghamshire Police</td>\n",
              "      <td>Nottinghamshire Police</td>\n",
              "      <td>-1.414628</td>\n",
              "      <td>53.044918</td>\n",
              "      <td>On or near Strelley Avenue</td>\n",
              "      <td>E01019462</td>\n",
              "      <td>Amber Valley 006E</td>\n",
              "      <td>Drugs</td>\n",
              "      <td>Local resolution</td>\n",
              "      <td>NaN</td>\n",
              "    </tr>\n",
              "    <tr>\n",
              "      <th>1</th>\n",
              "      <td>82058f096cb12c9a232f38bb04ddb565d7d4325f3c1e8f...</td>\n",
              "      <td>2025-01</td>\n",
              "      <td>Nottinghamshire Police</td>\n",
              "      <td>Nottinghamshire Police</td>\n",
              "      <td>-1.251084</td>\n",
              "      <td>53.142307</td>\n",
              "      <td>On or near Hardwick Avenue</td>\n",
              "      <td>E01027979</td>\n",
              "      <td>Ashfield 001A</td>\n",
              "      <td>Burglary</td>\n",
              "      <td>Investigation complete; no suspect identified</td>\n",
              "      <td>NaN</td>\n",
              "    </tr>\n",
              "    <tr>\n",
              "      <th>2</th>\n",
              "      <td>2f006e797f6ba92344b391cb73188494bbac22d7d5992a...</td>\n",
              "      <td>2025-01</td>\n",
              "      <td>Nottinghamshire Police</td>\n",
              "      <td>Nottinghamshire Police</td>\n",
              "      <td>-1.259196</td>\n",
              "      <td>53.141800</td>\n",
              "      <td>On or near St Andrews Crescent</td>\n",
              "      <td>E01027979</td>\n",
              "      <td>Ashfield 001A</td>\n",
              "      <td>Burglary</td>\n",
              "      <td>Investigation complete; no suspect identified</td>\n",
              "      <td>NaN</td>\n",
              "    </tr>\n",
              "    <tr>\n",
              "      <th>3</th>\n",
              "      <td>e8b280fd16e4ac986b3c14d414bf3ac830502e07271918...</td>\n",
              "      <td>2025-01</td>\n",
              "      <td>Nottinghamshire Police</td>\n",
              "      <td>Nottinghamshire Police</td>\n",
              "      <td>-1.253696</td>\n",
              "      <td>53.141676</td>\n",
              "      <td>On or near Supermarket</td>\n",
              "      <td>E01027979</td>\n",
              "      <td>Ashfield 001A</td>\n",
              "      <td>Drugs</td>\n",
              "      <td>Local resolution</td>\n",
              "      <td>NaN</td>\n",
              "    </tr>\n",
              "    <tr>\n",
              "      <th>4</th>\n",
              "      <td>358e2dd423f0fa63cfb24f03b12bb7e1be71f569423e8b...</td>\n",
              "      <td>2025-01</td>\n",
              "      <td>Nottinghamshire Police</td>\n",
              "      <td>Nottinghamshire Police</td>\n",
              "      <td>-1.253696</td>\n",
              "      <td>53.141676</td>\n",
              "      <td>On or near Supermarket</td>\n",
              "      <td>E01027979</td>\n",
              "      <td>Ashfield 001A</td>\n",
              "      <td>Other theft</td>\n",
              "      <td>Unable to prosecute suspect</td>\n",
              "      <td>NaN</td>\n",
              "    </tr>\n",
              "    <tr>\n",
              "      <th>...</th>\n",
              "      <td>...</td>\n",
              "      <td>...</td>\n",
              "      <td>...</td>\n",
              "      <td>...</td>\n",
              "      <td>...</td>\n",
              "      <td>...</td>\n",
              "      <td>...</td>\n",
              "      <td>...</td>\n",
              "      <td>...</td>\n",
              "      <td>...</td>\n",
              "      <td>...</td>\n",
              "      <td>...</td>\n",
              "    </tr>\n",
              "    <tr>\n",
              "      <th>9543</th>\n",
              "      <td>231f16011fd10da9fe31f741408d2f150a1bd455c15297...</td>\n",
              "      <td>2025-01</td>\n",
              "      <td>Nottinghamshire Police</td>\n",
              "      <td>Nottinghamshire Police</td>\n",
              "      <td>NaN</td>\n",
              "      <td>NaN</td>\n",
              "      <td>No Location</td>\n",
              "      <td>NaN</td>\n",
              "      <td>NaN</td>\n",
              "      <td>Violence and sexual offences</td>\n",
              "      <td>Under investigation</td>\n",
              "      <td>NaN</td>\n",
              "    </tr>\n",
              "    <tr>\n",
              "      <th>9544</th>\n",
              "      <td>24700e2d6d67b17a25b431593fd41f3cc178ee2f8ab8f1...</td>\n",
              "      <td>2025-01</td>\n",
              "      <td>Nottinghamshire Police</td>\n",
              "      <td>Nottinghamshire Police</td>\n",
              "      <td>NaN</td>\n",
              "      <td>NaN</td>\n",
              "      <td>No Location</td>\n",
              "      <td>NaN</td>\n",
              "      <td>NaN</td>\n",
              "      <td>Violence and sexual offences</td>\n",
              "      <td>Unable to prosecute suspect</td>\n",
              "      <td>NaN</td>\n",
              "    </tr>\n",
              "    <tr>\n",
              "      <th>9545</th>\n",
              "      <td>0eda8615e5710293042e971b618c1c216a37129f92a260...</td>\n",
              "      <td>2025-01</td>\n",
              "      <td>Nottinghamshire Police</td>\n",
              "      <td>Nottinghamshire Police</td>\n",
              "      <td>NaN</td>\n",
              "      <td>NaN</td>\n",
              "      <td>No Location</td>\n",
              "      <td>NaN</td>\n",
              "      <td>NaN</td>\n",
              "      <td>Violence and sexual offences</td>\n",
              "      <td>Action to be taken by another organisation</td>\n",
              "      <td>NaN</td>\n",
              "    </tr>\n",
              "    <tr>\n",
              "      <th>9546</th>\n",
              "      <td>be9c26093704a2ae6ad9c077f9ff9002a48bdcfc24aa4d...</td>\n",
              "      <td>2025-01</td>\n",
              "      <td>Nottinghamshire Police</td>\n",
              "      <td>Nottinghamshire Police</td>\n",
              "      <td>NaN</td>\n",
              "      <td>NaN</td>\n",
              "      <td>No Location</td>\n",
              "      <td>NaN</td>\n",
              "      <td>NaN</td>\n",
              "      <td>Violence and sexual offences</td>\n",
              "      <td>Investigation complete; no suspect identified</td>\n",
              "      <td>NaN</td>\n",
              "    </tr>\n",
              "    <tr>\n",
              "      <th>9547</th>\n",
              "      <td>e21de09094e0ec260457cc0c74bb19b94fb2a68a378a5e...</td>\n",
              "      <td>2025-01</td>\n",
              "      <td>Nottinghamshire Police</td>\n",
              "      <td>Nottinghamshire Police</td>\n",
              "      <td>NaN</td>\n",
              "      <td>NaN</td>\n",
              "      <td>No Location</td>\n",
              "      <td>NaN</td>\n",
              "      <td>NaN</td>\n",
              "      <td>Other crime</td>\n",
              "      <td>Awaiting court outcome</td>\n",
              "      <td>NaN</td>\n",
              "    </tr>\n",
              "  </tbody>\n",
              "</table>\n",
              "<p>9548 rows × 12 columns</p>\n",
              "</div>\n",
              "    <div class=\"colab-df-buttons\">\n",
              "\n",
              "  <div class=\"colab-df-container\">\n",
              "    <button class=\"colab-df-convert\" onclick=\"convertToInteractive('df-61e87b59-22ec-4a47-b6e6-94d208391cc5')\"\n",
              "            title=\"Convert this dataframe to an interactive table.\"\n",
              "            style=\"display:none;\">\n",
              "\n",
              "  <svg xmlns=\"http://www.w3.org/2000/svg\" height=\"24px\" viewBox=\"0 -960 960 960\">\n",
              "    <path d=\"M120-120v-720h720v720H120Zm60-500h600v-160H180v160Zm220 220h160v-160H400v160Zm0 220h160v-160H400v160ZM180-400h160v-160H180v160Zm440 0h160v-160H620v160ZM180-180h160v-160H180v160Zm440 0h160v-160H620v160Z\"/>\n",
              "  </svg>\n",
              "    </button>\n",
              "\n",
              "  <style>\n",
              "    .colab-df-container {\n",
              "      display:flex;\n",
              "      gap: 12px;\n",
              "    }\n",
              "\n",
              "    .colab-df-convert {\n",
              "      background-color: #E8F0FE;\n",
              "      border: none;\n",
              "      border-radius: 50%;\n",
              "      cursor: pointer;\n",
              "      display: none;\n",
              "      fill: #1967D2;\n",
              "      height: 32px;\n",
              "      padding: 0 0 0 0;\n",
              "      width: 32px;\n",
              "    }\n",
              "\n",
              "    .colab-df-convert:hover {\n",
              "      background-color: #E2EBFA;\n",
              "      box-shadow: 0px 1px 2px rgba(60, 64, 67, 0.3), 0px 1px 3px 1px rgba(60, 64, 67, 0.15);\n",
              "      fill: #174EA6;\n",
              "    }\n",
              "\n",
              "    .colab-df-buttons div {\n",
              "      margin-bottom: 4px;\n",
              "    }\n",
              "\n",
              "    [theme=dark] .colab-df-convert {\n",
              "      background-color: #3B4455;\n",
              "      fill: #D2E3FC;\n",
              "    }\n",
              "\n",
              "    [theme=dark] .colab-df-convert:hover {\n",
              "      background-color: #434B5C;\n",
              "      box-shadow: 0px 1px 3px 1px rgba(0, 0, 0, 0.15);\n",
              "      filter: drop-shadow(0px 1px 2px rgba(0, 0, 0, 0.3));\n",
              "      fill: #FFFFFF;\n",
              "    }\n",
              "  </style>\n",
              "\n",
              "    <script>\n",
              "      const buttonEl =\n",
              "        document.querySelector('#df-61e87b59-22ec-4a47-b6e6-94d208391cc5 button.colab-df-convert');\n",
              "      buttonEl.style.display =\n",
              "        google.colab.kernel.accessAllowed ? 'block' : 'none';\n",
              "\n",
              "      async function convertToInteractive(key) {\n",
              "        const element = document.querySelector('#df-61e87b59-22ec-4a47-b6e6-94d208391cc5');\n",
              "        const dataTable =\n",
              "          await google.colab.kernel.invokeFunction('convertToInteractive',\n",
              "                                                    [key], {});\n",
              "        if (!dataTable) return;\n",
              "\n",
              "        const docLinkHtml = 'Like what you see? Visit the ' +\n",
              "          '<a target=\"_blank\" href=https://colab.research.google.com/notebooks/data_table.ipynb>data table notebook</a>'\n",
              "          + ' to learn more about interactive tables.';\n",
              "        element.innerHTML = '';\n",
              "        dataTable['output_type'] = 'display_data';\n",
              "        await google.colab.output.renderOutput(dataTable, element);\n",
              "        const docLink = document.createElement('div');\n",
              "        docLink.innerHTML = docLinkHtml;\n",
              "        element.appendChild(docLink);\n",
              "      }\n",
              "    </script>\n",
              "  </div>\n",
              "\n",
              "\n",
              "    <div id=\"df-a678345d-c275-488e-b0b1-00e97e3bf574\">\n",
              "      <button class=\"colab-df-quickchart\" onclick=\"quickchart('df-a678345d-c275-488e-b0b1-00e97e3bf574')\"\n",
              "                title=\"Suggest charts\"\n",
              "                style=\"display:none;\">\n",
              "\n",
              "<svg xmlns=\"http://www.w3.org/2000/svg\" height=\"24px\"viewBox=\"0 0 24 24\"\n",
              "     width=\"24px\">\n",
              "    <g>\n",
              "        <path d=\"M19 3H5c-1.1 0-2 .9-2 2v14c0 1.1.9 2 2 2h14c1.1 0 2-.9 2-2V5c0-1.1-.9-2-2-2zM9 17H7v-7h2v7zm4 0h-2V7h2v10zm4 0h-2v-4h2v4z\"/>\n",
              "    </g>\n",
              "</svg>\n",
              "      </button>\n",
              "\n",
              "<style>\n",
              "  .colab-df-quickchart {\n",
              "      --bg-color: #E8F0FE;\n",
              "      --fill-color: #1967D2;\n",
              "      --hover-bg-color: #E2EBFA;\n",
              "      --hover-fill-color: #174EA6;\n",
              "      --disabled-fill-color: #AAA;\n",
              "      --disabled-bg-color: #DDD;\n",
              "  }\n",
              "\n",
              "  [theme=dark] .colab-df-quickchart {\n",
              "      --bg-color: #3B4455;\n",
              "      --fill-color: #D2E3FC;\n",
              "      --hover-bg-color: #434B5C;\n",
              "      --hover-fill-color: #FFFFFF;\n",
              "      --disabled-bg-color: #3B4455;\n",
              "      --disabled-fill-color: #666;\n",
              "  }\n",
              "\n",
              "  .colab-df-quickchart {\n",
              "    background-color: var(--bg-color);\n",
              "    border: none;\n",
              "    border-radius: 50%;\n",
              "    cursor: pointer;\n",
              "    display: none;\n",
              "    fill: var(--fill-color);\n",
              "    height: 32px;\n",
              "    padding: 0;\n",
              "    width: 32px;\n",
              "  }\n",
              "\n",
              "  .colab-df-quickchart:hover {\n",
              "    background-color: var(--hover-bg-color);\n",
              "    box-shadow: 0 1px 2px rgba(60, 64, 67, 0.3), 0 1px 3px 1px rgba(60, 64, 67, 0.15);\n",
              "    fill: var(--button-hover-fill-color);\n",
              "  }\n",
              "\n",
              "  .colab-df-quickchart-complete:disabled,\n",
              "  .colab-df-quickchart-complete:disabled:hover {\n",
              "    background-color: var(--disabled-bg-color);\n",
              "    fill: var(--disabled-fill-color);\n",
              "    box-shadow: none;\n",
              "  }\n",
              "\n",
              "  .colab-df-spinner {\n",
              "    border: 2px solid var(--fill-color);\n",
              "    border-color: transparent;\n",
              "    border-bottom-color: var(--fill-color);\n",
              "    animation:\n",
              "      spin 1s steps(1) infinite;\n",
              "  }\n",
              "\n",
              "  @keyframes spin {\n",
              "    0% {\n",
              "      border-color: transparent;\n",
              "      border-bottom-color: var(--fill-color);\n",
              "      border-left-color: var(--fill-color);\n",
              "    }\n",
              "    20% {\n",
              "      border-color: transparent;\n",
              "      border-left-color: var(--fill-color);\n",
              "      border-top-color: var(--fill-color);\n",
              "    }\n",
              "    30% {\n",
              "      border-color: transparent;\n",
              "      border-left-color: var(--fill-color);\n",
              "      border-top-color: var(--fill-color);\n",
              "      border-right-color: var(--fill-color);\n",
              "    }\n",
              "    40% {\n",
              "      border-color: transparent;\n",
              "      border-right-color: var(--fill-color);\n",
              "      border-top-color: var(--fill-color);\n",
              "    }\n",
              "    60% {\n",
              "      border-color: transparent;\n",
              "      border-right-color: var(--fill-color);\n",
              "    }\n",
              "    80% {\n",
              "      border-color: transparent;\n",
              "      border-right-color: var(--fill-color);\n",
              "      border-bottom-color: var(--fill-color);\n",
              "    }\n",
              "    90% {\n",
              "      border-color: transparent;\n",
              "      border-bottom-color: var(--fill-color);\n",
              "    }\n",
              "  }\n",
              "</style>\n",
              "\n",
              "      <script>\n",
              "        async function quickchart(key) {\n",
              "          const quickchartButtonEl =\n",
              "            document.querySelector('#' + key + ' button');\n",
              "          quickchartButtonEl.disabled = true;  // To prevent multiple clicks.\n",
              "          quickchartButtonEl.classList.add('colab-df-spinner');\n",
              "          try {\n",
              "            const charts = await google.colab.kernel.invokeFunction(\n",
              "                'suggestCharts', [key], {});\n",
              "          } catch (error) {\n",
              "            console.error('Error during call to suggestCharts:', error);\n",
              "          }\n",
              "          quickchartButtonEl.classList.remove('colab-df-spinner');\n",
              "          quickchartButtonEl.classList.add('colab-df-quickchart-complete');\n",
              "        }\n",
              "        (() => {\n",
              "          let quickchartButtonEl =\n",
              "            document.querySelector('#df-a678345d-c275-488e-b0b1-00e97e3bf574 button');\n",
              "          quickchartButtonEl.style.display =\n",
              "            google.colab.kernel.accessAllowed ? 'block' : 'none';\n",
              "        })();\n",
              "      </script>\n",
              "    </div>\n",
              "\n",
              "  <div id=\"id_49400669-5307-47c5-9cc9-c13a422ed144\">\n",
              "    <style>\n",
              "      .colab-df-generate {\n",
              "        background-color: #E8F0FE;\n",
              "        border: none;\n",
              "        border-radius: 50%;\n",
              "        cursor: pointer;\n",
              "        display: none;\n",
              "        fill: #1967D2;\n",
              "        height: 32px;\n",
              "        padding: 0 0 0 0;\n",
              "        width: 32px;\n",
              "      }\n",
              "\n",
              "      .colab-df-generate:hover {\n",
              "        background-color: #E2EBFA;\n",
              "        box-shadow: 0px 1px 2px rgba(60, 64, 67, 0.3), 0px 1px 3px 1px rgba(60, 64, 67, 0.15);\n",
              "        fill: #174EA6;\n",
              "      }\n",
              "\n",
              "      [theme=dark] .colab-df-generate {\n",
              "        background-color: #3B4455;\n",
              "        fill: #D2E3FC;\n",
              "      }\n",
              "\n",
              "      [theme=dark] .colab-df-generate:hover {\n",
              "        background-color: #434B5C;\n",
              "        box-shadow: 0px 1px 3px 1px rgba(0, 0, 0, 0.15);\n",
              "        filter: drop-shadow(0px 1px 2px rgba(0, 0, 0, 0.3));\n",
              "        fill: #FFFFFF;\n",
              "      }\n",
              "    </style>\n",
              "    <button class=\"colab-df-generate\" onclick=\"generateWithVariable('df')\"\n",
              "            title=\"Generate code using this dataframe.\"\n",
              "            style=\"display:none;\">\n",
              "\n",
              "  <svg xmlns=\"http://www.w3.org/2000/svg\" height=\"24px\"viewBox=\"0 0 24 24\"\n",
              "       width=\"24px\">\n",
              "    <path d=\"M7,19H8.4L18.45,9,17,7.55,7,17.6ZM5,21V16.75L18.45,3.32a2,2,0,0,1,2.83,0l1.4,1.43a1.91,1.91,0,0,1,.58,1.4,1.91,1.91,0,0,1-.58,1.4L9.25,21ZM18.45,9,17,7.55Zm-12,3A5.31,5.31,0,0,0,4.9,8.1,5.31,5.31,0,0,0,1,6.5,5.31,5.31,0,0,0,4.9,4.9,5.31,5.31,0,0,0,6.5,1,5.31,5.31,0,0,0,8.1,4.9,5.31,5.31,0,0,0,12,6.5,5.46,5.46,0,0,0,6.5,12Z\"/>\n",
              "  </svg>\n",
              "    </button>\n",
              "    <script>\n",
              "      (() => {\n",
              "      const buttonEl =\n",
              "        document.querySelector('#id_49400669-5307-47c5-9cc9-c13a422ed144 button.colab-df-generate');\n",
              "      buttonEl.style.display =\n",
              "        google.colab.kernel.accessAllowed ? 'block' : 'none';\n",
              "\n",
              "      buttonEl.onclick = () => {\n",
              "        google.colab.notebook.generateWithVariable('df');\n",
              "      }\n",
              "      })();\n",
              "    </script>\n",
              "  </div>\n",
              "\n",
              "    </div>\n",
              "  </div>\n"
            ],
            "application/vnd.google.colaboratory.intrinsic+json": {
              "type": "dataframe",
              "variable_name": "df",
              "summary": "{\n  \"name\": \"df\",\n  \"rows\": 9548,\n  \"fields\": [\n    {\n      \"column\": \"Crime ID\",\n      \"properties\": {\n        \"dtype\": \"string\",\n        \"num_unique_values\": 7931,\n        \"samples\": [\n          \"3896922bab27c2bd02a8e54c6c032e71363aaba5a98bc4815bfc21c4fef76c47\",\n          \"0f9f73f6dfff8ca6ce42f6b233c220881dee35a08f7f3e7e7dd598586cfaa145\",\n          \"215326910176f668399060a093b56e2de681613a924aed03095929710fbc4446\"\n        ],\n        \"semantic_type\": \"\",\n        \"description\": \"\"\n      }\n    },\n    {\n      \"column\": \"Month\",\n      \"properties\": {\n        \"dtype\": \"object\",\n        \"num_unique_values\": 1,\n        \"samples\": [\n          \"2025-01\"\n        ],\n        \"semantic_type\": \"\",\n        \"description\": \"\"\n      }\n    },\n    {\n      \"column\": \"Reported by\",\n      \"properties\": {\n        \"dtype\": \"category\",\n        \"num_unique_values\": 1,\n        \"samples\": [\n          \"Nottinghamshire Police\"\n        ],\n        \"semantic_type\": \"\",\n        \"description\": \"\"\n      }\n    },\n    {\n      \"column\": \"Falls within\",\n      \"properties\": {\n        \"dtype\": \"category\",\n        \"num_unique_values\": 1,\n        \"samples\": [\n          \"Nottinghamshire Police\"\n        ],\n        \"semantic_type\": \"\",\n        \"description\": \"\"\n      }\n    },\n    {\n      \"column\": \"Longitude\",\n      \"properties\": {\n        \"dtype\": \"number\",\n        \"std\": 0.2565279180566356,\n        \"min\": -3.560327,\n        \"max\": 0.343471,\n        \"num_unique_values\": 4230,\n        \"samples\": [\n          -1.197924\n        ],\n        \"semantic_type\": \"\",\n        \"description\": \"\"\n      }\n    },\n    {\n      \"column\": \"Latitude\",\n      \"properties\": {\n        \"dtype\": \"number\",\n        \"std\": 0.18742393500132434,\n        \"min\": 51.530786,\n        \"max\": 54.536569,\n        \"num_unique_values\": 4225,\n        \"samples\": [\n          52.980822\n        ],\n        \"semantic_type\": \"\",\n        \"description\": \"\"\n      }\n    },\n    {\n      \"column\": \"Location\",\n      \"properties\": {\n        \"dtype\": \"category\",\n        \"num_unique_values\": 3425,\n        \"samples\": [\n          \"On or near Northumbria Close\"\n        ],\n        \"semantic_type\": \"\",\n        \"description\": \"\"\n      }\n    },\n    {\n      \"column\": \"LSOA code\",\n      \"properties\": {\n        \"dtype\": \"category\",\n        \"num_unique_values\": 750,\n        \"samples\": [\n          \"E01033398\"\n        ],\n        \"semantic_type\": \"\",\n        \"description\": \"\"\n      }\n    },\n    {\n      \"column\": \"LSOA name\",\n      \"properties\": {\n        \"dtype\": \"category\",\n        \"num_unique_values\": 750,\n        \"samples\": [\n          \"Nottingham 006G\"\n        ],\n        \"semantic_type\": \"\",\n        \"description\": \"\"\n      }\n    },\n    {\n      \"column\": \"Crime type\",\n      \"properties\": {\n        \"dtype\": \"category\",\n        \"num_unique_values\": 14,\n        \"samples\": [\n          \"Possession of weapons\"\n        ],\n        \"semantic_type\": \"\",\n        \"description\": \"\"\n      }\n    },\n    {\n      \"column\": \"Last outcome category\",\n      \"properties\": {\n        \"dtype\": \"category\",\n        \"num_unique_values\": 11,\n        \"samples\": [\n          \"Formal action is not in the public interest\"\n        ],\n        \"semantic_type\": \"\",\n        \"description\": \"\"\n      }\n    },\n    {\n      \"column\": \"Context\",\n      \"properties\": {\n        \"dtype\": \"number\",\n        \"std\": null,\n        \"min\": null,\n        \"max\": null,\n        \"num_unique_values\": 0,\n        \"samples\": [],\n        \"semantic_type\": \"\",\n        \"description\": \"\"\n      }\n    }\n  ]\n}"
            }
          },
          "metadata": {},
          "execution_count": 49
        }
      ]
    },
    {
      "cell_type": "code",
      "source": [
        "df.info()"
      ],
      "metadata": {
        "colab": {
          "base_uri": "https://localhost:8080/"
        },
        "id": "Knd7_TxJdU0a",
        "outputId": "928ba8f2-bc6f-4846-edf1-82b0e43a9888"
      },
      "execution_count": 50,
      "outputs": [
        {
          "output_type": "stream",
          "name": "stdout",
          "text": [
            "<class 'pandas.core.frame.DataFrame'>\n",
            "RangeIndex: 9548 entries, 0 to 9547\n",
            "Data columns (total 12 columns):\n",
            " #   Column                 Non-Null Count  Dtype  \n",
            "---  ------                 --------------  -----  \n",
            " 0   Crime ID               7963 non-null   object \n",
            " 1   Month                  9548 non-null   object \n",
            " 2   Reported by            9548 non-null   object \n",
            " 3   Falls within           9548 non-null   object \n",
            " 4   Longitude              9475 non-null   float64\n",
            " 5   Latitude               9475 non-null   float64\n",
            " 6   Location               9548 non-null   object \n",
            " 7   LSOA code              9475 non-null   object \n",
            " 8   LSOA name              9475 non-null   object \n",
            " 9   Crime type             9548 non-null   object \n",
            " 10  Last outcome category  7963 non-null   object \n",
            " 11  Context                0 non-null      float64\n",
            "dtypes: float64(3), object(9)\n",
            "memory usage: 895.3+ KB\n"
          ]
        }
      ]
    },
    {
      "cell_type": "code",
      "source": [
        "df.isnull().sum()"
      ],
      "metadata": {
        "colab": {
          "base_uri": "https://localhost:8080/",
          "height": 380
        },
        "id": "G56LbD6Jlesz",
        "outputId": "6ae8bbaf-8404-4912-9b58-947b0032eda2"
      },
      "execution_count": 51,
      "outputs": [
        {
          "output_type": "execute_result",
          "data": {
            "text/plain": [
              "Crime ID                 1585\n",
              "Month                       0\n",
              "Reported by                 0\n",
              "Falls within                0\n",
              "Longitude                  73\n",
              "Latitude                   73\n",
              "Location                    0\n",
              "LSOA code                  73\n",
              "LSOA name                  73\n",
              "Crime type                  0\n",
              "Last outcome category    1585\n",
              "Context                  9548\n",
              "dtype: int64"
            ],
            "text/html": [
              "<div>\n",
              "<style scoped>\n",
              "    .dataframe tbody tr th:only-of-type {\n",
              "        vertical-align: middle;\n",
              "    }\n",
              "\n",
              "    .dataframe tbody tr th {\n",
              "        vertical-align: top;\n",
              "    }\n",
              "\n",
              "    .dataframe thead th {\n",
              "        text-align: right;\n",
              "    }\n",
              "</style>\n",
              "<table border=\"1\" class=\"dataframe\">\n",
              "  <thead>\n",
              "    <tr style=\"text-align: right;\">\n",
              "      <th></th>\n",
              "      <th>0</th>\n",
              "    </tr>\n",
              "  </thead>\n",
              "  <tbody>\n",
              "    <tr>\n",
              "      <th>Crime ID</th>\n",
              "      <td>1585</td>\n",
              "    </tr>\n",
              "    <tr>\n",
              "      <th>Month</th>\n",
              "      <td>0</td>\n",
              "    </tr>\n",
              "    <tr>\n",
              "      <th>Reported by</th>\n",
              "      <td>0</td>\n",
              "    </tr>\n",
              "    <tr>\n",
              "      <th>Falls within</th>\n",
              "      <td>0</td>\n",
              "    </tr>\n",
              "    <tr>\n",
              "      <th>Longitude</th>\n",
              "      <td>73</td>\n",
              "    </tr>\n",
              "    <tr>\n",
              "      <th>Latitude</th>\n",
              "      <td>73</td>\n",
              "    </tr>\n",
              "    <tr>\n",
              "      <th>Location</th>\n",
              "      <td>0</td>\n",
              "    </tr>\n",
              "    <tr>\n",
              "      <th>LSOA code</th>\n",
              "      <td>73</td>\n",
              "    </tr>\n",
              "    <tr>\n",
              "      <th>LSOA name</th>\n",
              "      <td>73</td>\n",
              "    </tr>\n",
              "    <tr>\n",
              "      <th>Crime type</th>\n",
              "      <td>0</td>\n",
              "    </tr>\n",
              "    <tr>\n",
              "      <th>Last outcome category</th>\n",
              "      <td>1585</td>\n",
              "    </tr>\n",
              "    <tr>\n",
              "      <th>Context</th>\n",
              "      <td>9548</td>\n",
              "    </tr>\n",
              "  </tbody>\n",
              "</table>\n",
              "</div><br><label><b>dtype:</b> int64</label>"
            ]
          },
          "metadata": {},
          "execution_count": 51
        }
      ]
    },
    {
      "cell_type": "markdown",
      "source": [
        "### Drop na ใน LSOA Code"
      ],
      "metadata": {
        "id": "bhENmTH92IUi"
      }
    },
    {
      "cell_type": "code",
      "source": [
        "df[df['LSOA code'].isnull()]"
      ],
      "metadata": {
        "colab": {
          "base_uri": "https://localhost:8080/",
          "height": 778
        },
        "id": "mmjWKBNbOk0d",
        "outputId": "eb751f91-38c3-4e80-fa7f-73f5ca481d14"
      },
      "execution_count": 52,
      "outputs": [
        {
          "output_type": "execute_result",
          "data": {
            "text/plain": [
              "                                               Crime ID    Month  \\\n",
              "9475  63a8d5e0a3bd772dc4aa71a487e391533481f46f172d43...  2025-01   \n",
              "9476  fdf5b4e091fef0599a5e2f4d13f4c8b988980c73077384...  2025-01   \n",
              "9477  41a428ef9d6cd8ca317b2ea502f7108ea35567965a1ed0...  2025-01   \n",
              "9478  49827b14fbd2224a8fefc9e7e852efc26f0920d736375f...  2025-01   \n",
              "9479  fe830dda8b3b114412cd3fa57ad76aeadca20e4764a910...  2025-01   \n",
              "...                                                 ...      ...   \n",
              "9543  231f16011fd10da9fe31f741408d2f150a1bd455c15297...  2025-01   \n",
              "9544  24700e2d6d67b17a25b431593fd41f3cc178ee2f8ab8f1...  2025-01   \n",
              "9545  0eda8615e5710293042e971b618c1c216a37129f92a260...  2025-01   \n",
              "9546  be9c26093704a2ae6ad9c077f9ff9002a48bdcfc24aa4d...  2025-01   \n",
              "9547  e21de09094e0ec260457cc0c74bb19b94fb2a68a378a5e...  2025-01   \n",
              "\n",
              "                 Reported by            Falls within  Longitude  Latitude  \\\n",
              "9475  Nottinghamshire Police  Nottinghamshire Police        NaN       NaN   \n",
              "9476  Nottinghamshire Police  Nottinghamshire Police        NaN       NaN   \n",
              "9477  Nottinghamshire Police  Nottinghamshire Police        NaN       NaN   \n",
              "9478  Nottinghamshire Police  Nottinghamshire Police        NaN       NaN   \n",
              "9479  Nottinghamshire Police  Nottinghamshire Police        NaN       NaN   \n",
              "...                      ...                     ...        ...       ...   \n",
              "9543  Nottinghamshire Police  Nottinghamshire Police        NaN       NaN   \n",
              "9544  Nottinghamshire Police  Nottinghamshire Police        NaN       NaN   \n",
              "9545  Nottinghamshire Police  Nottinghamshire Police        NaN       NaN   \n",
              "9546  Nottinghamshire Police  Nottinghamshire Police        NaN       NaN   \n",
              "9547  Nottinghamshire Police  Nottinghamshire Police        NaN       NaN   \n",
              "\n",
              "         Location LSOA code LSOA name                    Crime type  \\\n",
              "9475  No Location       NaN       NaN                      Burglary   \n",
              "9476  No Location       NaN       NaN                      Burglary   \n",
              "9477  No Location       NaN       NaN                      Burglary   \n",
              "9478  No Location       NaN       NaN                      Burglary   \n",
              "9479  No Location       NaN       NaN                      Burglary   \n",
              "...           ...       ...       ...                           ...   \n",
              "9543  No Location       NaN       NaN  Violence and sexual offences   \n",
              "9544  No Location       NaN       NaN  Violence and sexual offences   \n",
              "9545  No Location       NaN       NaN  Violence and sexual offences   \n",
              "9546  No Location       NaN       NaN  Violence and sexual offences   \n",
              "9547  No Location       NaN       NaN                   Other crime   \n",
              "\n",
              "                              Last outcome category  Context  \n",
              "9475  Investigation complete; no suspect identified      NaN  \n",
              "9476                         Awaiting court outcome      NaN  \n",
              "9477  Investigation complete; no suspect identified      NaN  \n",
              "9478  Investigation complete; no suspect identified      NaN  \n",
              "9479                    Unable to prosecute suspect      NaN  \n",
              "...                                             ...      ...  \n",
              "9543                            Under investigation      NaN  \n",
              "9544                    Unable to prosecute suspect      NaN  \n",
              "9545     Action to be taken by another organisation      NaN  \n",
              "9546  Investigation complete; no suspect identified      NaN  \n",
              "9547                         Awaiting court outcome      NaN  \n",
              "\n",
              "[73 rows x 12 columns]"
            ],
            "text/html": [
              "\n",
              "  <div id=\"df-ce2ed52c-baee-473b-8678-8608dbc048b6\" class=\"colab-df-container\">\n",
              "    <div>\n",
              "<style scoped>\n",
              "    .dataframe tbody tr th:only-of-type {\n",
              "        vertical-align: middle;\n",
              "    }\n",
              "\n",
              "    .dataframe tbody tr th {\n",
              "        vertical-align: top;\n",
              "    }\n",
              "\n",
              "    .dataframe thead th {\n",
              "        text-align: right;\n",
              "    }\n",
              "</style>\n",
              "<table border=\"1\" class=\"dataframe\">\n",
              "  <thead>\n",
              "    <tr style=\"text-align: right;\">\n",
              "      <th></th>\n",
              "      <th>Crime ID</th>\n",
              "      <th>Month</th>\n",
              "      <th>Reported by</th>\n",
              "      <th>Falls within</th>\n",
              "      <th>Longitude</th>\n",
              "      <th>Latitude</th>\n",
              "      <th>Location</th>\n",
              "      <th>LSOA code</th>\n",
              "      <th>LSOA name</th>\n",
              "      <th>Crime type</th>\n",
              "      <th>Last outcome category</th>\n",
              "      <th>Context</th>\n",
              "    </tr>\n",
              "  </thead>\n",
              "  <tbody>\n",
              "    <tr>\n",
              "      <th>9475</th>\n",
              "      <td>63a8d5e0a3bd772dc4aa71a487e391533481f46f172d43...</td>\n",
              "      <td>2025-01</td>\n",
              "      <td>Nottinghamshire Police</td>\n",
              "      <td>Nottinghamshire Police</td>\n",
              "      <td>NaN</td>\n",
              "      <td>NaN</td>\n",
              "      <td>No Location</td>\n",
              "      <td>NaN</td>\n",
              "      <td>NaN</td>\n",
              "      <td>Burglary</td>\n",
              "      <td>Investigation complete; no suspect identified</td>\n",
              "      <td>NaN</td>\n",
              "    </tr>\n",
              "    <tr>\n",
              "      <th>9476</th>\n",
              "      <td>fdf5b4e091fef0599a5e2f4d13f4c8b988980c73077384...</td>\n",
              "      <td>2025-01</td>\n",
              "      <td>Nottinghamshire Police</td>\n",
              "      <td>Nottinghamshire Police</td>\n",
              "      <td>NaN</td>\n",
              "      <td>NaN</td>\n",
              "      <td>No Location</td>\n",
              "      <td>NaN</td>\n",
              "      <td>NaN</td>\n",
              "      <td>Burglary</td>\n",
              "      <td>Awaiting court outcome</td>\n",
              "      <td>NaN</td>\n",
              "    </tr>\n",
              "    <tr>\n",
              "      <th>9477</th>\n",
              "      <td>41a428ef9d6cd8ca317b2ea502f7108ea35567965a1ed0...</td>\n",
              "      <td>2025-01</td>\n",
              "      <td>Nottinghamshire Police</td>\n",
              "      <td>Nottinghamshire Police</td>\n",
              "      <td>NaN</td>\n",
              "      <td>NaN</td>\n",
              "      <td>No Location</td>\n",
              "      <td>NaN</td>\n",
              "      <td>NaN</td>\n",
              "      <td>Burglary</td>\n",
              "      <td>Investigation complete; no suspect identified</td>\n",
              "      <td>NaN</td>\n",
              "    </tr>\n",
              "    <tr>\n",
              "      <th>9478</th>\n",
              "      <td>49827b14fbd2224a8fefc9e7e852efc26f0920d736375f...</td>\n",
              "      <td>2025-01</td>\n",
              "      <td>Nottinghamshire Police</td>\n",
              "      <td>Nottinghamshire Police</td>\n",
              "      <td>NaN</td>\n",
              "      <td>NaN</td>\n",
              "      <td>No Location</td>\n",
              "      <td>NaN</td>\n",
              "      <td>NaN</td>\n",
              "      <td>Burglary</td>\n",
              "      <td>Investigation complete; no suspect identified</td>\n",
              "      <td>NaN</td>\n",
              "    </tr>\n",
              "    <tr>\n",
              "      <th>9479</th>\n",
              "      <td>fe830dda8b3b114412cd3fa57ad76aeadca20e4764a910...</td>\n",
              "      <td>2025-01</td>\n",
              "      <td>Nottinghamshire Police</td>\n",
              "      <td>Nottinghamshire Police</td>\n",
              "      <td>NaN</td>\n",
              "      <td>NaN</td>\n",
              "      <td>No Location</td>\n",
              "      <td>NaN</td>\n",
              "      <td>NaN</td>\n",
              "      <td>Burglary</td>\n",
              "      <td>Unable to prosecute suspect</td>\n",
              "      <td>NaN</td>\n",
              "    </tr>\n",
              "    <tr>\n",
              "      <th>...</th>\n",
              "      <td>...</td>\n",
              "      <td>...</td>\n",
              "      <td>...</td>\n",
              "      <td>...</td>\n",
              "      <td>...</td>\n",
              "      <td>...</td>\n",
              "      <td>...</td>\n",
              "      <td>...</td>\n",
              "      <td>...</td>\n",
              "      <td>...</td>\n",
              "      <td>...</td>\n",
              "      <td>...</td>\n",
              "    </tr>\n",
              "    <tr>\n",
              "      <th>9543</th>\n",
              "      <td>231f16011fd10da9fe31f741408d2f150a1bd455c15297...</td>\n",
              "      <td>2025-01</td>\n",
              "      <td>Nottinghamshire Police</td>\n",
              "      <td>Nottinghamshire Police</td>\n",
              "      <td>NaN</td>\n",
              "      <td>NaN</td>\n",
              "      <td>No Location</td>\n",
              "      <td>NaN</td>\n",
              "      <td>NaN</td>\n",
              "      <td>Violence and sexual offences</td>\n",
              "      <td>Under investigation</td>\n",
              "      <td>NaN</td>\n",
              "    </tr>\n",
              "    <tr>\n",
              "      <th>9544</th>\n",
              "      <td>24700e2d6d67b17a25b431593fd41f3cc178ee2f8ab8f1...</td>\n",
              "      <td>2025-01</td>\n",
              "      <td>Nottinghamshire Police</td>\n",
              "      <td>Nottinghamshire Police</td>\n",
              "      <td>NaN</td>\n",
              "      <td>NaN</td>\n",
              "      <td>No Location</td>\n",
              "      <td>NaN</td>\n",
              "      <td>NaN</td>\n",
              "      <td>Violence and sexual offences</td>\n",
              "      <td>Unable to prosecute suspect</td>\n",
              "      <td>NaN</td>\n",
              "    </tr>\n",
              "    <tr>\n",
              "      <th>9545</th>\n",
              "      <td>0eda8615e5710293042e971b618c1c216a37129f92a260...</td>\n",
              "      <td>2025-01</td>\n",
              "      <td>Nottinghamshire Police</td>\n",
              "      <td>Nottinghamshire Police</td>\n",
              "      <td>NaN</td>\n",
              "      <td>NaN</td>\n",
              "      <td>No Location</td>\n",
              "      <td>NaN</td>\n",
              "      <td>NaN</td>\n",
              "      <td>Violence and sexual offences</td>\n",
              "      <td>Action to be taken by another organisation</td>\n",
              "      <td>NaN</td>\n",
              "    </tr>\n",
              "    <tr>\n",
              "      <th>9546</th>\n",
              "      <td>be9c26093704a2ae6ad9c077f9ff9002a48bdcfc24aa4d...</td>\n",
              "      <td>2025-01</td>\n",
              "      <td>Nottinghamshire Police</td>\n",
              "      <td>Nottinghamshire Police</td>\n",
              "      <td>NaN</td>\n",
              "      <td>NaN</td>\n",
              "      <td>No Location</td>\n",
              "      <td>NaN</td>\n",
              "      <td>NaN</td>\n",
              "      <td>Violence and sexual offences</td>\n",
              "      <td>Investigation complete; no suspect identified</td>\n",
              "      <td>NaN</td>\n",
              "    </tr>\n",
              "    <tr>\n",
              "      <th>9547</th>\n",
              "      <td>e21de09094e0ec260457cc0c74bb19b94fb2a68a378a5e...</td>\n",
              "      <td>2025-01</td>\n",
              "      <td>Nottinghamshire Police</td>\n",
              "      <td>Nottinghamshire Police</td>\n",
              "      <td>NaN</td>\n",
              "      <td>NaN</td>\n",
              "      <td>No Location</td>\n",
              "      <td>NaN</td>\n",
              "      <td>NaN</td>\n",
              "      <td>Other crime</td>\n",
              "      <td>Awaiting court outcome</td>\n",
              "      <td>NaN</td>\n",
              "    </tr>\n",
              "  </tbody>\n",
              "</table>\n",
              "<p>73 rows × 12 columns</p>\n",
              "</div>\n",
              "    <div class=\"colab-df-buttons\">\n",
              "\n",
              "  <div class=\"colab-df-container\">\n",
              "    <button class=\"colab-df-convert\" onclick=\"convertToInteractive('df-ce2ed52c-baee-473b-8678-8608dbc048b6')\"\n",
              "            title=\"Convert this dataframe to an interactive table.\"\n",
              "            style=\"display:none;\">\n",
              "\n",
              "  <svg xmlns=\"http://www.w3.org/2000/svg\" height=\"24px\" viewBox=\"0 -960 960 960\">\n",
              "    <path d=\"M120-120v-720h720v720H120Zm60-500h600v-160H180v160Zm220 220h160v-160H400v160Zm0 220h160v-160H400v160ZM180-400h160v-160H180v160Zm440 0h160v-160H620v160ZM180-180h160v-160H180v160Zm440 0h160v-160H620v160Z\"/>\n",
              "  </svg>\n",
              "    </button>\n",
              "\n",
              "  <style>\n",
              "    .colab-df-container {\n",
              "      display:flex;\n",
              "      gap: 12px;\n",
              "    }\n",
              "\n",
              "    .colab-df-convert {\n",
              "      background-color: #E8F0FE;\n",
              "      border: none;\n",
              "      border-radius: 50%;\n",
              "      cursor: pointer;\n",
              "      display: none;\n",
              "      fill: #1967D2;\n",
              "      height: 32px;\n",
              "      padding: 0 0 0 0;\n",
              "      width: 32px;\n",
              "    }\n",
              "\n",
              "    .colab-df-convert:hover {\n",
              "      background-color: #E2EBFA;\n",
              "      box-shadow: 0px 1px 2px rgba(60, 64, 67, 0.3), 0px 1px 3px 1px rgba(60, 64, 67, 0.15);\n",
              "      fill: #174EA6;\n",
              "    }\n",
              "\n",
              "    .colab-df-buttons div {\n",
              "      margin-bottom: 4px;\n",
              "    }\n",
              "\n",
              "    [theme=dark] .colab-df-convert {\n",
              "      background-color: #3B4455;\n",
              "      fill: #D2E3FC;\n",
              "    }\n",
              "\n",
              "    [theme=dark] .colab-df-convert:hover {\n",
              "      background-color: #434B5C;\n",
              "      box-shadow: 0px 1px 3px 1px rgba(0, 0, 0, 0.15);\n",
              "      filter: drop-shadow(0px 1px 2px rgba(0, 0, 0, 0.3));\n",
              "      fill: #FFFFFF;\n",
              "    }\n",
              "  </style>\n",
              "\n",
              "    <script>\n",
              "      const buttonEl =\n",
              "        document.querySelector('#df-ce2ed52c-baee-473b-8678-8608dbc048b6 button.colab-df-convert');\n",
              "      buttonEl.style.display =\n",
              "        google.colab.kernel.accessAllowed ? 'block' : 'none';\n",
              "\n",
              "      async function convertToInteractive(key) {\n",
              "        const element = document.querySelector('#df-ce2ed52c-baee-473b-8678-8608dbc048b6');\n",
              "        const dataTable =\n",
              "          await google.colab.kernel.invokeFunction('convertToInteractive',\n",
              "                                                    [key], {});\n",
              "        if (!dataTable) return;\n",
              "\n",
              "        const docLinkHtml = 'Like what you see? Visit the ' +\n",
              "          '<a target=\"_blank\" href=https://colab.research.google.com/notebooks/data_table.ipynb>data table notebook</a>'\n",
              "          + ' to learn more about interactive tables.';\n",
              "        element.innerHTML = '';\n",
              "        dataTable['output_type'] = 'display_data';\n",
              "        await google.colab.output.renderOutput(dataTable, element);\n",
              "        const docLink = document.createElement('div');\n",
              "        docLink.innerHTML = docLinkHtml;\n",
              "        element.appendChild(docLink);\n",
              "      }\n",
              "    </script>\n",
              "  </div>\n",
              "\n",
              "\n",
              "    <div id=\"df-39c1342f-f639-47e0-bb73-9bb29e0f7d09\">\n",
              "      <button class=\"colab-df-quickchart\" onclick=\"quickchart('df-39c1342f-f639-47e0-bb73-9bb29e0f7d09')\"\n",
              "                title=\"Suggest charts\"\n",
              "                style=\"display:none;\">\n",
              "\n",
              "<svg xmlns=\"http://www.w3.org/2000/svg\" height=\"24px\"viewBox=\"0 0 24 24\"\n",
              "     width=\"24px\">\n",
              "    <g>\n",
              "        <path d=\"M19 3H5c-1.1 0-2 .9-2 2v14c0 1.1.9 2 2 2h14c1.1 0 2-.9 2-2V5c0-1.1-.9-2-2-2zM9 17H7v-7h2v7zm4 0h-2V7h2v10zm4 0h-2v-4h2v4z\"/>\n",
              "    </g>\n",
              "</svg>\n",
              "      </button>\n",
              "\n",
              "<style>\n",
              "  .colab-df-quickchart {\n",
              "      --bg-color: #E8F0FE;\n",
              "      --fill-color: #1967D2;\n",
              "      --hover-bg-color: #E2EBFA;\n",
              "      --hover-fill-color: #174EA6;\n",
              "      --disabled-fill-color: #AAA;\n",
              "      --disabled-bg-color: #DDD;\n",
              "  }\n",
              "\n",
              "  [theme=dark] .colab-df-quickchart {\n",
              "      --bg-color: #3B4455;\n",
              "      --fill-color: #D2E3FC;\n",
              "      --hover-bg-color: #434B5C;\n",
              "      --hover-fill-color: #FFFFFF;\n",
              "      --disabled-bg-color: #3B4455;\n",
              "      --disabled-fill-color: #666;\n",
              "  }\n",
              "\n",
              "  .colab-df-quickchart {\n",
              "    background-color: var(--bg-color);\n",
              "    border: none;\n",
              "    border-radius: 50%;\n",
              "    cursor: pointer;\n",
              "    display: none;\n",
              "    fill: var(--fill-color);\n",
              "    height: 32px;\n",
              "    padding: 0;\n",
              "    width: 32px;\n",
              "  }\n",
              "\n",
              "  .colab-df-quickchart:hover {\n",
              "    background-color: var(--hover-bg-color);\n",
              "    box-shadow: 0 1px 2px rgba(60, 64, 67, 0.3), 0 1px 3px 1px rgba(60, 64, 67, 0.15);\n",
              "    fill: var(--button-hover-fill-color);\n",
              "  }\n",
              "\n",
              "  .colab-df-quickchart-complete:disabled,\n",
              "  .colab-df-quickchart-complete:disabled:hover {\n",
              "    background-color: var(--disabled-bg-color);\n",
              "    fill: var(--disabled-fill-color);\n",
              "    box-shadow: none;\n",
              "  }\n",
              "\n",
              "  .colab-df-spinner {\n",
              "    border: 2px solid var(--fill-color);\n",
              "    border-color: transparent;\n",
              "    border-bottom-color: var(--fill-color);\n",
              "    animation:\n",
              "      spin 1s steps(1) infinite;\n",
              "  }\n",
              "\n",
              "  @keyframes spin {\n",
              "    0% {\n",
              "      border-color: transparent;\n",
              "      border-bottom-color: var(--fill-color);\n",
              "      border-left-color: var(--fill-color);\n",
              "    }\n",
              "    20% {\n",
              "      border-color: transparent;\n",
              "      border-left-color: var(--fill-color);\n",
              "      border-top-color: var(--fill-color);\n",
              "    }\n",
              "    30% {\n",
              "      border-color: transparent;\n",
              "      border-left-color: var(--fill-color);\n",
              "      border-top-color: var(--fill-color);\n",
              "      border-right-color: var(--fill-color);\n",
              "    }\n",
              "    40% {\n",
              "      border-color: transparent;\n",
              "      border-right-color: var(--fill-color);\n",
              "      border-top-color: var(--fill-color);\n",
              "    }\n",
              "    60% {\n",
              "      border-color: transparent;\n",
              "      border-right-color: var(--fill-color);\n",
              "    }\n",
              "    80% {\n",
              "      border-color: transparent;\n",
              "      border-right-color: var(--fill-color);\n",
              "      border-bottom-color: var(--fill-color);\n",
              "    }\n",
              "    90% {\n",
              "      border-color: transparent;\n",
              "      border-bottom-color: var(--fill-color);\n",
              "    }\n",
              "  }\n",
              "</style>\n",
              "\n",
              "      <script>\n",
              "        async function quickchart(key) {\n",
              "          const quickchartButtonEl =\n",
              "            document.querySelector('#' + key + ' button');\n",
              "          quickchartButtonEl.disabled = true;  // To prevent multiple clicks.\n",
              "          quickchartButtonEl.classList.add('colab-df-spinner');\n",
              "          try {\n",
              "            const charts = await google.colab.kernel.invokeFunction(\n",
              "                'suggestCharts', [key], {});\n",
              "          } catch (error) {\n",
              "            console.error('Error during call to suggestCharts:', error);\n",
              "          }\n",
              "          quickchartButtonEl.classList.remove('colab-df-spinner');\n",
              "          quickchartButtonEl.classList.add('colab-df-quickchart-complete');\n",
              "        }\n",
              "        (() => {\n",
              "          let quickchartButtonEl =\n",
              "            document.querySelector('#df-39c1342f-f639-47e0-bb73-9bb29e0f7d09 button');\n",
              "          quickchartButtonEl.style.display =\n",
              "            google.colab.kernel.accessAllowed ? 'block' : 'none';\n",
              "        })();\n",
              "      </script>\n",
              "    </div>\n",
              "\n",
              "    </div>\n",
              "  </div>\n"
            ],
            "application/vnd.google.colaboratory.intrinsic+json": {
              "type": "dataframe",
              "repr_error": "0"
            }
          },
          "metadata": {},
          "execution_count": 52
        }
      ]
    },
    {
      "cell_type": "code",
      "source": [
        "df.dropna(subset=['LSOA code'], inplace=True)"
      ],
      "metadata": {
        "id": "wOOKO3RDqk9n"
      },
      "execution_count": 53,
      "outputs": []
    },
    {
      "cell_type": "code",
      "source": [
        "df.isnull().any()"
      ],
      "metadata": {
        "colab": {
          "base_uri": "https://localhost:8080/",
          "height": 380
        },
        "id": "wN467U-Bqk1u",
        "outputId": "ab247264-d2e5-4dd9-8524-e18a1a63c670"
      },
      "execution_count": 54,
      "outputs": [
        {
          "output_type": "execute_result",
          "data": {
            "text/plain": [
              "Crime ID                  True\n",
              "Month                    False\n",
              "Reported by              False\n",
              "Falls within             False\n",
              "Longitude                False\n",
              "Latitude                 False\n",
              "Location                 False\n",
              "LSOA code                False\n",
              "LSOA name                False\n",
              "Crime type               False\n",
              "Last outcome category     True\n",
              "Context                   True\n",
              "dtype: bool"
            ],
            "text/html": [
              "<div>\n",
              "<style scoped>\n",
              "    .dataframe tbody tr th:only-of-type {\n",
              "        vertical-align: middle;\n",
              "    }\n",
              "\n",
              "    .dataframe tbody tr th {\n",
              "        vertical-align: top;\n",
              "    }\n",
              "\n",
              "    .dataframe thead th {\n",
              "        text-align: right;\n",
              "    }\n",
              "</style>\n",
              "<table border=\"1\" class=\"dataframe\">\n",
              "  <thead>\n",
              "    <tr style=\"text-align: right;\">\n",
              "      <th></th>\n",
              "      <th>0</th>\n",
              "    </tr>\n",
              "  </thead>\n",
              "  <tbody>\n",
              "    <tr>\n",
              "      <th>Crime ID</th>\n",
              "      <td>True</td>\n",
              "    </tr>\n",
              "    <tr>\n",
              "      <th>Month</th>\n",
              "      <td>False</td>\n",
              "    </tr>\n",
              "    <tr>\n",
              "      <th>Reported by</th>\n",
              "      <td>False</td>\n",
              "    </tr>\n",
              "    <tr>\n",
              "      <th>Falls within</th>\n",
              "      <td>False</td>\n",
              "    </tr>\n",
              "    <tr>\n",
              "      <th>Longitude</th>\n",
              "      <td>False</td>\n",
              "    </tr>\n",
              "    <tr>\n",
              "      <th>Latitude</th>\n",
              "      <td>False</td>\n",
              "    </tr>\n",
              "    <tr>\n",
              "      <th>Location</th>\n",
              "      <td>False</td>\n",
              "    </tr>\n",
              "    <tr>\n",
              "      <th>LSOA code</th>\n",
              "      <td>False</td>\n",
              "    </tr>\n",
              "    <tr>\n",
              "      <th>LSOA name</th>\n",
              "      <td>False</td>\n",
              "    </tr>\n",
              "    <tr>\n",
              "      <th>Crime type</th>\n",
              "      <td>False</td>\n",
              "    </tr>\n",
              "    <tr>\n",
              "      <th>Last outcome category</th>\n",
              "      <td>True</td>\n",
              "    </tr>\n",
              "    <tr>\n",
              "      <th>Context</th>\n",
              "      <td>True</td>\n",
              "    </tr>\n",
              "  </tbody>\n",
              "</table>\n",
              "</div><br><label><b>dtype:</b> bool</label>"
            ]
          },
          "metadata": {},
          "execution_count": 54
        }
      ]
    },
    {
      "cell_type": "code",
      "source": [
        "df['Crime type'].unique()"
      ],
      "metadata": {
        "colab": {
          "base_uri": "https://localhost:8080/"
        },
        "id": "VqU8dA3Aph13",
        "outputId": "f0d92c54-89e8-4473-c5c2-3d23835405dd"
      },
      "execution_count": 55,
      "outputs": [
        {
          "output_type": "execute_result",
          "data": {
            "text/plain": [
              "array(['Drugs', 'Burglary', 'Other theft', 'Public order',\n",
              "       'Violence and sexual offences', 'Other crime',\n",
              "       'Anti-social behaviour', 'Criminal damage and arson',\n",
              "       'Vehicle crime', 'Possession of weapons', 'Shoplifting',\n",
              "       'Theft from the person', 'Bicycle theft', 'Robbery'], dtype=object)"
            ]
          },
          "metadata": {},
          "execution_count": 55
        }
      ]
    },
    {
      "cell_type": "markdown",
      "source": [
        "**ประเภทของอาชญากรรม (Crime Type)**\n",
        "<br> Anti-social behaviour\tพฤติกรรมต่อต้านสังคม\n",
        "<br> Bicycle theft\tการลักขโมยจักรยาน\n",
        "<br> Burglary\tการย่องเบา, การบุกรุกเข้าไปลักทรัพย์\n",
        "<br> Criminal damage and arson\tการทำให้เสียทรัพย์และการลอบวางเพลิง\n",
        "<br> Drugs\tยาเสพติด\n",
        "<br> Other crime\tอาชญากากรรมอื่นๆ\n",
        "<br> Other theft\tการลักขโมยอื่นๆ\n",
        "<br> Possession of weapons\tการครอบครองอาวุธ\n",
        "<br> Public order\tการก่อกวนความสงบเรียบร้อย\n",
        "<br> Robbery\tการชิงทรัพย์\n",
        "<br> Shoplifting\tการลักขโมยของในร้านค้า\n",
        "<br> Theft from the person\tการลักทรัพย์จากตัวบุคคล (เช่น ล้วงกระเป๋า)\n",
        "<br> Vehicle crime\tอาชญากรรมเกี่ยวกับยานพาหนะ\n",
        "<br> Violence and sexual offences\tความรุนแรงและอาชญากรรมทางเพศ"
      ],
      "metadata": {
        "id": "RdvkKfTbpw8G"
      }
    },
    {
      "cell_type": "markdown",
      "source": [
        "## การเตรียมข้อมูลสำหรับ Apriori Algorithm"
      ],
      "metadata": {
        "id": "ZTsoAAPFfE_i"
      }
    },
    {
      "cell_type": "code",
      "source": [
        "transactions = df.groupby('LSOA code')['Crime type'].apply(list)"
      ],
      "metadata": {
        "id": "xUB7Fzlflejb"
      },
      "execution_count": 56,
      "outputs": []
    },
    {
      "cell_type": "code",
      "source": [
        "transactions"
      ],
      "metadata": {
        "id": "QftVrPRzfOWN",
        "colab": {
          "base_uri": "https://localhost:8080/",
          "height": 406
        },
        "outputId": "af9a66bd-3745-4730-fc8d-7b33fd978e28"
      },
      "execution_count": 57,
      "outputs": [
        {
          "output_type": "execute_result",
          "data": {
            "text/plain": [
              "LSOA code\n",
              "E01004339                       [Violence and sexual offences]\n",
              "E01005221                       [Violence and sexual offences]\n",
              "E01007610                                              [Drugs]\n",
              "E01007753                          [Criminal damage and arson]\n",
              "E01010121                       [Violence and sexual offences]\n",
              "                                   ...                        \n",
              "E01035507    [Anti-social behaviour, Anti-social behaviour,...\n",
              "E01035508    [Anti-social behaviour, Anti-social behaviour,...\n",
              "E01035509                                       [Public order]\n",
              "E01035510    [Anti-social behaviour, Anti-social behaviour,...\n",
              "E01035649                              [Possession of weapons]\n",
              "Name: Crime type, Length: 750, dtype: object"
            ],
            "text/html": [
              "<div>\n",
              "<style scoped>\n",
              "    .dataframe tbody tr th:only-of-type {\n",
              "        vertical-align: middle;\n",
              "    }\n",
              "\n",
              "    .dataframe tbody tr th {\n",
              "        vertical-align: top;\n",
              "    }\n",
              "\n",
              "    .dataframe thead th {\n",
              "        text-align: right;\n",
              "    }\n",
              "</style>\n",
              "<table border=\"1\" class=\"dataframe\">\n",
              "  <thead>\n",
              "    <tr style=\"text-align: right;\">\n",
              "      <th></th>\n",
              "      <th>Crime type</th>\n",
              "    </tr>\n",
              "    <tr>\n",
              "      <th>LSOA code</th>\n",
              "      <th></th>\n",
              "    </tr>\n",
              "  </thead>\n",
              "  <tbody>\n",
              "    <tr>\n",
              "      <th>E01004339</th>\n",
              "      <td>[Violence and sexual offences]</td>\n",
              "    </tr>\n",
              "    <tr>\n",
              "      <th>E01005221</th>\n",
              "      <td>[Violence and sexual offences]</td>\n",
              "    </tr>\n",
              "    <tr>\n",
              "      <th>E01007610</th>\n",
              "      <td>[Drugs]</td>\n",
              "    </tr>\n",
              "    <tr>\n",
              "      <th>E01007753</th>\n",
              "      <td>[Criminal damage and arson]</td>\n",
              "    </tr>\n",
              "    <tr>\n",
              "      <th>E01010121</th>\n",
              "      <td>[Violence and sexual offences]</td>\n",
              "    </tr>\n",
              "    <tr>\n",
              "      <th>...</th>\n",
              "      <td>...</td>\n",
              "    </tr>\n",
              "    <tr>\n",
              "      <th>E01035507</th>\n",
              "      <td>[Anti-social behaviour, Anti-social behaviour,...</td>\n",
              "    </tr>\n",
              "    <tr>\n",
              "      <th>E01035508</th>\n",
              "      <td>[Anti-social behaviour, Anti-social behaviour,...</td>\n",
              "    </tr>\n",
              "    <tr>\n",
              "      <th>E01035509</th>\n",
              "      <td>[Public order]</td>\n",
              "    </tr>\n",
              "    <tr>\n",
              "      <th>E01035510</th>\n",
              "      <td>[Anti-social behaviour, Anti-social behaviour,...</td>\n",
              "    </tr>\n",
              "    <tr>\n",
              "      <th>E01035649</th>\n",
              "      <td>[Possession of weapons]</td>\n",
              "    </tr>\n",
              "  </tbody>\n",
              "</table>\n",
              "<p>750 rows × 1 columns</p>\n",
              "</div><br><label><b>dtype:</b> object</label>"
            ]
          },
          "metadata": {},
          "execution_count": 57
        }
      ]
    },
    {
      "cell_type": "markdown",
      "metadata": {
        "id": "AVRZ7WbITOH-"
      },
      "source": [
        "## Association Rules"
      ]
    },
    {
      "cell_type": "code",
      "source": [
        "!pip install apyori"
      ],
      "metadata": {
        "id": "WZPPHPgBk0Bg",
        "colab": {
          "base_uri": "https://localhost:8080/"
        },
        "outputId": "1415ec60-004e-49f4-d5b9-dd2e150f9e11"
      },
      "execution_count": 58,
      "outputs": [
        {
          "output_type": "stream",
          "name": "stdout",
          "text": [
            "Requirement already satisfied: apyori in /usr/local/lib/python3.12/dist-packages (1.1.2)\n"
          ]
        }
      ]
    },
    {
      "cell_type": "code",
      "source": [
        "from apyori import apriori"
      ],
      "metadata": {
        "id": "jhvTreBNkz-6"
      },
      "execution_count": 59,
      "outputs": []
    },
    {
      "cell_type": "code",
      "source": [
        "frequentItemsets = list(apriori(transactions,min_support = 0.3))"
      ],
      "metadata": {
        "id": "L1vP4gj-kz5B"
      },
      "execution_count": 60,
      "outputs": []
    },
    {
      "cell_type": "code",
      "source": [
        "frequentItemsets"
      ],
      "metadata": {
        "id": "YEIO-X72kz1_",
        "colab": {
          "base_uri": "https://localhost:8080/"
        },
        "outputId": "9af5adec-50de-4602-e935-831416f49837"
      },
      "execution_count": 61,
      "outputs": [
        {
          "output_type": "execute_result",
          "data": {
            "text/plain": [
              "[RelationRecord(items=frozenset({'Anti-social behaviour'}), support=0.6226666666666667, ordered_statistics=[OrderedStatistic(items_base=frozenset(), items_add=frozenset({'Anti-social behaviour'}), confidence=0.6226666666666667, lift=1.0)]),\n",
              " RelationRecord(items=frozenset({'Burglary'}), support=0.3453333333333333, ordered_statistics=[OrderedStatistic(items_base=frozenset(), items_add=frozenset({'Burglary'}), confidence=0.3453333333333333, lift=1.0)]),\n",
              " RelationRecord(items=frozenset({'Criminal damage and arson'}), support=0.5213333333333333, ordered_statistics=[OrderedStatistic(items_base=frozenset(), items_add=frozenset({'Criminal damage and arson'}), confidence=0.5213333333333333, lift=1.0)]),\n",
              " RelationRecord(items=frozenset({'Other theft'}), support=0.4, ordered_statistics=[OrderedStatistic(items_base=frozenset(), items_add=frozenset({'Other theft'}), confidence=0.4, lift=1.0)]),\n",
              " RelationRecord(items=frozenset({'Public order'}), support=0.37733333333333335, ordered_statistics=[OrderedStatistic(items_base=frozenset(), items_add=frozenset({'Public order'}), confidence=0.37733333333333335, lift=1.0)]),\n",
              " RelationRecord(items=frozenset({'Vehicle crime'}), support=0.3973333333333333, ordered_statistics=[OrderedStatistic(items_base=frozenset(), items_add=frozenset({'Vehicle crime'}), confidence=0.3973333333333333, lift=1.0)]),\n",
              " RelationRecord(items=frozenset({'Violence and sexual offences'}), support=0.852, ordered_statistics=[OrderedStatistic(items_base=frozenset(), items_add=frozenset({'Violence and sexual offences'}), confidence=0.852, lift=1.0)]),\n",
              " RelationRecord(items=frozenset({'Criminal damage and arson', 'Anti-social behaviour'}), support=0.388, ordered_statistics=[OrderedStatistic(items_base=frozenset(), items_add=frozenset({'Criminal damage and arson', 'Anti-social behaviour'}), confidence=0.388, lift=1.0), OrderedStatistic(items_base=frozenset({'Anti-social behaviour'}), items_add=frozenset({'Criminal damage and arson'}), confidence=0.6231263383297644, lift=1.195255124673461), OrderedStatistic(items_base=frozenset({'Criminal damage and arson'}), items_add=frozenset({'Anti-social behaviour'}), confidence=0.7442455242966752, lift=1.1952551246734613)]),\n",
              " RelationRecord(items=frozenset({'Anti-social behaviour', 'Public order'}), support=0.30266666666666664, ordered_statistics=[OrderedStatistic(items_base=frozenset(), items_add=frozenset({'Anti-social behaviour', 'Public order'}), confidence=0.30266666666666664, lift=1.0), OrderedStatistic(items_base=frozenset({'Anti-social behaviour'}), items_add=frozenset({'Public order'}), confidence=0.48608137044967875, lift=1.2882015117924348), OrderedStatistic(items_base=frozenset({'Public order'}), items_add=frozenset({'Anti-social behaviour'}), confidence=0.8021201413427561, lift=1.2882015117924348)]),\n",
              " RelationRecord(items=frozenset({'Anti-social behaviour', 'Violence and sexual offences'}), support=0.5666666666666667, ordered_statistics=[OrderedStatistic(items_base=frozenset(), items_add=frozenset({'Anti-social behaviour', 'Violence and sexual offences'}), confidence=0.5666666666666667, lift=1.0), OrderedStatistic(items_base=frozenset({'Anti-social behaviour'}), items_add=frozenset({'Violence and sexual offences'}), confidence=0.9100642398286937, lift=1.068150516230861), OrderedStatistic(items_base=frozenset({'Violence and sexual offences'}), items_add=frozenset({'Anti-social behaviour'}), confidence=0.6651017214397497, lift=1.0681505162308613)]),\n",
              " RelationRecord(items=frozenset({'Burglary', 'Violence and sexual offences'}), support=0.324, ordered_statistics=[OrderedStatistic(items_base=frozenset(), items_add=frozenset({'Burglary', 'Violence and sexual offences'}), confidence=0.324, lift=1.0), OrderedStatistic(items_base=frozenset({'Burglary'}), items_add=frozenset({'Violence and sexual offences'}), confidence=0.9382239382239382, lift=1.1012018054271575), OrderedStatistic(items_base=frozenset({'Violence and sexual offences'}), items_add=frozenset({'Burglary'}), confidence=0.3802816901408451, lift=1.1012018054271577)]),\n",
              " RelationRecord(items=frozenset({'Criminal damage and arson', 'Violence and sexual offences'}), support=0.47733333333333333, ordered_statistics=[OrderedStatistic(items_base=frozenset(), items_add=frozenset({'Criminal damage and arson', 'Violence and sexual offences'}), confidence=0.47733333333333333, lift=1.0), OrderedStatistic(items_base=frozenset({'Criminal damage and arson'}), items_add=frozenset({'Violence and sexual offences'}), confidence=0.9156010230179028, lift=1.0746490880491817), OrderedStatistic(items_base=frozenset({'Violence and sexual offences'}), items_add=frozenset({'Criminal damage and arson'}), confidence=0.5602503912363067, lift=1.0746490880491817)]),\n",
              " RelationRecord(items=frozenset({'Violence and sexual offences', 'Other theft'}), support=0.35333333333333333, ordered_statistics=[OrderedStatistic(items_base=frozenset(), items_add=frozenset({'Other theft', 'Violence and sexual offences'}), confidence=0.35333333333333333, lift=1.0), OrderedStatistic(items_base=frozenset({'Other theft'}), items_add=frozenset({'Violence and sexual offences'}), confidence=0.8833333333333333, lift=1.0367762128325508), OrderedStatistic(items_base=frozenset({'Violence and sexual offences'}), items_add=frozenset({'Other theft'}), confidence=0.41471048513302033, lift=1.0367762128325508)]),\n",
              " RelationRecord(items=frozenset({'Public order', 'Violence and sexual offences'}), support=0.3506666666666667, ordered_statistics=[OrderedStatistic(items_base=frozenset(), items_add=frozenset({'Public order', 'Violence and sexual offences'}), confidence=0.3506666666666667, lift=1.0), OrderedStatistic(items_base=frozenset({'Public order'}), items_add=frozenset({'Violence and sexual offences'}), confidence=0.9293286219081272, lift=1.0907612933193982), OrderedStatistic(items_base=frozenset({'Violence and sexual offences'}), items_add=frozenset({'Public order'}), confidence=0.41158059467918623, lift=1.090761293319398)]),\n",
              " RelationRecord(items=frozenset({'Vehicle crime', 'Violence and sexual offences'}), support=0.368, ordered_statistics=[OrderedStatistic(items_base=frozenset(), items_add=frozenset({'Vehicle crime', 'Violence and sexual offences'}), confidence=0.368, lift=1.0), OrderedStatistic(items_base=frozenset({'Vehicle crime'}), items_add=frozenset({'Violence and sexual offences'}), confidence=0.9261744966442953, lift=1.087059268361849), OrderedStatistic(items_base=frozenset({'Violence and sexual offences'}), items_add=frozenset({'Vehicle crime'}), confidence=0.431924882629108, lift=1.087059268361849)]),\n",
              " RelationRecord(items=frozenset({'Criminal damage and arson', 'Anti-social behaviour', 'Violence and sexual offences'}), support=0.36533333333333334, ordered_statistics=[OrderedStatistic(items_base=frozenset(), items_add=frozenset({'Criminal damage and arson', 'Anti-social behaviour', 'Violence and sexual offences'}), confidence=0.36533333333333334, lift=1.0), OrderedStatistic(items_base=frozenset({'Anti-social behaviour'}), items_add=frozenset({'Criminal damage and arson', 'Violence and sexual offences'}), confidence=0.5867237687366167, lift=1.2291699065711243), OrderedStatistic(items_base=frozenset({'Criminal damage and arson'}), items_add=frozenset({'Anti-social behaviour', 'Violence and sexual offences'}), confidence=0.70076726342711, lift=1.2366481119301942), OrderedStatistic(items_base=frozenset({'Violence and sexual offences'}), items_add=frozenset({'Criminal damage and arson', 'Anti-social behaviour'}), confidence=0.4287949921752739, lift=1.1051417324104997), OrderedStatistic(items_base=frozenset({'Criminal damage and arson', 'Anti-social behaviour'}), items_add=frozenset({'Violence and sexual offences'}), confidence=0.9415807560137457, lift=1.1051417324104997), OrderedStatistic(items_base=frozenset({'Anti-social behaviour', 'Violence and sexual offences'}), items_add=frozenset({'Criminal damage and arson'}), confidence=0.6447058823529412, lift=1.2366481119301942), OrderedStatistic(items_base=frozenset({'Criminal damage and arson', 'Violence and sexual offences'}), items_add=frozenset({'Anti-social behaviour'}), confidence=0.7653631284916201, lift=1.2291699065711243)])]"
            ]
          },
          "metadata": {},
          "execution_count": 61
        }
      ]
    },
    {
      "cell_type": "code",
      "source": [
        "frequentItemsets[-1]"
      ],
      "metadata": {
        "id": "eJIOO7llkzzW",
        "colab": {
          "base_uri": "https://localhost:8080/"
        },
        "outputId": "b00922d3-5eb1-4aa3-95bd-7676c97c2436"
      },
      "execution_count": 62,
      "outputs": [
        {
          "output_type": "execute_result",
          "data": {
            "text/plain": [
              "RelationRecord(items=frozenset({'Criminal damage and arson', 'Anti-social behaviour', 'Violence and sexual offences'}), support=0.36533333333333334, ordered_statistics=[OrderedStatistic(items_base=frozenset(), items_add=frozenset({'Criminal damage and arson', 'Anti-social behaviour', 'Violence and sexual offences'}), confidence=0.36533333333333334, lift=1.0), OrderedStatistic(items_base=frozenset({'Anti-social behaviour'}), items_add=frozenset({'Criminal damage and arson', 'Violence and sexual offences'}), confidence=0.5867237687366167, lift=1.2291699065711243), OrderedStatistic(items_base=frozenset({'Criminal damage and arson'}), items_add=frozenset({'Anti-social behaviour', 'Violence and sexual offences'}), confidence=0.70076726342711, lift=1.2366481119301942), OrderedStatistic(items_base=frozenset({'Violence and sexual offences'}), items_add=frozenset({'Criminal damage and arson', 'Anti-social behaviour'}), confidence=0.4287949921752739, lift=1.1051417324104997), OrderedStatistic(items_base=frozenset({'Criminal damage and arson', 'Anti-social behaviour'}), items_add=frozenset({'Violence and sexual offences'}), confidence=0.9415807560137457, lift=1.1051417324104997), OrderedStatistic(items_base=frozenset({'Anti-social behaviour', 'Violence and sexual offences'}), items_add=frozenset({'Criminal damage and arson'}), confidence=0.6447058823529412, lift=1.2366481119301942), OrderedStatistic(items_base=frozenset({'Criminal damage and arson', 'Violence and sexual offences'}), items_add=frozenset({'Anti-social behaviour'}), confidence=0.7653631284916201, lift=1.2291699065711243)])"
            ]
          },
          "metadata": {},
          "execution_count": 62
        }
      ]
    },
    {
      "cell_type": "markdown",
      "source": [
        "support=0.36533333333333334\n",
        "<br> **36.5% ของพื้นที่ทั้งหมดในข้อมูลชุดนี้ มีอาชญากรรม ทั้ง 3 ประเภทนี้ ได้แก่ Violence and sexual offences, Anti-social behaviour, Criminal damage and arson เกิดขึ้นครบทั้งหมด**"
      ],
      "metadata": {
        "id": "qY3PpYPNr9wz"
      }
    },
    {
      "cell_type": "markdown",
      "source": [
        "\n",
        "\n",
        "---\n",
        "\n"
      ],
      "metadata": {
        "id": "_pBEyYOpzSmM"
      }
    },
    {
      "cell_type": "markdown",
      "source": [
        "OrderedStatistic(items_base=frozenset({'Violence and sexual offences'}), items_add=frozenset({'Anti-social behaviour', 'Criminal damage and arson'}), confidence=0.4287949921752739, lift=1.1051417324104997)\n",
        "<br>**42.87% ในพื้นที่ที่เกิดคดี 'ความรุนแรงและอาชญากรรมทางเพศ' มีโอกาสที่จะเกิดคดี  'พฤติกรรมต่อต้านสังคม' และ 'การทำให้เสียทรัพย์และการลอบวางเพลิง' ร่วมด้วย**"
      ],
      "metadata": {
        "id": "U2ladRiWtBb5"
      }
    },
    {
      "cell_type": "markdown",
      "source": [
        "OrderedStatistic(items_base=frozenset({'Anti-social behaviour', 'Criminal damage and arson'}), items_add=frozenset({'Violence and sexual offences'}), confidence=0.9415807560137457, lift=1.1051417324104997)\n",
        "<br> **94.16% ในพื้นที่ที่เกิดทั้งคดี 'พฤติกรรมต่อต้านสังคม' และ 'การทำให้เสียทรัพย์และการลอบวางเพลิง' มีโอกาสที่จะเกิดคดี 'ความรุนแรงและอาชญากรรมทางเพศ' ร่วมด้วย**"
      ],
      "metadata": {
        "id": "odTu_lVns8zW"
      }
    },
    {
      "cell_type": "markdown",
      "source": [
        "\n",
        "\n",
        "---\n",
        "\n"
      ],
      "metadata": {
        "id": "NpR_vS1dtVXQ"
      }
    },
    {
      "cell_type": "markdown",
      "source": [
        "OrderedStatistic(items_base=frozenset({'Anti-social behaviour'}), items_add=frozenset({'Violence and sexual offences', 'Criminal damage and arson'}), confidence=0.5867237687366167, lift=1.2291699065711243)\n",
        "<br>**58.67% ในพื้นที่ที่เกิดคดี 'พฤติกรรมต่อต้านสังคม' มีโอกาสที่จะเกิดคดี  'ความรุนแรงและอาชญากรรมทางเพศ' และ 'การทำให้เสียทรัพย์และการลอบวางเพลิง'  ร่วมด้วย**"
      ],
      "metadata": {
        "id": "kiop5hD1n4sq"
      }
    },
    {
      "cell_type": "markdown",
      "source": [
        "OrderedStatistic(items_base=frozenset({'Violence and sexual offences', 'Criminal damage and arson'}), items_add=frozenset({'Anti-social behaviour'}), confidence=0.7653631284916201, lift=1.2291699065711243)\n",
        "<br>**76.54% ในพื้นที่ที่เกิดทั้งคดี 'ความรุนแรงและอาชญากรรมทางเพศ' และ'การทำให้เสียทรัพย์และการลอบวางเพลิง'  มีโอกาสที่จะเกิดคดี ''พฤติกรรมต่อต้านสังคม' ร่วมด้วย**"
      ],
      "metadata": {
        "id": "ulFLnyqutKSx"
      }
    },
    {
      "cell_type": "markdown",
      "source": [
        "\n",
        "\n",
        "---\n",
        "\n"
      ],
      "metadata": {
        "id": "EGXgb1YbzRrT"
      }
    },
    {
      "cell_type": "markdown",
      "source": [
        "OrderedStatistic(items_base=frozenset({'Criminal damage and arson'}), items_add=frozenset({'Violence and sexual offences', 'Anti-social behaviour'}), confidence=0.70076726342711, lift=1.2366481119301942)\n",
        "<br>**70.08% ในพื้นที่ที่เกิดคดี 'การทำให้เสียทรัพย์และการลอบวางเพลิง' มีโอกาสที่จะเกิดคดี  'ความรุนแรงและอาชญากรรมทางเพศ' และ 'พฤติกรรมต่อต้านสังคม' ร่วมด้วย**"
      ],
      "metadata": {
        "id": "ki0ICyI6s8Jl"
      }
    },
    {
      "cell_type": "markdown",
      "source": [
        "OrderedStatistic(items_base=frozenset({'Violence and sexual offences', 'Anti-social behaviour'}), items_add=frozenset({'Criminal damage and arson'}), confidence=0.6447058823529412, lift=1.2366481119301942)\n",
        "<br>**64.47% ในพื้นที่ที่เกิดทั้งคดี 'ความรุนแรงและอาชญากรรมทางเพศ' และ'พฤติกรรมต่อต้านสังคม'  มีโอกาสที่จะเกิดคดี 'การทำให้เสียทรัพย์และการลอบวางเพลิง' ร่วมด้วย**"
      ],
      "metadata": {
        "id": "IWAIBdY0tNT3"
      }
    },
    {
      "cell_type": "markdown",
      "source": [
        "\n",
        "\n",
        "---\n",
        "\n"
      ],
      "metadata": {
        "id": "RvtMShbLzZ0L"
      }
    },
    {
      "cell_type": "markdown",
      "source": [
        "\n",
        "\n",
        ">  ค่า Lift ที่มากกว่า 1 แสดงว่ามีความสัมพันธ์กันจริง (ไม่ใช่เรื่องบังเอิญ)\n",
        "\n",
        "\n",
        "> ถ้าจัดทีมตำรวจ ไปสืบ แล้วเจอว่า 'พฤติกรรมต่อต้านสังคม' และ 'การทำให้เสียทรัพย์และการลอบวางเพลิง' ก็ส่งตำรวจที่เชี่ยวชาญไปเพิ่มเพราะโอกาสสูงที่จะเกิด 'ความรุนแรงและอาชญากรรมทางเพศ' ร่วมด้วย\n",
        "\n"
      ],
      "metadata": {
        "id": "p0OLqyveZQ0P"
      }
    },
    {
      "cell_type": "markdown",
      "source": [
        "\n",
        "\n",
        "---\n",
        "\n"
      ],
      "metadata": {
        "id": "3Jp9QIxfkyD0"
      }
    },
    {
      "cell_type": "markdown",
      "source": [
        "# ข้อมูลแต่ละอัน ที่เป็น Text สัมพันธ์กันยังไงในแต่ละ Column"
      ],
      "metadata": {
        "id": "KtDxyXVS_tBE"
      }
    },
    {
      "cell_type": "markdown",
      "source": [
        "ข้อมูลแต่ละอัน ที่เป็น Text สัมพันธ์กันยังไงในแต่ละ Column"
      ],
      "metadata": {
        "id": "F27V5rhp9zrk"
      }
    },
    {
      "cell_type": "code",
      "source": [
        "path = '/content/drive/MyDrive/Dataset_dpdm25/2025-01'\n",
        "df_nth = pd.read_csv(os.path.join(path,'2025-01-nottinghamshire-stop-and-search.csv'),encoding='latin-1')"
      ],
      "metadata": {
        "id": "OqXuMBmfAuk9"
      },
      "execution_count": 64,
      "outputs": []
    },
    {
      "cell_type": "code",
      "source": [
        "df_nth.head()"
      ],
      "metadata": {
        "colab": {
          "base_uri": "https://localhost:8080/",
          "height": 486
        },
        "id": "4d1RdFUa91DL",
        "outputId": "51b97e6a-c74f-4d7a-db43-14bfe7a373dc"
      },
      "execution_count": 65,
      "outputs": [
        {
          "output_type": "execute_result",
          "data": {
            "text/plain": [
              "            Type                       Date  Part of a policing operation  \\\n",
              "0  Person search  2025-01-01T00:39:00+00:00                         False   \n",
              "1  Person search  2025-01-01T02:00:00+00:00                         False   \n",
              "2  Person search  2025-01-01T02:08:00+00:00                         False   \n",
              "3  Person search  2025-01-01T02:13:00+00:00                         False   \n",
              "4  Person search  2025-01-01T02:25:00+00:00                         False   \n",
              "\n",
              "   Policing operation   Latitude  Longitude Gender Age range  \\\n",
              "0                 NaN  54.007280  -2.896877   Male     10-17   \n",
              "1                 NaN  53.969736  -2.865897   Male     10-17   \n",
              "2                 NaN  53.969736  -2.865897   Male     10-17   \n",
              "3                 NaN  53.969736  -2.865897   Male     10-17   \n",
              "4                 NaN  54.007280  -2.896877   Male   over 34   \n",
              "\n",
              "                             Self-defined ethnicity Officer-defined ethnicity  \\\n",
              "0                   Other ethnic group - Not stated                     Black   \n",
              "1                   Other ethnic group - Not stated                     White   \n",
              "2                   Other ethnic group - Not stated                     White   \n",
              "3  Asian/Asian British - Any other Asian background                     Other   \n",
              "4                   Other ethnic group - Not stated                     Asian   \n",
              "\n",
              "                                         Legislation   Object of search  \\\n",
              "0  Police and Criminal Evidence Act 1984 (section 1)  Offensive weapons   \n",
              "1              Misuse of Drugs Act 1971 (section 23)   Controlled drugs   \n",
              "2              Misuse of Drugs Act 1971 (section 23)   Controlled drugs   \n",
              "3              Misuse of Drugs Act 1971 (section 23)   Controlled drugs   \n",
              "4              Misuse of Drugs Act 1971 (section 23)   Controlled drugs   \n",
              "\n",
              "                        Outcome  Outcome linked to object of search  \\\n",
              "0  A no further action disposal                               False   \n",
              "1                        Arrest                                True   \n",
              "2  A no further action disposal                               False   \n",
              "3  A no further action disposal                               False   \n",
              "4  A no further action disposal                               False   \n",
              "\n",
              "   Removal of more than just outer clothing  \n",
              "0                                     False  \n",
              "1                                     False  \n",
              "2                                     False  \n",
              "3                                     False  \n",
              "4                                     False  "
            ],
            "text/html": [
              "\n",
              "  <div id=\"df-5232dfa5-33b1-4849-bf13-4d4b6af810b2\" class=\"colab-df-container\">\n",
              "    <div>\n",
              "<style scoped>\n",
              "    .dataframe tbody tr th:only-of-type {\n",
              "        vertical-align: middle;\n",
              "    }\n",
              "\n",
              "    .dataframe tbody tr th {\n",
              "        vertical-align: top;\n",
              "    }\n",
              "\n",
              "    .dataframe thead th {\n",
              "        text-align: right;\n",
              "    }\n",
              "</style>\n",
              "<table border=\"1\" class=\"dataframe\">\n",
              "  <thead>\n",
              "    <tr style=\"text-align: right;\">\n",
              "      <th></th>\n",
              "      <th>Type</th>\n",
              "      <th>Date</th>\n",
              "      <th>Part of a policing operation</th>\n",
              "      <th>Policing operation</th>\n",
              "      <th>Latitude</th>\n",
              "      <th>Longitude</th>\n",
              "      <th>Gender</th>\n",
              "      <th>Age range</th>\n",
              "      <th>Self-defined ethnicity</th>\n",
              "      <th>Officer-defined ethnicity</th>\n",
              "      <th>Legislation</th>\n",
              "      <th>Object of search</th>\n",
              "      <th>Outcome</th>\n",
              "      <th>Outcome linked to object of search</th>\n",
              "      <th>Removal of more than just outer clothing</th>\n",
              "    </tr>\n",
              "  </thead>\n",
              "  <tbody>\n",
              "    <tr>\n",
              "      <th>0</th>\n",
              "      <td>Person search</td>\n",
              "      <td>2025-01-01T00:39:00+00:00</td>\n",
              "      <td>False</td>\n",
              "      <td>NaN</td>\n",
              "      <td>54.007280</td>\n",
              "      <td>-2.896877</td>\n",
              "      <td>Male</td>\n",
              "      <td>10-17</td>\n",
              "      <td>Other ethnic group - Not stated</td>\n",
              "      <td>Black</td>\n",
              "      <td>Police and Criminal Evidence Act 1984 (section 1)</td>\n",
              "      <td>Offensive weapons</td>\n",
              "      <td>A no further action disposal</td>\n",
              "      <td>False</td>\n",
              "      <td>False</td>\n",
              "    </tr>\n",
              "    <tr>\n",
              "      <th>1</th>\n",
              "      <td>Person search</td>\n",
              "      <td>2025-01-01T02:00:00+00:00</td>\n",
              "      <td>False</td>\n",
              "      <td>NaN</td>\n",
              "      <td>53.969736</td>\n",
              "      <td>-2.865897</td>\n",
              "      <td>Male</td>\n",
              "      <td>10-17</td>\n",
              "      <td>Other ethnic group - Not stated</td>\n",
              "      <td>White</td>\n",
              "      <td>Misuse of Drugs Act 1971 (section 23)</td>\n",
              "      <td>Controlled drugs</td>\n",
              "      <td>Arrest</td>\n",
              "      <td>True</td>\n",
              "      <td>False</td>\n",
              "    </tr>\n",
              "    <tr>\n",
              "      <th>2</th>\n",
              "      <td>Person search</td>\n",
              "      <td>2025-01-01T02:08:00+00:00</td>\n",
              "      <td>False</td>\n",
              "      <td>NaN</td>\n",
              "      <td>53.969736</td>\n",
              "      <td>-2.865897</td>\n",
              "      <td>Male</td>\n",
              "      <td>10-17</td>\n",
              "      <td>Other ethnic group - Not stated</td>\n",
              "      <td>White</td>\n",
              "      <td>Misuse of Drugs Act 1971 (section 23)</td>\n",
              "      <td>Controlled drugs</td>\n",
              "      <td>A no further action disposal</td>\n",
              "      <td>False</td>\n",
              "      <td>False</td>\n",
              "    </tr>\n",
              "    <tr>\n",
              "      <th>3</th>\n",
              "      <td>Person search</td>\n",
              "      <td>2025-01-01T02:13:00+00:00</td>\n",
              "      <td>False</td>\n",
              "      <td>NaN</td>\n",
              "      <td>53.969736</td>\n",
              "      <td>-2.865897</td>\n",
              "      <td>Male</td>\n",
              "      <td>10-17</td>\n",
              "      <td>Asian/Asian British - Any other Asian background</td>\n",
              "      <td>Other</td>\n",
              "      <td>Misuse of Drugs Act 1971 (section 23)</td>\n",
              "      <td>Controlled drugs</td>\n",
              "      <td>A no further action disposal</td>\n",
              "      <td>False</td>\n",
              "      <td>False</td>\n",
              "    </tr>\n",
              "    <tr>\n",
              "      <th>4</th>\n",
              "      <td>Person search</td>\n",
              "      <td>2025-01-01T02:25:00+00:00</td>\n",
              "      <td>False</td>\n",
              "      <td>NaN</td>\n",
              "      <td>54.007280</td>\n",
              "      <td>-2.896877</td>\n",
              "      <td>Male</td>\n",
              "      <td>over 34</td>\n",
              "      <td>Other ethnic group - Not stated</td>\n",
              "      <td>Asian</td>\n",
              "      <td>Misuse of Drugs Act 1971 (section 23)</td>\n",
              "      <td>Controlled drugs</td>\n",
              "      <td>A no further action disposal</td>\n",
              "      <td>False</td>\n",
              "      <td>False</td>\n",
              "    </tr>\n",
              "  </tbody>\n",
              "</table>\n",
              "</div>\n",
              "    <div class=\"colab-df-buttons\">\n",
              "\n",
              "  <div class=\"colab-df-container\">\n",
              "    <button class=\"colab-df-convert\" onclick=\"convertToInteractive('df-5232dfa5-33b1-4849-bf13-4d4b6af810b2')\"\n",
              "            title=\"Convert this dataframe to an interactive table.\"\n",
              "            style=\"display:none;\">\n",
              "\n",
              "  <svg xmlns=\"http://www.w3.org/2000/svg\" height=\"24px\" viewBox=\"0 -960 960 960\">\n",
              "    <path d=\"M120-120v-720h720v720H120Zm60-500h600v-160H180v160Zm220 220h160v-160H400v160Zm0 220h160v-160H400v160ZM180-400h160v-160H180v160Zm440 0h160v-160H620v160ZM180-180h160v-160H180v160Zm440 0h160v-160H620v160Z\"/>\n",
              "  </svg>\n",
              "    </button>\n",
              "\n",
              "  <style>\n",
              "    .colab-df-container {\n",
              "      display:flex;\n",
              "      gap: 12px;\n",
              "    }\n",
              "\n",
              "    .colab-df-convert {\n",
              "      background-color: #E8F0FE;\n",
              "      border: none;\n",
              "      border-radius: 50%;\n",
              "      cursor: pointer;\n",
              "      display: none;\n",
              "      fill: #1967D2;\n",
              "      height: 32px;\n",
              "      padding: 0 0 0 0;\n",
              "      width: 32px;\n",
              "    }\n",
              "\n",
              "    .colab-df-convert:hover {\n",
              "      background-color: #E2EBFA;\n",
              "      box-shadow: 0px 1px 2px rgba(60, 64, 67, 0.3), 0px 1px 3px 1px rgba(60, 64, 67, 0.15);\n",
              "      fill: #174EA6;\n",
              "    }\n",
              "\n",
              "    .colab-df-buttons div {\n",
              "      margin-bottom: 4px;\n",
              "    }\n",
              "\n",
              "    [theme=dark] .colab-df-convert {\n",
              "      background-color: #3B4455;\n",
              "      fill: #D2E3FC;\n",
              "    }\n",
              "\n",
              "    [theme=dark] .colab-df-convert:hover {\n",
              "      background-color: #434B5C;\n",
              "      box-shadow: 0px 1px 3px 1px rgba(0, 0, 0, 0.15);\n",
              "      filter: drop-shadow(0px 1px 2px rgba(0, 0, 0, 0.3));\n",
              "      fill: #FFFFFF;\n",
              "    }\n",
              "  </style>\n",
              "\n",
              "    <script>\n",
              "      const buttonEl =\n",
              "        document.querySelector('#df-5232dfa5-33b1-4849-bf13-4d4b6af810b2 button.colab-df-convert');\n",
              "      buttonEl.style.display =\n",
              "        google.colab.kernel.accessAllowed ? 'block' : 'none';\n",
              "\n",
              "      async function convertToInteractive(key) {\n",
              "        const element = document.querySelector('#df-5232dfa5-33b1-4849-bf13-4d4b6af810b2');\n",
              "        const dataTable =\n",
              "          await google.colab.kernel.invokeFunction('convertToInteractive',\n",
              "                                                    [key], {});\n",
              "        if (!dataTable) return;\n",
              "\n",
              "        const docLinkHtml = 'Like what you see? Visit the ' +\n",
              "          '<a target=\"_blank\" href=https://colab.research.google.com/notebooks/data_table.ipynb>data table notebook</a>'\n",
              "          + ' to learn more about interactive tables.';\n",
              "        element.innerHTML = '';\n",
              "        dataTable['output_type'] = 'display_data';\n",
              "        await google.colab.output.renderOutput(dataTable, element);\n",
              "        const docLink = document.createElement('div');\n",
              "        docLink.innerHTML = docLinkHtml;\n",
              "        element.appendChild(docLink);\n",
              "      }\n",
              "    </script>\n",
              "  </div>\n",
              "\n",
              "\n",
              "    <div id=\"df-e38f4816-ac22-4d8e-b05f-0c1dc85609ac\">\n",
              "      <button class=\"colab-df-quickchart\" onclick=\"quickchart('df-e38f4816-ac22-4d8e-b05f-0c1dc85609ac')\"\n",
              "                title=\"Suggest charts\"\n",
              "                style=\"display:none;\">\n",
              "\n",
              "<svg xmlns=\"http://www.w3.org/2000/svg\" height=\"24px\"viewBox=\"0 0 24 24\"\n",
              "     width=\"24px\">\n",
              "    <g>\n",
              "        <path d=\"M19 3H5c-1.1 0-2 .9-2 2v14c0 1.1.9 2 2 2h14c1.1 0 2-.9 2-2V5c0-1.1-.9-2-2-2zM9 17H7v-7h2v7zm4 0h-2V7h2v10zm4 0h-2v-4h2v4z\"/>\n",
              "    </g>\n",
              "</svg>\n",
              "      </button>\n",
              "\n",
              "<style>\n",
              "  .colab-df-quickchart {\n",
              "      --bg-color: #E8F0FE;\n",
              "      --fill-color: #1967D2;\n",
              "      --hover-bg-color: #E2EBFA;\n",
              "      --hover-fill-color: #174EA6;\n",
              "      --disabled-fill-color: #AAA;\n",
              "      --disabled-bg-color: #DDD;\n",
              "  }\n",
              "\n",
              "  [theme=dark] .colab-df-quickchart {\n",
              "      --bg-color: #3B4455;\n",
              "      --fill-color: #D2E3FC;\n",
              "      --hover-bg-color: #434B5C;\n",
              "      --hover-fill-color: #FFFFFF;\n",
              "      --disabled-bg-color: #3B4455;\n",
              "      --disabled-fill-color: #666;\n",
              "  }\n",
              "\n",
              "  .colab-df-quickchart {\n",
              "    background-color: var(--bg-color);\n",
              "    border: none;\n",
              "    border-radius: 50%;\n",
              "    cursor: pointer;\n",
              "    display: none;\n",
              "    fill: var(--fill-color);\n",
              "    height: 32px;\n",
              "    padding: 0;\n",
              "    width: 32px;\n",
              "  }\n",
              "\n",
              "  .colab-df-quickchart:hover {\n",
              "    background-color: var(--hover-bg-color);\n",
              "    box-shadow: 0 1px 2px rgba(60, 64, 67, 0.3), 0 1px 3px 1px rgba(60, 64, 67, 0.15);\n",
              "    fill: var(--button-hover-fill-color);\n",
              "  }\n",
              "\n",
              "  .colab-df-quickchart-complete:disabled,\n",
              "  .colab-df-quickchart-complete:disabled:hover {\n",
              "    background-color: var(--disabled-bg-color);\n",
              "    fill: var(--disabled-fill-color);\n",
              "    box-shadow: none;\n",
              "  }\n",
              "\n",
              "  .colab-df-spinner {\n",
              "    border: 2px solid var(--fill-color);\n",
              "    border-color: transparent;\n",
              "    border-bottom-color: var(--fill-color);\n",
              "    animation:\n",
              "      spin 1s steps(1) infinite;\n",
              "  }\n",
              "\n",
              "  @keyframes spin {\n",
              "    0% {\n",
              "      border-color: transparent;\n",
              "      border-bottom-color: var(--fill-color);\n",
              "      border-left-color: var(--fill-color);\n",
              "    }\n",
              "    20% {\n",
              "      border-color: transparent;\n",
              "      border-left-color: var(--fill-color);\n",
              "      border-top-color: var(--fill-color);\n",
              "    }\n",
              "    30% {\n",
              "      border-color: transparent;\n",
              "      border-left-color: var(--fill-color);\n",
              "      border-top-color: var(--fill-color);\n",
              "      border-right-color: var(--fill-color);\n",
              "    }\n",
              "    40% {\n",
              "      border-color: transparent;\n",
              "      border-right-color: var(--fill-color);\n",
              "      border-top-color: var(--fill-color);\n",
              "    }\n",
              "    60% {\n",
              "      border-color: transparent;\n",
              "      border-right-color: var(--fill-color);\n",
              "    }\n",
              "    80% {\n",
              "      border-color: transparent;\n",
              "      border-right-color: var(--fill-color);\n",
              "      border-bottom-color: var(--fill-color);\n",
              "    }\n",
              "    90% {\n",
              "      border-color: transparent;\n",
              "      border-bottom-color: var(--fill-color);\n",
              "    }\n",
              "  }\n",
              "</style>\n",
              "\n",
              "      <script>\n",
              "        async function quickchart(key) {\n",
              "          const quickchartButtonEl =\n",
              "            document.querySelector('#' + key + ' button');\n",
              "          quickchartButtonEl.disabled = true;  // To prevent multiple clicks.\n",
              "          quickchartButtonEl.classList.add('colab-df-spinner');\n",
              "          try {\n",
              "            const charts = await google.colab.kernel.invokeFunction(\n",
              "                'suggestCharts', [key], {});\n",
              "          } catch (error) {\n",
              "            console.error('Error during call to suggestCharts:', error);\n",
              "          }\n",
              "          quickchartButtonEl.classList.remove('colab-df-spinner');\n",
              "          quickchartButtonEl.classList.add('colab-df-quickchart-complete');\n",
              "        }\n",
              "        (() => {\n",
              "          let quickchartButtonEl =\n",
              "            document.querySelector('#df-e38f4816-ac22-4d8e-b05f-0c1dc85609ac button');\n",
              "          quickchartButtonEl.style.display =\n",
              "            google.colab.kernel.accessAllowed ? 'block' : 'none';\n",
              "        })();\n",
              "      </script>\n",
              "    </div>\n",
              "\n",
              "    </div>\n",
              "  </div>\n"
            ],
            "application/vnd.google.colaboratory.intrinsic+json": {
              "type": "dataframe",
              "variable_name": "df_nth",
              "summary": "{\n  \"name\": \"df_nth\",\n  \"rows\": 328,\n  \"fields\": [\n    {\n      \"column\": \"Type\",\n      \"properties\": {\n        \"dtype\": \"category\",\n        \"num_unique_values\": 3,\n        \"samples\": [\n          \"Person search\",\n          \"Person and Vehicle search\",\n          \"Vehicle search\"\n        ],\n        \"semantic_type\": \"\",\n        \"description\": \"\"\n      }\n    },\n    {\n      \"column\": \"Date\",\n      \"properties\": {\n        \"dtype\": \"object\",\n        \"num_unique_values\": 271,\n        \"samples\": [\n          \"2025-01-03T17:00:00+00:00\",\n          \"2025-01-14T13:35:00+00:00\",\n          \"2025-01-09T13:30:00+00:00\"\n        ],\n        \"semantic_type\": \"\",\n        \"description\": \"\"\n      }\n    },\n    {\n      \"column\": \"Part of a policing operation\",\n      \"properties\": {\n        \"dtype\": \"boolean\",\n        \"num_unique_values\": 2,\n        \"samples\": [\n          true,\n          false\n        ],\n        \"semantic_type\": \"\",\n        \"description\": \"\"\n      }\n    },\n    {\n      \"column\": \"Policing operation\",\n      \"properties\": {\n        \"dtype\": \"number\",\n        \"std\": null,\n        \"min\": null,\n        \"max\": null,\n        \"num_unique_values\": 0,\n        \"samples\": [],\n        \"semantic_type\": \"\",\n        \"description\": \"\"\n      }\n    },\n    {\n      \"column\": \"Latitude\",\n      \"properties\": {\n        \"dtype\": \"number\",\n        \"std\": 0.061260401646864214,\n        \"min\": 53.902016,\n        \"max\": 54.24274,\n        \"num_unique_values\": 75,\n        \"samples\": [],\n        \"semantic_type\": \"\",\n        \"description\": \"\"\n      }\n    },\n    {\n      \"column\": \"Longitude\",\n      \"properties\": {\n        \"dtype\": \"number\",\n        \"std\": 0.13976378322845115,\n        \"min\": -3.17239,\n        \"max\": -2.141625,\n        \"num_unique_values\": 75,\n        \"samples\": [],\n        \"semantic_type\": \"\",\n        \"description\": \"\"\n      }\n    },\n    {\n      \"column\": \"Gender\",\n      \"properties\": {\n        \"dtype\": \"category\",\n        \"num_unique_values\": 3,\n        \"samples\": [],\n        \"semantic_type\": \"\",\n        \"description\": \"\"\n      }\n    },\n    {\n      \"column\": \"Age range\",\n      \"properties\": {\n        \"dtype\": \"category\",\n        \"num_unique_values\": 4,\n        \"samples\": [],\n        \"semantic_type\": \"\",\n        \"description\": \"\"\n      }\n    },\n    {\n      \"column\": \"Self-defined ethnicity\",\n      \"properties\": {\n        \"dtype\": \"category\",\n        \"num_unique_values\": 14,\n        \"samples\": [],\n        \"semantic_type\": \"\",\n        \"description\": \"\"\n      }\n    },\n    {\n      \"column\": \"Officer-defined ethnicity\",\n      \"properties\": {\n        \"dtype\": \"category\",\n        \"num_unique_values\": 4,\n        \"samples\": [],\n        \"semantic_type\": \"\",\n        \"description\": \"\"\n      }\n    },\n    {\n      \"column\": \"Legislation\",\n      \"properties\": {\n        \"dtype\": \"category\",\n        \"num_unique_values\": 3,\n        \"samples\": [],\n        \"semantic_type\": \"\",\n        \"description\": \"\"\n      }\n    },\n    {\n      \"column\": \"Object of search\",\n      \"properties\": {\n        \"dtype\": \"category\",\n        \"num_unique_values\": 6,\n        \"samples\": [],\n        \"semantic_type\": \"\",\n        \"description\": \"\"\n      }\n    },\n    {\n      \"column\": \"Outcome\",\n      \"properties\": {\n        \"dtype\": \"category\",\n        \"num_unique_values\": 6,\n        \"samples\": [],\n        \"semantic_type\": \"\",\n        \"description\": \"\"\n      }\n    },\n    {\n      \"column\": \"Outcome linked to object of search\",\n      \"properties\": {\n        \"dtype\": \"boolean\",\n        \"num_unique_values\": 2,\n        \"samples\": [],\n        \"semantic_type\": \"\",\n        \"description\": \"\"\n      }\n    },\n    {\n      \"column\": \"Removal of more than just outer clothing\",\n      \"properties\": {\n        \"dtype\": \"boolean\",\n        \"num_unique_values\": 2,\n        \"samples\": [],\n        \"semantic_type\": \"\",\n        \"description\": \"\"\n      }\n    }\n  ]\n}"
            }
          },
          "metadata": {},
          "execution_count": 65
        }
      ]
    },
    {
      "cell_type": "code",
      "source": [
        "transactions_nth = df_nth[['Gender', 'Age range', 'Self-defined ethnicity', 'Officer-defined ethnicity', 'Object of search']].apply(lambda x: x.tolist(), axis=1).tolist()"
      ],
      "metadata": {
        "id": "j93phzZL91BC"
      },
      "execution_count": 66,
      "outputs": []
    },
    {
      "cell_type": "code",
      "source": [
        "transactions_nth[:1]"
      ],
      "metadata": {
        "colab": {
          "base_uri": "https://localhost:8080/"
        },
        "id": "uENhSDxG90Cc",
        "outputId": "c4bb2279-960c-41cf-b074-e4a7b9842223"
      },
      "execution_count": 69,
      "outputs": [
        {
          "output_type": "execute_result",
          "data": {
            "text/plain": [
              "[['Male',\n",
              "  '10-17',\n",
              "  'Other ethnic group - Not stated',\n",
              "  'Black',\n",
              "  'Offensive weapons']]"
            ]
          },
          "metadata": {},
          "execution_count": 69
        }
      ]
    },
    {
      "cell_type": "code",
      "source": [
        "df_nth['LOI'] = transactions_nth"
      ],
      "metadata": {
        "id": "uIwvmYs9BsSe"
      },
      "execution_count": 70,
      "outputs": []
    },
    {
      "cell_type": "code",
      "source": [
        "df_nth.head()"
      ],
      "metadata": {
        "colab": {
          "base_uri": "https://localhost:8080/",
          "height": 556
        },
        "id": "OuwWhqJYCCW_",
        "outputId": "2ff71c77-5b92-4a06-8c86-42c42f57858d"
      },
      "execution_count": 71,
      "outputs": [
        {
          "output_type": "execute_result",
          "data": {
            "text/plain": [
              "            Type                       Date  Part of a policing operation  \\\n",
              "0  Person search  2025-01-01T00:39:00+00:00                         False   \n",
              "1  Person search  2025-01-01T02:00:00+00:00                         False   \n",
              "2  Person search  2025-01-01T02:08:00+00:00                         False   \n",
              "3  Person search  2025-01-01T02:13:00+00:00                         False   \n",
              "4  Person search  2025-01-01T02:25:00+00:00                         False   \n",
              "\n",
              "   Policing operation   Latitude  Longitude Gender Age range  \\\n",
              "0                 NaN  54.007280  -2.896877   Male     10-17   \n",
              "1                 NaN  53.969736  -2.865897   Male     10-17   \n",
              "2                 NaN  53.969736  -2.865897   Male     10-17   \n",
              "3                 NaN  53.969736  -2.865897   Male     10-17   \n",
              "4                 NaN  54.007280  -2.896877   Male   over 34   \n",
              "\n",
              "                             Self-defined ethnicity Officer-defined ethnicity  \\\n",
              "0                   Other ethnic group - Not stated                     Black   \n",
              "1                   Other ethnic group - Not stated                     White   \n",
              "2                   Other ethnic group - Not stated                     White   \n",
              "3  Asian/Asian British - Any other Asian background                     Other   \n",
              "4                   Other ethnic group - Not stated                     Asian   \n",
              "\n",
              "                                         Legislation   Object of search  \\\n",
              "0  Police and Criminal Evidence Act 1984 (section 1)  Offensive weapons   \n",
              "1              Misuse of Drugs Act 1971 (section 23)   Controlled drugs   \n",
              "2              Misuse of Drugs Act 1971 (section 23)   Controlled drugs   \n",
              "3              Misuse of Drugs Act 1971 (section 23)   Controlled drugs   \n",
              "4              Misuse of Drugs Act 1971 (section 23)   Controlled drugs   \n",
              "\n",
              "                        Outcome  Outcome linked to object of search  \\\n",
              "0  A no further action disposal                               False   \n",
              "1                        Arrest                                True   \n",
              "2  A no further action disposal                               False   \n",
              "3  A no further action disposal                               False   \n",
              "4  A no further action disposal                               False   \n",
              "\n",
              "   Removal of more than just outer clothing  \\\n",
              "0                                     False   \n",
              "1                                     False   \n",
              "2                                     False   \n",
              "3                                     False   \n",
              "4                                     False   \n",
              "\n",
              "                                                 LOI  \n",
              "0  [Male, 10-17, Other ethnic group - Not stated,...  \n",
              "1  [Male, 10-17, Other ethnic group - Not stated,...  \n",
              "2  [Male, 10-17, Other ethnic group - Not stated,...  \n",
              "3  [Male, 10-17, Asian/Asian British - Any other ...  \n",
              "4  [Male, over 34, Other ethnic group - Not state...  "
            ],
            "text/html": [
              "\n",
              "  <div id=\"df-659d6330-473d-4102-807a-c9c5602b891d\" class=\"colab-df-container\">\n",
              "    <div>\n",
              "<style scoped>\n",
              "    .dataframe tbody tr th:only-of-type {\n",
              "        vertical-align: middle;\n",
              "    }\n",
              "\n",
              "    .dataframe tbody tr th {\n",
              "        vertical-align: top;\n",
              "    }\n",
              "\n",
              "    .dataframe thead th {\n",
              "        text-align: right;\n",
              "    }\n",
              "</style>\n",
              "<table border=\"1\" class=\"dataframe\">\n",
              "  <thead>\n",
              "    <tr style=\"text-align: right;\">\n",
              "      <th></th>\n",
              "      <th>Type</th>\n",
              "      <th>Date</th>\n",
              "      <th>Part of a policing operation</th>\n",
              "      <th>Policing operation</th>\n",
              "      <th>Latitude</th>\n",
              "      <th>Longitude</th>\n",
              "      <th>Gender</th>\n",
              "      <th>Age range</th>\n",
              "      <th>Self-defined ethnicity</th>\n",
              "      <th>Officer-defined ethnicity</th>\n",
              "      <th>Legislation</th>\n",
              "      <th>Object of search</th>\n",
              "      <th>Outcome</th>\n",
              "      <th>Outcome linked to object of search</th>\n",
              "      <th>Removal of more than just outer clothing</th>\n",
              "      <th>LOI</th>\n",
              "    </tr>\n",
              "  </thead>\n",
              "  <tbody>\n",
              "    <tr>\n",
              "      <th>0</th>\n",
              "      <td>Person search</td>\n",
              "      <td>2025-01-01T00:39:00+00:00</td>\n",
              "      <td>False</td>\n",
              "      <td>NaN</td>\n",
              "      <td>54.007280</td>\n",
              "      <td>-2.896877</td>\n",
              "      <td>Male</td>\n",
              "      <td>10-17</td>\n",
              "      <td>Other ethnic group - Not stated</td>\n",
              "      <td>Black</td>\n",
              "      <td>Police and Criminal Evidence Act 1984 (section 1)</td>\n",
              "      <td>Offensive weapons</td>\n",
              "      <td>A no further action disposal</td>\n",
              "      <td>False</td>\n",
              "      <td>False</td>\n",
              "      <td>[Male, 10-17, Other ethnic group - Not stated,...</td>\n",
              "    </tr>\n",
              "    <tr>\n",
              "      <th>1</th>\n",
              "      <td>Person search</td>\n",
              "      <td>2025-01-01T02:00:00+00:00</td>\n",
              "      <td>False</td>\n",
              "      <td>NaN</td>\n",
              "      <td>53.969736</td>\n",
              "      <td>-2.865897</td>\n",
              "      <td>Male</td>\n",
              "      <td>10-17</td>\n",
              "      <td>Other ethnic group - Not stated</td>\n",
              "      <td>White</td>\n",
              "      <td>Misuse of Drugs Act 1971 (section 23)</td>\n",
              "      <td>Controlled drugs</td>\n",
              "      <td>Arrest</td>\n",
              "      <td>True</td>\n",
              "      <td>False</td>\n",
              "      <td>[Male, 10-17, Other ethnic group - Not stated,...</td>\n",
              "    </tr>\n",
              "    <tr>\n",
              "      <th>2</th>\n",
              "      <td>Person search</td>\n",
              "      <td>2025-01-01T02:08:00+00:00</td>\n",
              "      <td>False</td>\n",
              "      <td>NaN</td>\n",
              "      <td>53.969736</td>\n",
              "      <td>-2.865897</td>\n",
              "      <td>Male</td>\n",
              "      <td>10-17</td>\n",
              "      <td>Other ethnic group - Not stated</td>\n",
              "      <td>White</td>\n",
              "      <td>Misuse of Drugs Act 1971 (section 23)</td>\n",
              "      <td>Controlled drugs</td>\n",
              "      <td>A no further action disposal</td>\n",
              "      <td>False</td>\n",
              "      <td>False</td>\n",
              "      <td>[Male, 10-17, Other ethnic group - Not stated,...</td>\n",
              "    </tr>\n",
              "    <tr>\n",
              "      <th>3</th>\n",
              "      <td>Person search</td>\n",
              "      <td>2025-01-01T02:13:00+00:00</td>\n",
              "      <td>False</td>\n",
              "      <td>NaN</td>\n",
              "      <td>53.969736</td>\n",
              "      <td>-2.865897</td>\n",
              "      <td>Male</td>\n",
              "      <td>10-17</td>\n",
              "      <td>Asian/Asian British - Any other Asian background</td>\n",
              "      <td>Other</td>\n",
              "      <td>Misuse of Drugs Act 1971 (section 23)</td>\n",
              "      <td>Controlled drugs</td>\n",
              "      <td>A no further action disposal</td>\n",
              "      <td>False</td>\n",
              "      <td>False</td>\n",
              "      <td>[Male, 10-17, Asian/Asian British - Any other ...</td>\n",
              "    </tr>\n",
              "    <tr>\n",
              "      <th>4</th>\n",
              "      <td>Person search</td>\n",
              "      <td>2025-01-01T02:25:00+00:00</td>\n",
              "      <td>False</td>\n",
              "      <td>NaN</td>\n",
              "      <td>54.007280</td>\n",
              "      <td>-2.896877</td>\n",
              "      <td>Male</td>\n",
              "      <td>over 34</td>\n",
              "      <td>Other ethnic group - Not stated</td>\n",
              "      <td>Asian</td>\n",
              "      <td>Misuse of Drugs Act 1971 (section 23)</td>\n",
              "      <td>Controlled drugs</td>\n",
              "      <td>A no further action disposal</td>\n",
              "      <td>False</td>\n",
              "      <td>False</td>\n",
              "      <td>[Male, over 34, Other ethnic group - Not state...</td>\n",
              "    </tr>\n",
              "  </tbody>\n",
              "</table>\n",
              "</div>\n",
              "    <div class=\"colab-df-buttons\">\n",
              "\n",
              "  <div class=\"colab-df-container\">\n",
              "    <button class=\"colab-df-convert\" onclick=\"convertToInteractive('df-659d6330-473d-4102-807a-c9c5602b891d')\"\n",
              "            title=\"Convert this dataframe to an interactive table.\"\n",
              "            style=\"display:none;\">\n",
              "\n",
              "  <svg xmlns=\"http://www.w3.org/2000/svg\" height=\"24px\" viewBox=\"0 -960 960 960\">\n",
              "    <path d=\"M120-120v-720h720v720H120Zm60-500h600v-160H180v160Zm220 220h160v-160H400v160Zm0 220h160v-160H400v160ZM180-400h160v-160H180v160Zm440 0h160v-160H620v160ZM180-180h160v-160H180v160Zm440 0h160v-160H620v160Z\"/>\n",
              "  </svg>\n",
              "    </button>\n",
              "\n",
              "  <style>\n",
              "    .colab-df-container {\n",
              "      display:flex;\n",
              "      gap: 12px;\n",
              "    }\n",
              "\n",
              "    .colab-df-convert {\n",
              "      background-color: #E8F0FE;\n",
              "      border: none;\n",
              "      border-radius: 50%;\n",
              "      cursor: pointer;\n",
              "      display: none;\n",
              "      fill: #1967D2;\n",
              "      height: 32px;\n",
              "      padding: 0 0 0 0;\n",
              "      width: 32px;\n",
              "    }\n",
              "\n",
              "    .colab-df-convert:hover {\n",
              "      background-color: #E2EBFA;\n",
              "      box-shadow: 0px 1px 2px rgba(60, 64, 67, 0.3), 0px 1px 3px 1px rgba(60, 64, 67, 0.15);\n",
              "      fill: #174EA6;\n",
              "    }\n",
              "\n",
              "    .colab-df-buttons div {\n",
              "      margin-bottom: 4px;\n",
              "    }\n",
              "\n",
              "    [theme=dark] .colab-df-convert {\n",
              "      background-color: #3B4455;\n",
              "      fill: #D2E3FC;\n",
              "    }\n",
              "\n",
              "    [theme=dark] .colab-df-convert:hover {\n",
              "      background-color: #434B5C;\n",
              "      box-shadow: 0px 1px 3px 1px rgba(0, 0, 0, 0.15);\n",
              "      filter: drop-shadow(0px 1px 2px rgba(0, 0, 0, 0.3));\n",
              "      fill: #FFFFFF;\n",
              "    }\n",
              "  </style>\n",
              "\n",
              "    <script>\n",
              "      const buttonEl =\n",
              "        document.querySelector('#df-659d6330-473d-4102-807a-c9c5602b891d button.colab-df-convert');\n",
              "      buttonEl.style.display =\n",
              "        google.colab.kernel.accessAllowed ? 'block' : 'none';\n",
              "\n",
              "      async function convertToInteractive(key) {\n",
              "        const element = document.querySelector('#df-659d6330-473d-4102-807a-c9c5602b891d');\n",
              "        const dataTable =\n",
              "          await google.colab.kernel.invokeFunction('convertToInteractive',\n",
              "                                                    [key], {});\n",
              "        if (!dataTable) return;\n",
              "\n",
              "        const docLinkHtml = 'Like what you see? Visit the ' +\n",
              "          '<a target=\"_blank\" href=https://colab.research.google.com/notebooks/data_table.ipynb>data table notebook</a>'\n",
              "          + ' to learn more about interactive tables.';\n",
              "        element.innerHTML = '';\n",
              "        dataTable['output_type'] = 'display_data';\n",
              "        await google.colab.output.renderOutput(dataTable, element);\n",
              "        const docLink = document.createElement('div');\n",
              "        docLink.innerHTML = docLinkHtml;\n",
              "        element.appendChild(docLink);\n",
              "      }\n",
              "    </script>\n",
              "  </div>\n",
              "\n",
              "\n",
              "    <div id=\"df-f7cdd6c5-5529-4397-831a-4a0ad1535278\">\n",
              "      <button class=\"colab-df-quickchart\" onclick=\"quickchart('df-f7cdd6c5-5529-4397-831a-4a0ad1535278')\"\n",
              "                title=\"Suggest charts\"\n",
              "                style=\"display:none;\">\n",
              "\n",
              "<svg xmlns=\"http://www.w3.org/2000/svg\" height=\"24px\"viewBox=\"0 0 24 24\"\n",
              "     width=\"24px\">\n",
              "    <g>\n",
              "        <path d=\"M19 3H5c-1.1 0-2 .9-2 2v14c0 1.1.9 2 2 2h14c1.1 0 2-.9 2-2V5c0-1.1-.9-2-2-2zM9 17H7v-7h2v7zm4 0h-2V7h2v10zm4 0h-2v-4h2v4z\"/>\n",
              "    </g>\n",
              "</svg>\n",
              "      </button>\n",
              "\n",
              "<style>\n",
              "  .colab-df-quickchart {\n",
              "      --bg-color: #E8F0FE;\n",
              "      --fill-color: #1967D2;\n",
              "      --hover-bg-color: #E2EBFA;\n",
              "      --hover-fill-color: #174EA6;\n",
              "      --disabled-fill-color: #AAA;\n",
              "      --disabled-bg-color: #DDD;\n",
              "  }\n",
              "\n",
              "  [theme=dark] .colab-df-quickchart {\n",
              "      --bg-color: #3B4455;\n",
              "      --fill-color: #D2E3FC;\n",
              "      --hover-bg-color: #434B5C;\n",
              "      --hover-fill-color: #FFFFFF;\n",
              "      --disabled-bg-color: #3B4455;\n",
              "      --disabled-fill-color: #666;\n",
              "  }\n",
              "\n",
              "  .colab-df-quickchart {\n",
              "    background-color: var(--bg-color);\n",
              "    border: none;\n",
              "    border-radius: 50%;\n",
              "    cursor: pointer;\n",
              "    display: none;\n",
              "    fill: var(--fill-color);\n",
              "    height: 32px;\n",
              "    padding: 0;\n",
              "    width: 32px;\n",
              "  }\n",
              "\n",
              "  .colab-df-quickchart:hover {\n",
              "    background-color: var(--hover-bg-color);\n",
              "    box-shadow: 0 1px 2px rgba(60, 64, 67, 0.3), 0 1px 3px 1px rgba(60, 64, 67, 0.15);\n",
              "    fill: var(--button-hover-fill-color);\n",
              "  }\n",
              "\n",
              "  .colab-df-quickchart-complete:disabled,\n",
              "  .colab-df-quickchart-complete:disabled:hover {\n",
              "    background-color: var(--disabled-bg-color);\n",
              "    fill: var(--disabled-fill-color);\n",
              "    box-shadow: none;\n",
              "  }\n",
              "\n",
              "  .colab-df-spinner {\n",
              "    border: 2px solid var(--fill-color);\n",
              "    border-color: transparent;\n",
              "    border-bottom-color: var(--fill-color);\n",
              "    animation:\n",
              "      spin 1s steps(1) infinite;\n",
              "  }\n",
              "\n",
              "  @keyframes spin {\n",
              "    0% {\n",
              "      border-color: transparent;\n",
              "      border-bottom-color: var(--fill-color);\n",
              "      border-left-color: var(--fill-color);\n",
              "    }\n",
              "    20% {\n",
              "      border-color: transparent;\n",
              "      border-left-color: var(--fill-color);\n",
              "      border-top-color: var(--fill-color);\n",
              "    }\n",
              "    30% {\n",
              "      border-color: transparent;\n",
              "      border-left-color: var(--fill-color);\n",
              "      border-top-color: var(--fill-color);\n",
              "      border-right-color: var(--fill-color);\n",
              "    }\n",
              "    40% {\n",
              "      border-color: transparent;\n",
              "      border-right-color: var(--fill-color);\n",
              "      border-top-color: var(--fill-color);\n",
              "    }\n",
              "    60% {\n",
              "      border-color: transparent;\n",
              "      border-right-color: var(--fill-color);\n",
              "    }\n",
              "    80% {\n",
              "      border-color: transparent;\n",
              "      border-right-color: var(--fill-color);\n",
              "      border-bottom-color: var(--fill-color);\n",
              "    }\n",
              "    90% {\n",
              "      border-color: transparent;\n",
              "      border-bottom-color: var(--fill-color);\n",
              "    }\n",
              "  }\n",
              "</style>\n",
              "\n",
              "      <script>\n",
              "        async function quickchart(key) {\n",
              "          const quickchartButtonEl =\n",
              "            document.querySelector('#' + key + ' button');\n",
              "          quickchartButtonEl.disabled = true;  // To prevent multiple clicks.\n",
              "          quickchartButtonEl.classList.add('colab-df-spinner');\n",
              "          try {\n",
              "            const charts = await google.colab.kernel.invokeFunction(\n",
              "                'suggestCharts', [key], {});\n",
              "          } catch (error) {\n",
              "            console.error('Error during call to suggestCharts:', error);\n",
              "          }\n",
              "          quickchartButtonEl.classList.remove('colab-df-spinner');\n",
              "          quickchartButtonEl.classList.add('colab-df-quickchart-complete');\n",
              "        }\n",
              "        (() => {\n",
              "          let quickchartButtonEl =\n",
              "            document.querySelector('#df-f7cdd6c5-5529-4397-831a-4a0ad1535278 button');\n",
              "          quickchartButtonEl.style.display =\n",
              "            google.colab.kernel.accessAllowed ? 'block' : 'none';\n",
              "        })();\n",
              "      </script>\n",
              "    </div>\n",
              "\n",
              "    </div>\n",
              "  </div>\n"
            ],
            "application/vnd.google.colaboratory.intrinsic+json": {
              "type": "dataframe",
              "variable_name": "df_nth",
              "summary": "{\n  \"name\": \"df_nth\",\n  \"rows\": 328,\n  \"fields\": [\n    {\n      \"column\": \"Type\",\n      \"properties\": {\n        \"dtype\": \"category\",\n        \"num_unique_values\": 3,\n        \"samples\": [\n          \"Person search\",\n          \"Person and Vehicle search\",\n          \"Vehicle search\"\n        ],\n        \"semantic_type\": \"\",\n        \"description\": \"\"\n      }\n    },\n    {\n      \"column\": \"Date\",\n      \"properties\": {\n        \"dtype\": \"object\",\n        \"num_unique_values\": 271,\n        \"samples\": [\n          \"2025-01-03T17:00:00+00:00\",\n          \"2025-01-14T13:35:00+00:00\",\n          \"2025-01-09T13:30:00+00:00\"\n        ],\n        \"semantic_type\": \"\",\n        \"description\": \"\"\n      }\n    },\n    {\n      \"column\": \"Part of a policing operation\",\n      \"properties\": {\n        \"dtype\": \"boolean\",\n        \"num_unique_values\": 2,\n        \"samples\": [\n          true,\n          false\n        ],\n        \"semantic_type\": \"\",\n        \"description\": \"\"\n      }\n    },\n    {\n      \"column\": \"Policing operation\",\n      \"properties\": {\n        \"dtype\": \"number\",\n        \"std\": null,\n        \"min\": null,\n        \"max\": null,\n        \"num_unique_values\": 0,\n        \"samples\": [],\n        \"semantic_type\": \"\",\n        \"description\": \"\"\n      }\n    },\n    {\n      \"column\": \"Latitude\",\n      \"properties\": {\n        \"dtype\": \"number\",\n        \"std\": 0.061260401646864214,\n        \"min\": 53.902016,\n        \"max\": 54.24274,\n        \"num_unique_values\": 75,\n        \"samples\": [],\n        \"semantic_type\": \"\",\n        \"description\": \"\"\n      }\n    },\n    {\n      \"column\": \"Longitude\",\n      \"properties\": {\n        \"dtype\": \"number\",\n        \"std\": 0.13976378322845115,\n        \"min\": -3.17239,\n        \"max\": -2.141625,\n        \"num_unique_values\": 75,\n        \"samples\": [],\n        \"semantic_type\": \"\",\n        \"description\": \"\"\n      }\n    },\n    {\n      \"column\": \"Gender\",\n      \"properties\": {\n        \"dtype\": \"category\",\n        \"num_unique_values\": 3,\n        \"samples\": [],\n        \"semantic_type\": \"\",\n        \"description\": \"\"\n      }\n    },\n    {\n      \"column\": \"Age range\",\n      \"properties\": {\n        \"dtype\": \"category\",\n        \"num_unique_values\": 4,\n        \"samples\": [],\n        \"semantic_type\": \"\",\n        \"description\": \"\"\n      }\n    },\n    {\n      \"column\": \"Self-defined ethnicity\",\n      \"properties\": {\n        \"dtype\": \"category\",\n        \"num_unique_values\": 14,\n        \"samples\": [],\n        \"semantic_type\": \"\",\n        \"description\": \"\"\n      }\n    },\n    {\n      \"column\": \"Officer-defined ethnicity\",\n      \"properties\": {\n        \"dtype\": \"category\",\n        \"num_unique_values\": 4,\n        \"samples\": [],\n        \"semantic_type\": \"\",\n        \"description\": \"\"\n      }\n    },\n    {\n      \"column\": \"Legislation\",\n      \"properties\": {\n        \"dtype\": \"category\",\n        \"num_unique_values\": 3,\n        \"samples\": [],\n        \"semantic_type\": \"\",\n        \"description\": \"\"\n      }\n    },\n    {\n      \"column\": \"Object of search\",\n      \"properties\": {\n        \"dtype\": \"category\",\n        \"num_unique_values\": 6,\n        \"samples\": [],\n        \"semantic_type\": \"\",\n        \"description\": \"\"\n      }\n    },\n    {\n      \"column\": \"Outcome\",\n      \"properties\": {\n        \"dtype\": \"category\",\n        \"num_unique_values\": 6,\n        \"samples\": [],\n        \"semantic_type\": \"\",\n        \"description\": \"\"\n      }\n    },\n    {\n      \"column\": \"Outcome linked to object of search\",\n      \"properties\": {\n        \"dtype\": \"boolean\",\n        \"num_unique_values\": 2,\n        \"samples\": [],\n        \"semantic_type\": \"\",\n        \"description\": \"\"\n      }\n    },\n    {\n      \"column\": \"Removal of more than just outer clothing\",\n      \"properties\": {\n        \"dtype\": \"boolean\",\n        \"num_unique_values\": 2,\n        \"samples\": [],\n        \"semantic_type\": \"\",\n        \"description\": \"\"\n      }\n    },\n    {\n      \"column\": \"LOI\",\n      \"properties\": {\n        \"dtype\": \"object\",\n        \"semantic_type\": \"\",\n        \"description\": \"\"\n      }\n    }\n  ]\n}"
            }
          },
          "metadata": {},
          "execution_count": 71
        }
      ]
    },
    {
      "cell_type": "code",
      "source": [
        "df_nth_transactions = df_nth[['Date','LOI']]\n",
        "df_nth_transactions[:2]"
      ],
      "metadata": {
        "colab": {
          "base_uri": "https://localhost:8080/",
          "height": 95
        },
        "id": "_Zkokn97CEs4",
        "outputId": "c4ab01a8-7fe0-453d-c84d-573f2805d6c9"
      },
      "execution_count": 84,
      "outputs": [
        {
          "output_type": "execute_result",
          "data": {
            "text/plain": [
              "                        Date  \\\n",
              "0  2025-01-01T00:39:00+00:00   \n",
              "1  2025-01-01T02:00:00+00:00   \n",
              "\n",
              "                                                 LOI  \n",
              "0  [Male, 10-17, Other ethnic group - Not stated,...  \n",
              "1  [Male, 10-17, Other ethnic group - Not stated,...  "
            ],
            "text/html": [
              "\n",
              "  <div id=\"df-502ee48a-b3a8-440e-9330-79ffb37f2ef3\" class=\"colab-df-container\">\n",
              "    <div>\n",
              "<style scoped>\n",
              "    .dataframe tbody tr th:only-of-type {\n",
              "        vertical-align: middle;\n",
              "    }\n",
              "\n",
              "    .dataframe tbody tr th {\n",
              "        vertical-align: top;\n",
              "    }\n",
              "\n",
              "    .dataframe thead th {\n",
              "        text-align: right;\n",
              "    }\n",
              "</style>\n",
              "<table border=\"1\" class=\"dataframe\">\n",
              "  <thead>\n",
              "    <tr style=\"text-align: right;\">\n",
              "      <th></th>\n",
              "      <th>Date</th>\n",
              "      <th>LOI</th>\n",
              "    </tr>\n",
              "  </thead>\n",
              "  <tbody>\n",
              "    <tr>\n",
              "      <th>0</th>\n",
              "      <td>2025-01-01T00:39:00+00:00</td>\n",
              "      <td>[Male, 10-17, Other ethnic group - Not stated,...</td>\n",
              "    </tr>\n",
              "    <tr>\n",
              "      <th>1</th>\n",
              "      <td>2025-01-01T02:00:00+00:00</td>\n",
              "      <td>[Male, 10-17, Other ethnic group - Not stated,...</td>\n",
              "    </tr>\n",
              "  </tbody>\n",
              "</table>\n",
              "</div>\n",
              "    <div class=\"colab-df-buttons\">\n",
              "\n",
              "  <div class=\"colab-df-container\">\n",
              "    <button class=\"colab-df-convert\" onclick=\"convertToInteractive('df-502ee48a-b3a8-440e-9330-79ffb37f2ef3')\"\n",
              "            title=\"Convert this dataframe to an interactive table.\"\n",
              "            style=\"display:none;\">\n",
              "\n",
              "  <svg xmlns=\"http://www.w3.org/2000/svg\" height=\"24px\" viewBox=\"0 -960 960 960\">\n",
              "    <path d=\"M120-120v-720h720v720H120Zm60-500h600v-160H180v160Zm220 220h160v-160H400v160Zm0 220h160v-160H400v160ZM180-400h160v-160H180v160Zm440 0h160v-160H620v160ZM180-180h160v-160H180v160Zm440 0h160v-160H620v160Z\"/>\n",
              "  </svg>\n",
              "    </button>\n",
              "\n",
              "  <style>\n",
              "    .colab-df-container {\n",
              "      display:flex;\n",
              "      gap: 12px;\n",
              "    }\n",
              "\n",
              "    .colab-df-convert {\n",
              "      background-color: #E8F0FE;\n",
              "      border: none;\n",
              "      border-radius: 50%;\n",
              "      cursor: pointer;\n",
              "      display: none;\n",
              "      fill: #1967D2;\n",
              "      height: 32px;\n",
              "      padding: 0 0 0 0;\n",
              "      width: 32px;\n",
              "    }\n",
              "\n",
              "    .colab-df-convert:hover {\n",
              "      background-color: #E2EBFA;\n",
              "      box-shadow: 0px 1px 2px rgba(60, 64, 67, 0.3), 0px 1px 3px 1px rgba(60, 64, 67, 0.15);\n",
              "      fill: #174EA6;\n",
              "    }\n",
              "\n",
              "    .colab-df-buttons div {\n",
              "      margin-bottom: 4px;\n",
              "    }\n",
              "\n",
              "    [theme=dark] .colab-df-convert {\n",
              "      background-color: #3B4455;\n",
              "      fill: #D2E3FC;\n",
              "    }\n",
              "\n",
              "    [theme=dark] .colab-df-convert:hover {\n",
              "      background-color: #434B5C;\n",
              "      box-shadow: 0px 1px 3px 1px rgba(0, 0, 0, 0.15);\n",
              "      filter: drop-shadow(0px 1px 2px rgba(0, 0, 0, 0.3));\n",
              "      fill: #FFFFFF;\n",
              "    }\n",
              "  </style>\n",
              "\n",
              "    <script>\n",
              "      const buttonEl =\n",
              "        document.querySelector('#df-502ee48a-b3a8-440e-9330-79ffb37f2ef3 button.colab-df-convert');\n",
              "      buttonEl.style.display =\n",
              "        google.colab.kernel.accessAllowed ? 'block' : 'none';\n",
              "\n",
              "      async function convertToInteractive(key) {\n",
              "        const element = document.querySelector('#df-502ee48a-b3a8-440e-9330-79ffb37f2ef3');\n",
              "        const dataTable =\n",
              "          await google.colab.kernel.invokeFunction('convertToInteractive',\n",
              "                                                    [key], {});\n",
              "        if (!dataTable) return;\n",
              "\n",
              "        const docLinkHtml = 'Like what you see? Visit the ' +\n",
              "          '<a target=\"_blank\" href=https://colab.research.google.com/notebooks/data_table.ipynb>data table notebook</a>'\n",
              "          + ' to learn more about interactive tables.';\n",
              "        element.innerHTML = '';\n",
              "        dataTable['output_type'] = 'display_data';\n",
              "        await google.colab.output.renderOutput(dataTable, element);\n",
              "        const docLink = document.createElement('div');\n",
              "        docLink.innerHTML = docLinkHtml;\n",
              "        element.appendChild(docLink);\n",
              "      }\n",
              "    </script>\n",
              "  </div>\n",
              "\n",
              "\n",
              "    <div id=\"df-363a5123-81f1-4ad0-a6dc-c620939cfba9\">\n",
              "      <button class=\"colab-df-quickchart\" onclick=\"quickchart('df-363a5123-81f1-4ad0-a6dc-c620939cfba9')\"\n",
              "                title=\"Suggest charts\"\n",
              "                style=\"display:none;\">\n",
              "\n",
              "<svg xmlns=\"http://www.w3.org/2000/svg\" height=\"24px\"viewBox=\"0 0 24 24\"\n",
              "     width=\"24px\">\n",
              "    <g>\n",
              "        <path d=\"M19 3H5c-1.1 0-2 .9-2 2v14c0 1.1.9 2 2 2h14c1.1 0 2-.9 2-2V5c0-1.1-.9-2-2-2zM9 17H7v-7h2v7zm4 0h-2V7h2v10zm4 0h-2v-4h2v4z\"/>\n",
              "    </g>\n",
              "</svg>\n",
              "      </button>\n",
              "\n",
              "<style>\n",
              "  .colab-df-quickchart {\n",
              "      --bg-color: #E8F0FE;\n",
              "      --fill-color: #1967D2;\n",
              "      --hover-bg-color: #E2EBFA;\n",
              "      --hover-fill-color: #174EA6;\n",
              "      --disabled-fill-color: #AAA;\n",
              "      --disabled-bg-color: #DDD;\n",
              "  }\n",
              "\n",
              "  [theme=dark] .colab-df-quickchart {\n",
              "      --bg-color: #3B4455;\n",
              "      --fill-color: #D2E3FC;\n",
              "      --hover-bg-color: #434B5C;\n",
              "      --hover-fill-color: #FFFFFF;\n",
              "      --disabled-bg-color: #3B4455;\n",
              "      --disabled-fill-color: #666;\n",
              "  }\n",
              "\n",
              "  .colab-df-quickchart {\n",
              "    background-color: var(--bg-color);\n",
              "    border: none;\n",
              "    border-radius: 50%;\n",
              "    cursor: pointer;\n",
              "    display: none;\n",
              "    fill: var(--fill-color);\n",
              "    height: 32px;\n",
              "    padding: 0;\n",
              "    width: 32px;\n",
              "  }\n",
              "\n",
              "  .colab-df-quickchart:hover {\n",
              "    background-color: var(--hover-bg-color);\n",
              "    box-shadow: 0 1px 2px rgba(60, 64, 67, 0.3), 0 1px 3px 1px rgba(60, 64, 67, 0.15);\n",
              "    fill: var(--button-hover-fill-color);\n",
              "  }\n",
              "\n",
              "  .colab-df-quickchart-complete:disabled,\n",
              "  .colab-df-quickchart-complete:disabled:hover {\n",
              "    background-color: var(--disabled-bg-color);\n",
              "    fill: var(--disabled-fill-color);\n",
              "    box-shadow: none;\n",
              "  }\n",
              "\n",
              "  .colab-df-spinner {\n",
              "    border: 2px solid var(--fill-color);\n",
              "    border-color: transparent;\n",
              "    border-bottom-color: var(--fill-color);\n",
              "    animation:\n",
              "      spin 1s steps(1) infinite;\n",
              "  }\n",
              "\n",
              "  @keyframes spin {\n",
              "    0% {\n",
              "      border-color: transparent;\n",
              "      border-bottom-color: var(--fill-color);\n",
              "      border-left-color: var(--fill-color);\n",
              "    }\n",
              "    20% {\n",
              "      border-color: transparent;\n",
              "      border-left-color: var(--fill-color);\n",
              "      border-top-color: var(--fill-color);\n",
              "    }\n",
              "    30% {\n",
              "      border-color: transparent;\n",
              "      border-left-color: var(--fill-color);\n",
              "      border-top-color: var(--fill-color);\n",
              "      border-right-color: var(--fill-color);\n",
              "    }\n",
              "    40% {\n",
              "      border-color: transparent;\n",
              "      border-right-color: var(--fill-color);\n",
              "      border-top-color: var(--fill-color);\n",
              "    }\n",
              "    60% {\n",
              "      border-color: transparent;\n",
              "      border-right-color: var(--fill-color);\n",
              "    }\n",
              "    80% {\n",
              "      border-color: transparent;\n",
              "      border-right-color: var(--fill-color);\n",
              "      border-bottom-color: var(--fill-color);\n",
              "    }\n",
              "    90% {\n",
              "      border-color: transparent;\n",
              "      border-bottom-color: var(--fill-color);\n",
              "    }\n",
              "  }\n",
              "</style>\n",
              "\n",
              "      <script>\n",
              "        async function quickchart(key) {\n",
              "          const quickchartButtonEl =\n",
              "            document.querySelector('#' + key + ' button');\n",
              "          quickchartButtonEl.disabled = true;  // To prevent multiple clicks.\n",
              "          quickchartButtonEl.classList.add('colab-df-spinner');\n",
              "          try {\n",
              "            const charts = await google.colab.kernel.invokeFunction(\n",
              "                'suggestCharts', [key], {});\n",
              "          } catch (error) {\n",
              "            console.error('Error during call to suggestCharts:', error);\n",
              "          }\n",
              "          quickchartButtonEl.classList.remove('colab-df-spinner');\n",
              "          quickchartButtonEl.classList.add('colab-df-quickchart-complete');\n",
              "        }\n",
              "        (() => {\n",
              "          let quickchartButtonEl =\n",
              "            document.querySelector('#df-363a5123-81f1-4ad0-a6dc-c620939cfba9 button');\n",
              "          quickchartButtonEl.style.display =\n",
              "            google.colab.kernel.accessAllowed ? 'block' : 'none';\n",
              "        })();\n",
              "      </script>\n",
              "    </div>\n",
              "\n",
              "    </div>\n",
              "  </div>\n"
            ],
            "application/vnd.google.colaboratory.intrinsic+json": {
              "type": "dataframe",
              "summary": "{\n  \"name\": \"df_nth_transactions[:2]\",\n  \"rows\": 2,\n  \"fields\": [\n    {\n      \"column\": \"Date\",\n      \"properties\": {\n        \"dtype\": \"object\",\n        \"num_unique_values\": 2,\n        \"samples\": [\n          \"2025-01-01T02:00:00+00:00\",\n          \"2025-01-01T00:39:00+00:00\"\n        ],\n        \"semantic_type\": \"\",\n        \"description\": \"\"\n      }\n    },\n    {\n      \"column\": \"LOI\",\n      \"properties\": {\n        \"dtype\": \"object\",\n        \"semantic_type\": \"\",\n        \"description\": \"\"\n      }\n    }\n  ]\n}"
            }
          },
          "metadata": {},
          "execution_count": 84
        }
      ]
    },
    {
      "cell_type": "code",
      "source": [
        "df_nth_transactions['LOI'][0]"
      ],
      "metadata": {
        "colab": {
          "base_uri": "https://localhost:8080/"
        },
        "id": "8n_V7HjeDK-j",
        "outputId": "ae010c95-fd1a-42d0-d809-8522befc4a08"
      },
      "execution_count": 85,
      "outputs": [
        {
          "output_type": "execute_result",
          "data": {
            "text/plain": [
              "['Male',\n",
              " '10-17',\n",
              " 'Other ethnic group - Not stated',\n",
              " 'Black',\n",
              " 'Offensive weapons']"
            ]
          },
          "metadata": {},
          "execution_count": 85
        }
      ]
    },
    {
      "cell_type": "code",
      "source": [
        "df_nth_transactions.groupby('Date')['LOI'].apply(list)"
      ],
      "metadata": {
        "colab": {
          "base_uri": "https://localhost:8080/",
          "height": 406
        },
        "id": "3F4uB8KZDK8w",
        "outputId": "7821c6af-a99f-4692-d05e-5c97ccfe1393"
      },
      "execution_count": 86,
      "outputs": [
        {
          "output_type": "execute_result",
          "data": {
            "text/plain": [
              "Date\n",
              "2025-01-01T00:39:00+00:00    [[Male, 10-17, Other ethnic group - Not stated...\n",
              "2025-01-01T02:00:00+00:00    [[Male, 10-17, Other ethnic group - Not stated...\n",
              "2025-01-01T02:08:00+00:00    [[Male, 10-17, Other ethnic group - Not stated...\n",
              "2025-01-01T02:13:00+00:00    [[Male, 10-17, Asian/Asian British - Any other...\n",
              "2025-01-01T02:25:00+00:00    [[Male, over 34, Other ethnic group - Not stat...\n",
              "                                                   ...                        \n",
              "2025-01-31T16:35:00+00:00    [[Male, 18-24, White - English/Welsh/Scottish/...\n",
              "2025-01-31T16:48:00+00:00    [[Female, 25-34, Other ethnic group - Not stat...\n",
              "2025-01-31T20:43:00+00:00    [[Male, 18-24, Black/African/Caribbean/Black B...\n",
              "2025-01-31T22:31:00+00:00    [[Male, 18-24, Other ethnic group - Not stated...\n",
              "2025-01-31T22:55:00+00:00    [[Male, 25-34, Other ethnic group - Not stated...\n",
              "Name: LOI, Length: 271, dtype: object"
            ],
            "text/html": [
              "<div>\n",
              "<style scoped>\n",
              "    .dataframe tbody tr th:only-of-type {\n",
              "        vertical-align: middle;\n",
              "    }\n",
              "\n",
              "    .dataframe tbody tr th {\n",
              "        vertical-align: top;\n",
              "    }\n",
              "\n",
              "    .dataframe thead th {\n",
              "        text-align: right;\n",
              "    }\n",
              "</style>\n",
              "<table border=\"1\" class=\"dataframe\">\n",
              "  <thead>\n",
              "    <tr style=\"text-align: right;\">\n",
              "      <th></th>\n",
              "      <th>LOI</th>\n",
              "    </tr>\n",
              "    <tr>\n",
              "      <th>Date</th>\n",
              "      <th></th>\n",
              "    </tr>\n",
              "  </thead>\n",
              "  <tbody>\n",
              "    <tr>\n",
              "      <th>2025-01-01T00:39:00+00:00</th>\n",
              "      <td>[[Male, 10-17, Other ethnic group - Not stated...</td>\n",
              "    </tr>\n",
              "    <tr>\n",
              "      <th>2025-01-01T02:00:00+00:00</th>\n",
              "      <td>[[Male, 10-17, Other ethnic group - Not stated...</td>\n",
              "    </tr>\n",
              "    <tr>\n",
              "      <th>2025-01-01T02:08:00+00:00</th>\n",
              "      <td>[[Male, 10-17, Other ethnic group - Not stated...</td>\n",
              "    </tr>\n",
              "    <tr>\n",
              "      <th>2025-01-01T02:13:00+00:00</th>\n",
              "      <td>[[Male, 10-17, Asian/Asian British - Any other...</td>\n",
              "    </tr>\n",
              "    <tr>\n",
              "      <th>2025-01-01T02:25:00+00:00</th>\n",
              "      <td>[[Male, over 34, Other ethnic group - Not stat...</td>\n",
              "    </tr>\n",
              "    <tr>\n",
              "      <th>...</th>\n",
              "      <td>...</td>\n",
              "    </tr>\n",
              "    <tr>\n",
              "      <th>2025-01-31T16:35:00+00:00</th>\n",
              "      <td>[[Male, 18-24, White - English/Welsh/Scottish/...</td>\n",
              "    </tr>\n",
              "    <tr>\n",
              "      <th>2025-01-31T16:48:00+00:00</th>\n",
              "      <td>[[Female, 25-34, Other ethnic group - Not stat...</td>\n",
              "    </tr>\n",
              "    <tr>\n",
              "      <th>2025-01-31T20:43:00+00:00</th>\n",
              "      <td>[[Male, 18-24, Black/African/Caribbean/Black B...</td>\n",
              "    </tr>\n",
              "    <tr>\n",
              "      <th>2025-01-31T22:31:00+00:00</th>\n",
              "      <td>[[Male, 18-24, Other ethnic group - Not stated...</td>\n",
              "    </tr>\n",
              "    <tr>\n",
              "      <th>2025-01-31T22:55:00+00:00</th>\n",
              "      <td>[[Male, 25-34, Other ethnic group - Not stated...</td>\n",
              "    </tr>\n",
              "  </tbody>\n",
              "</table>\n",
              "<p>271 rows × 1 columns</p>\n",
              "</div><br><label><b>dtype:</b> object</label>"
            ]
          },
          "metadata": {},
          "execution_count": 86
        }
      ]
    },
    {
      "cell_type": "code",
      "source": [],
      "metadata": {
        "id": "3nXZQCmlEhNZ"
      },
      "execution_count": null,
      "outputs": []
    },
    {
      "cell_type": "code",
      "source": [
        "#ใช้ transactions_nth เลย เพราะจัดรูปมาแล้ว"
      ],
      "metadata": {
        "id": "rErIRTLcEhKs"
      },
      "execution_count": null,
      "outputs": []
    },
    {
      "cell_type": "code",
      "source": [
        "list_apri = list(apriori(transactions_nth, min_support = 0.05))"
      ],
      "metadata": {
        "id": "ZbyBtkX-DKqL"
      },
      "execution_count": 89,
      "outputs": []
    },
    {
      "cell_type": "code",
      "source": [
        "list_apri[:5]"
      ],
      "metadata": {
        "colab": {
          "base_uri": "https://localhost:8080/"
        },
        "id": "dFPBNS-0Fa4M",
        "outputId": "b983eee5-1e49-42a4-bb4b-ba2e39047e67"
      },
      "execution_count": 98,
      "outputs": [
        {
          "output_type": "execute_result",
          "data": {
            "text/plain": [
              "[RelationRecord(items=frozenset({'10-17'}), support=0.20121951219512196, ordered_statistics=[OrderedStatistic(items_base=frozenset(), items_add=frozenset({'10-17'}), confidence=0.20121951219512196, lift=1.0)]),\n",
              " RelationRecord(items=frozenset({'18-24'}), support=0.20121951219512196, ordered_statistics=[OrderedStatistic(items_base=frozenset(), items_add=frozenset({'18-24'}), confidence=0.20121951219512196, lift=1.0)]),\n",
              " RelationRecord(items=frozenset({'25-34'}), support=0.18597560975609756, ordered_statistics=[OrderedStatistic(items_base=frozenset(), items_add=frozenset({'25-34'}), confidence=0.18597560975609756, lift=1.0)]),\n",
              " RelationRecord(items=frozenset({'Article for use in theft'}), support=0.8567073170731707, ordered_statistics=[OrderedStatistic(items_base=frozenset(), items_add=frozenset({'Article for use in theft'}), confidence=0.8567073170731707, lift=1.0)]),\n",
              " RelationRecord(items=frozenset({'Asian'}), support=0.08231707317073171, ordered_statistics=[OrderedStatistic(items_base=frozenset(), items_add=frozenset({'Asian'}), confidence=0.08231707317073171, lift=1.0)])]"
            ]
          },
          "metadata": {},
          "execution_count": 98
        }
      ]
    },
    {
      "cell_type": "markdown",
      "source": [
        "# หาว่าตำรวจ Black มีความสัมพันธ์กับอะไรบ้าง"
      ],
      "metadata": {
        "id": "58rcLx0SGGyK"
      }
    },
    {
      "cell_type": "code",
      "source": [
        "police_black = list()\n",
        "for result in list_apri:\n",
        "  if 'Black' in result[0]: #str(result[0])\n",
        "    police_black.append(result)"
      ],
      "metadata": {
        "id": "hDEWTNM5GApM"
      },
      "execution_count": 100,
      "outputs": []
    },
    {
      "cell_type": "code",
      "source": [
        "len(police_black)"
      ],
      "metadata": {
        "id": "HJP6lSdRHMom",
        "outputId": "6ae26bc8-7a95-4d04-d1fa-1e0dffcb0c41",
        "colab": {
          "base_uri": "https://localhost:8080/"
        }
      },
      "execution_count": 105,
      "outputs": [
        {
          "output_type": "execute_result",
          "data": {
            "text/plain": [
              "12"
            ]
          },
          "metadata": {},
          "execution_count": 105
        }
      ]
    },
    {
      "cell_type": "code",
      "source": [
        "police_black"
      ],
      "metadata": {
        "id": "I9KuMGkuGAnH",
        "outputId": "4e48bce5-b30d-42e8-ce4d-a9b37fe7caad",
        "colab": {
          "base_uri": "https://localhost:8080/"
        }
      },
      "execution_count": 104,
      "outputs": [
        {
          "output_type": "execute_result",
          "data": {
            "text/plain": [
              "[RelationRecord(items=frozenset({'Black'}), support=0.17682926829268292, ordered_statistics=[OrderedStatistic(items_base=frozenset(), items_add=frozenset({'Black'}), confidence=0.17682926829268292, lift=1.0)]),\n",
              " RelationRecord(items=frozenset({'Black', '10-17'}), support=0.051829268292682924, ordered_statistics=[OrderedStatistic(items_base=frozenset(), items_add=frozenset({'Black', '10-17'}), confidence=0.051829268292682924, lift=1.0), OrderedStatistic(items_base=frozenset({'10-17'}), items_add=frozenset({'Black'}), confidence=0.25757575757575757, lift=1.4566353187042842), OrderedStatistic(items_base=frozenset({'Black'}), items_add=frozenset({'10-17'}), confidence=0.29310344827586204, lift=1.456635318704284)]),\n",
              " RelationRecord(items=frozenset({'18-24', 'Black'}), support=0.057926829268292686, ordered_statistics=[OrderedStatistic(items_base=frozenset(), items_add=frozenset({'18-24', 'Black'}), confidence=0.057926829268292686, lift=1.0), OrderedStatistic(items_base=frozenset({'18-24'}), items_add=frozenset({'Black'}), confidence=0.2878787878787879, lift=1.6280041797283178), OrderedStatistic(items_base=frozenset({'Black'}), items_add=frozenset({'18-24'}), confidence=0.32758620689655177, lift=1.6280041797283178)]),\n",
              " RelationRecord(items=frozenset({'Black', 'Article for use in theft'}), support=0.14939024390243902, ordered_statistics=[OrderedStatistic(items_base=frozenset(), items_add=frozenset({'Black', 'Article for use in theft'}), confidence=0.14939024390243902, lift=1.0), OrderedStatistic(items_base=frozenset({'Article for use in theft'}), items_add=frozenset({'Black'}), confidence=0.17437722419928825, lift=0.9861332678856302), OrderedStatistic(items_base=frozenset({'Black'}), items_add=frozenset({'Article for use in theft'}), confidence=0.8448275862068966, lift=0.9861332678856302)]),\n",
              " RelationRecord(items=frozenset({'Black', 'Male'}), support=0.17073170731707318, ordered_statistics=[OrderedStatistic(items_base=frozenset(), items_add=frozenset({'Black', 'Male'}), confidence=0.17073170731707318, lift=1.0), OrderedStatistic(items_base=frozenset({'Black'}), items_add=frozenset({'Male'}), confidence=0.9655172413793105, lift=1.119044717923724), OrderedStatistic(items_base=frozenset({'Male'}), items_add=frozenset({'Black'}), confidence=0.19787985865724383, lift=1.1190447179237237)]),\n",
              " RelationRecord(items=frozenset({'Other ethnic group - Not stated', 'Black'}), support=0.07317073170731707, ordered_statistics=[OrderedStatistic(items_base=frozenset(), items_add=frozenset({'Other ethnic group - Not stated', 'Black'}), confidence=0.07317073170731707, lift=1.0), OrderedStatistic(items_base=frozenset({'Black'}), items_add=frozenset({'Other ethnic group - Not stated'}), confidence=0.41379310344827586, lift=1.0440318302387268), OrderedStatistic(items_base=frozenset({'Other ethnic group - Not stated'}), items_add=frozenset({'Black'}), confidence=0.1846153846153846, lift=1.0440318302387268)]),\n",
              " RelationRecord(items=frozenset({'Black', '10-17', 'Male'}), support=0.051829268292682924, ordered_statistics=[OrderedStatistic(items_base=frozenset(), items_add=frozenset({'Black', '10-17', 'Male'}), confidence=0.051829268292682924, lift=1.0), OrderedStatistic(items_base=frozenset({'10-17'}), items_add=frozenset({'Black', 'Male'}), confidence=0.25757575757575757, lift=1.5086580086580086), OrderedStatistic(items_base=frozenset({'Black'}), items_add=frozenset({'10-17', 'Male'}), confidence=0.29310344827586204, lift=1.4790450928381962), OrderedStatistic(items_base=frozenset({'Male'}), items_add=frozenset({'Black', '10-17'}), confidence=0.06007067137809187, lift=1.1590106007067138), OrderedStatistic(items_base=frozenset({'Black', '10-17'}), items_add=frozenset({'Male'}), confidence=1.0, lift=1.1590106007067138), OrderedStatistic(items_base=frozenset({'10-17', 'Male'}), items_add=frozenset({'Black'}), confidence=0.2615384615384615, lift=1.4790450928381962), OrderedStatistic(items_base=frozenset({'Black', 'Male'}), items_add=frozenset({'10-17'}), confidence=0.30357142857142855, lift=1.5086580086580084)]),\n",
              " RelationRecord(items=frozenset({'18-24', 'Black', 'Male'}), support=0.054878048780487805, ordered_statistics=[OrderedStatistic(items_base=frozenset(), items_add=frozenset({'18-24', 'Black', 'Male'}), confidence=0.054878048780487805, lift=1.0), OrderedStatistic(items_base=frozenset({'18-24'}), items_add=frozenset({'Black', 'Male'}), confidence=0.2727272727272727, lift=1.5974025974025972), OrderedStatistic(items_base=frozenset({'Black'}), items_add=frozenset({'18-24', 'Male'}), confidence=0.3103448275862069, lift=1.696551724137931), OrderedStatistic(items_base=frozenset({'Male'}), items_add=frozenset({'18-24', 'Black'}), confidence=0.06360424028268552, lift=1.0980100427747816), OrderedStatistic(items_base=frozenset({'18-24', 'Black'}), items_add=frozenset({'Male'}), confidence=0.9473684210526315, lift=1.0980100427747814), OrderedStatistic(items_base=frozenset({'18-24', 'Male'}), items_add=frozenset({'Black'}), confidence=0.3, lift=1.696551724137931), OrderedStatistic(items_base=frozenset({'Black', 'Male'}), items_add=frozenset({'18-24'}), confidence=0.3214285714285714, lift=1.5974025974025972)]),\n",
              " RelationRecord(items=frozenset({'Black', 'Article for use in theft', 'Male'}), support=0.14329268292682926, ordered_statistics=[OrderedStatistic(items_base=frozenset(), items_add=frozenset({'Black', 'Article for use in theft', 'Male'}), confidence=0.14329268292682926, lift=1.0), OrderedStatistic(items_base=frozenset({'Article for use in theft'}), items_add=frozenset({'Black', 'Male'}), confidence=0.16725978647686832, lift=0.9796644636502286), OrderedStatistic(items_base=frozenset({'Black'}), items_add=frozenset({'Article for use in theft', 'Male'}), confidence=0.8103448275862069, lift=1.0848698099929626), OrderedStatistic(items_base=frozenset({'Male'}), items_add=frozenset({'Black', 'Article for use in theft'}), confidence=0.16607773851590105, lift=1.1117040455758274), OrderedStatistic(items_base=frozenset({'Black', 'Article for use in theft'}), items_add=frozenset({'Male'}), confidence=0.9591836734693877, lift=1.1117040455758274), OrderedStatistic(items_base=frozenset({'Article for use in theft', 'Male'}), items_add=frozenset({'Black'}), confidence=0.19183673469387755, lift=1.0848698099929628), OrderedStatistic(items_base=frozenset({'Black', 'Male'}), items_add=frozenset({'Article for use in theft'}), confidence=0.8392857142857142, lift=0.9796644636502286)]),\n",
              " RelationRecord(items=frozenset({'Other ethnic group - Not stated', 'Black', 'Article for use in theft'}), support=0.06402439024390244, ordered_statistics=[OrderedStatistic(items_base=frozenset(), items_add=frozenset({'Other ethnic group - Not stated', 'Black', 'Article for use in theft'}), confidence=0.06402439024390244, lift=1.0), OrderedStatistic(items_base=frozenset({'Article for use in theft'}), items_add=frozenset({'Other ethnic group - Not stated', 'Black'}), confidence=0.07473309608540926, lift=1.02135231316726), OrderedStatistic(items_base=frozenset({'Black'}), items_add=frozenset({'Other ethnic group - Not stated', 'Article for use in theft'}), confidence=0.3620689655172414, lift=1.069897483690587), OrderedStatistic(items_base=frozenset({'Other ethnic group - Not stated'}), items_add=frozenset({'Black', 'Article for use in theft'}), confidence=0.16153846153846155, lift=1.0813186813186815), OrderedStatistic(items_base=frozenset({'Black', 'Article for use in theft'}), items_add=frozenset({'Other ethnic group - Not stated'}), confidence=0.4285714285714286, lift=1.0813186813186813), OrderedStatistic(items_base=frozenset({'Other ethnic group - Not stated', 'Article for use in theft'}), items_add=frozenset({'Black'}), confidence=0.18918918918918917, lift=1.069897483690587), OrderedStatistic(items_base=frozenset({'Other ethnic group - Not stated', 'Black'}), items_add=frozenset({'Article for use in theft'}), confidence=0.8750000000000001, lift=1.02135231316726)]),\n",
              " RelationRecord(items=frozenset({'Other ethnic group - Not stated', 'Black', 'Male'}), support=0.07317073170731707, ordered_statistics=[OrderedStatistic(items_base=frozenset(), items_add=frozenset({'Other ethnic group - Not stated', 'Black', 'Male'}), confidence=0.07317073170731707, lift=1.0), OrderedStatistic(items_base=frozenset({'Black'}), items_add=frozenset({'Other ethnic group - Not stated', 'Male'}), confidence=0.41379310344827586, lift=1.1600353669319188), OrderedStatistic(items_base=frozenset({'Male'}), items_add=frozenset({'Other ethnic group - Not stated', 'Black'}), confidence=0.08480565371024734, lift=1.1590106007067138), OrderedStatistic(items_base=frozenset({'Other ethnic group - Not stated'}), items_add=frozenset({'Black', 'Male'}), confidence=0.1846153846153846, lift=1.081318681318681), OrderedStatistic(items_base=frozenset({'Black', 'Male'}), items_add=frozenset({'Other ethnic group - Not stated'}), confidence=0.4285714285714285, lift=1.081318681318681), OrderedStatistic(items_base=frozenset({'Other ethnic group - Not stated', 'Black'}), items_add=frozenset({'Male'}), confidence=1.0, lift=1.1590106007067138), OrderedStatistic(items_base=frozenset({'Other ethnic group - Not stated', 'Male'}), items_add=frozenset({'Black'}), confidence=0.20512820512820512, lift=1.1600353669319188)]),\n",
              " RelationRecord(items=frozenset({'Other ethnic group - Not stated', 'Black', 'Article for use in theft', 'Male'}), support=0.06402439024390244, ordered_statistics=[OrderedStatistic(items_base=frozenset(), items_add=frozenset({'Other ethnic group - Not stated', 'Black', 'Article for use in theft', 'Male'}), confidence=0.06402439024390244, lift=1.0), OrderedStatistic(items_base=frozenset({'Article for use in theft'}), items_add=frozenset({'Other ethnic group - Not stated', 'Black', 'Male'}), confidence=0.07473309608540926, lift=1.02135231316726), OrderedStatistic(items_base=frozenset({'Black'}), items_add=frozenset({'Other ethnic group - Not stated', 'Article for use in theft', 'Male'}), confidence=0.3620689655172414, lift=1.1758279276203483), OrderedStatistic(items_base=frozenset({'Male'}), items_add=frozenset({'Other ethnic group - Not stated', 'Black', 'Article for use in theft'}), confidence=0.07420494699646643, lift=1.1590106007067138), OrderedStatistic(items_base=frozenset({'Other ethnic group - Not stated'}), items_add=frozenset({'Black', 'Article for use in theft', 'Male'}), confidence=0.16153846153846155, lift=1.1273322422258594), OrderedStatistic(items_base=frozenset({'Black', 'Article for use in theft'}), items_add=frozenset({'Other ethnic group - Not stated', 'Male'}), confidence=0.4285714285714286, lift=1.2014652014652016), OrderedStatistic(items_base=frozenset({'Article for use in theft', 'Male'}), items_add=frozenset({'Other ethnic group - Not stated', 'Black'}), confidence=0.08571428571428572, lift=1.1714285714285715), OrderedStatistic(items_base=frozenset({'Other ethnic group - Not stated', 'Article for use in theft'}), items_add=frozenset({'Black', 'Male'}), confidence=0.18918918918918917, lift=1.108108108108108), OrderedStatistic(items_base=frozenset({'Black', 'Male'}), items_add=frozenset({'Other ethnic group - Not stated', 'Article for use in theft'}), confidence=0.375, lift=1.1081081081081081), OrderedStatistic(items_base=frozenset({'Other ethnic group - Not stated', 'Black'}), items_add=frozenset({'Article for use in theft', 'Male'}), confidence=0.8750000000000001, lift=1.1714285714285715), OrderedStatistic(items_base=frozenset({'Other ethnic group - Not stated', 'Male'}), items_add=frozenset({'Black', 'Article for use in theft'}), confidence=0.1794871794871795, lift=1.2014652014652014), OrderedStatistic(items_base=frozenset({'Black', 'Article for use in theft', 'Male'}), items_add=frozenset({'Other ethnic group - Not stated'}), confidence=0.4468085106382979, lift=1.1273322422258594), OrderedStatistic(items_base=frozenset({'Other ethnic group - Not stated', 'Black', 'Article for use in theft'}), items_add=frozenset({'Male'}), confidence=1.0, lift=1.1590106007067138), OrderedStatistic(items_base=frozenset({'Other ethnic group - Not stated', 'Article for use in theft', 'Male'}), items_add=frozenset({'Black'}), confidence=0.20792079207920794, lift=1.1758279276203485), OrderedStatistic(items_base=frozenset({'Other ethnic group - Not stated', 'Black', 'Male'}), items_add=frozenset({'Article for use in theft'}), confidence=0.8750000000000001, lift=1.02135231316726)])]"
            ]
          },
          "metadata": {},
          "execution_count": 104
        }
      ]
    },
    {
      "cell_type": "code",
      "source": [
        "for i,rule in enumerate(police_black):\n",
        "  print(i,rule)"
      ],
      "metadata": {
        "id": "nd6PlxthGAkP",
        "outputId": "3ea11179-5198-4181-f7e4-46299e386dfc",
        "colab": {
          "base_uri": "https://localhost:8080/"
        }
      },
      "execution_count": 107,
      "outputs": [
        {
          "output_type": "stream",
          "name": "stdout",
          "text": [
            "0 RelationRecord(items=frozenset({'Black'}), support=0.17682926829268292, ordered_statistics=[OrderedStatistic(items_base=frozenset(), items_add=frozenset({'Black'}), confidence=0.17682926829268292, lift=1.0)])\n",
            "1 RelationRecord(items=frozenset({'Black', '10-17'}), support=0.051829268292682924, ordered_statistics=[OrderedStatistic(items_base=frozenset(), items_add=frozenset({'Black', '10-17'}), confidence=0.051829268292682924, lift=1.0), OrderedStatistic(items_base=frozenset({'10-17'}), items_add=frozenset({'Black'}), confidence=0.25757575757575757, lift=1.4566353187042842), OrderedStatistic(items_base=frozenset({'Black'}), items_add=frozenset({'10-17'}), confidence=0.29310344827586204, lift=1.456635318704284)])\n",
            "2 RelationRecord(items=frozenset({'18-24', 'Black'}), support=0.057926829268292686, ordered_statistics=[OrderedStatistic(items_base=frozenset(), items_add=frozenset({'18-24', 'Black'}), confidence=0.057926829268292686, lift=1.0), OrderedStatistic(items_base=frozenset({'18-24'}), items_add=frozenset({'Black'}), confidence=0.2878787878787879, lift=1.6280041797283178), OrderedStatistic(items_base=frozenset({'Black'}), items_add=frozenset({'18-24'}), confidence=0.32758620689655177, lift=1.6280041797283178)])\n",
            "3 RelationRecord(items=frozenset({'Black', 'Article for use in theft'}), support=0.14939024390243902, ordered_statistics=[OrderedStatistic(items_base=frozenset(), items_add=frozenset({'Black', 'Article for use in theft'}), confidence=0.14939024390243902, lift=1.0), OrderedStatistic(items_base=frozenset({'Article for use in theft'}), items_add=frozenset({'Black'}), confidence=0.17437722419928825, lift=0.9861332678856302), OrderedStatistic(items_base=frozenset({'Black'}), items_add=frozenset({'Article for use in theft'}), confidence=0.8448275862068966, lift=0.9861332678856302)])\n",
            "4 RelationRecord(items=frozenset({'Black', 'Male'}), support=0.17073170731707318, ordered_statistics=[OrderedStatistic(items_base=frozenset(), items_add=frozenset({'Black', 'Male'}), confidence=0.17073170731707318, lift=1.0), OrderedStatistic(items_base=frozenset({'Black'}), items_add=frozenset({'Male'}), confidence=0.9655172413793105, lift=1.119044717923724), OrderedStatistic(items_base=frozenset({'Male'}), items_add=frozenset({'Black'}), confidence=0.19787985865724383, lift=1.1190447179237237)])\n",
            "5 RelationRecord(items=frozenset({'Other ethnic group - Not stated', 'Black'}), support=0.07317073170731707, ordered_statistics=[OrderedStatistic(items_base=frozenset(), items_add=frozenset({'Other ethnic group - Not stated', 'Black'}), confidence=0.07317073170731707, lift=1.0), OrderedStatistic(items_base=frozenset({'Black'}), items_add=frozenset({'Other ethnic group - Not stated'}), confidence=0.41379310344827586, lift=1.0440318302387268), OrderedStatistic(items_base=frozenset({'Other ethnic group - Not stated'}), items_add=frozenset({'Black'}), confidence=0.1846153846153846, lift=1.0440318302387268)])\n",
            "6 RelationRecord(items=frozenset({'Black', '10-17', 'Male'}), support=0.051829268292682924, ordered_statistics=[OrderedStatistic(items_base=frozenset(), items_add=frozenset({'Black', '10-17', 'Male'}), confidence=0.051829268292682924, lift=1.0), OrderedStatistic(items_base=frozenset({'10-17'}), items_add=frozenset({'Black', 'Male'}), confidence=0.25757575757575757, lift=1.5086580086580086), OrderedStatistic(items_base=frozenset({'Black'}), items_add=frozenset({'10-17', 'Male'}), confidence=0.29310344827586204, lift=1.4790450928381962), OrderedStatistic(items_base=frozenset({'Male'}), items_add=frozenset({'Black', '10-17'}), confidence=0.06007067137809187, lift=1.1590106007067138), OrderedStatistic(items_base=frozenset({'Black', '10-17'}), items_add=frozenset({'Male'}), confidence=1.0, lift=1.1590106007067138), OrderedStatistic(items_base=frozenset({'10-17', 'Male'}), items_add=frozenset({'Black'}), confidence=0.2615384615384615, lift=1.4790450928381962), OrderedStatistic(items_base=frozenset({'Black', 'Male'}), items_add=frozenset({'10-17'}), confidence=0.30357142857142855, lift=1.5086580086580084)])\n",
            "7 RelationRecord(items=frozenset({'18-24', 'Black', 'Male'}), support=0.054878048780487805, ordered_statistics=[OrderedStatistic(items_base=frozenset(), items_add=frozenset({'18-24', 'Black', 'Male'}), confidence=0.054878048780487805, lift=1.0), OrderedStatistic(items_base=frozenset({'18-24'}), items_add=frozenset({'Black', 'Male'}), confidence=0.2727272727272727, lift=1.5974025974025972), OrderedStatistic(items_base=frozenset({'Black'}), items_add=frozenset({'18-24', 'Male'}), confidence=0.3103448275862069, lift=1.696551724137931), OrderedStatistic(items_base=frozenset({'Male'}), items_add=frozenset({'18-24', 'Black'}), confidence=0.06360424028268552, lift=1.0980100427747816), OrderedStatistic(items_base=frozenset({'18-24', 'Black'}), items_add=frozenset({'Male'}), confidence=0.9473684210526315, lift=1.0980100427747814), OrderedStatistic(items_base=frozenset({'18-24', 'Male'}), items_add=frozenset({'Black'}), confidence=0.3, lift=1.696551724137931), OrderedStatistic(items_base=frozenset({'Black', 'Male'}), items_add=frozenset({'18-24'}), confidence=0.3214285714285714, lift=1.5974025974025972)])\n",
            "8 RelationRecord(items=frozenset({'Black', 'Article for use in theft', 'Male'}), support=0.14329268292682926, ordered_statistics=[OrderedStatistic(items_base=frozenset(), items_add=frozenset({'Black', 'Article for use in theft', 'Male'}), confidence=0.14329268292682926, lift=1.0), OrderedStatistic(items_base=frozenset({'Article for use in theft'}), items_add=frozenset({'Black', 'Male'}), confidence=0.16725978647686832, lift=0.9796644636502286), OrderedStatistic(items_base=frozenset({'Black'}), items_add=frozenset({'Article for use in theft', 'Male'}), confidence=0.8103448275862069, lift=1.0848698099929626), OrderedStatistic(items_base=frozenset({'Male'}), items_add=frozenset({'Black', 'Article for use in theft'}), confidence=0.16607773851590105, lift=1.1117040455758274), OrderedStatistic(items_base=frozenset({'Black', 'Article for use in theft'}), items_add=frozenset({'Male'}), confidence=0.9591836734693877, lift=1.1117040455758274), OrderedStatistic(items_base=frozenset({'Article for use in theft', 'Male'}), items_add=frozenset({'Black'}), confidence=0.19183673469387755, lift=1.0848698099929628), OrderedStatistic(items_base=frozenset({'Black', 'Male'}), items_add=frozenset({'Article for use in theft'}), confidence=0.8392857142857142, lift=0.9796644636502286)])\n",
            "9 RelationRecord(items=frozenset({'Other ethnic group - Not stated', 'Black', 'Article for use in theft'}), support=0.06402439024390244, ordered_statistics=[OrderedStatistic(items_base=frozenset(), items_add=frozenset({'Other ethnic group - Not stated', 'Black', 'Article for use in theft'}), confidence=0.06402439024390244, lift=1.0), OrderedStatistic(items_base=frozenset({'Article for use in theft'}), items_add=frozenset({'Other ethnic group - Not stated', 'Black'}), confidence=0.07473309608540926, lift=1.02135231316726), OrderedStatistic(items_base=frozenset({'Black'}), items_add=frozenset({'Other ethnic group - Not stated', 'Article for use in theft'}), confidence=0.3620689655172414, lift=1.069897483690587), OrderedStatistic(items_base=frozenset({'Other ethnic group - Not stated'}), items_add=frozenset({'Black', 'Article for use in theft'}), confidence=0.16153846153846155, lift=1.0813186813186815), OrderedStatistic(items_base=frozenset({'Black', 'Article for use in theft'}), items_add=frozenset({'Other ethnic group - Not stated'}), confidence=0.4285714285714286, lift=1.0813186813186813), OrderedStatistic(items_base=frozenset({'Other ethnic group - Not stated', 'Article for use in theft'}), items_add=frozenset({'Black'}), confidence=0.18918918918918917, lift=1.069897483690587), OrderedStatistic(items_base=frozenset({'Other ethnic group - Not stated', 'Black'}), items_add=frozenset({'Article for use in theft'}), confidence=0.8750000000000001, lift=1.02135231316726)])\n",
            "10 RelationRecord(items=frozenset({'Other ethnic group - Not stated', 'Black', 'Male'}), support=0.07317073170731707, ordered_statistics=[OrderedStatistic(items_base=frozenset(), items_add=frozenset({'Other ethnic group - Not stated', 'Black', 'Male'}), confidence=0.07317073170731707, lift=1.0), OrderedStatistic(items_base=frozenset({'Black'}), items_add=frozenset({'Other ethnic group - Not stated', 'Male'}), confidence=0.41379310344827586, lift=1.1600353669319188), OrderedStatistic(items_base=frozenset({'Male'}), items_add=frozenset({'Other ethnic group - Not stated', 'Black'}), confidence=0.08480565371024734, lift=1.1590106007067138), OrderedStatistic(items_base=frozenset({'Other ethnic group - Not stated'}), items_add=frozenset({'Black', 'Male'}), confidence=0.1846153846153846, lift=1.081318681318681), OrderedStatistic(items_base=frozenset({'Black', 'Male'}), items_add=frozenset({'Other ethnic group - Not stated'}), confidence=0.4285714285714285, lift=1.081318681318681), OrderedStatistic(items_base=frozenset({'Other ethnic group - Not stated', 'Black'}), items_add=frozenset({'Male'}), confidence=1.0, lift=1.1590106007067138), OrderedStatistic(items_base=frozenset({'Other ethnic group - Not stated', 'Male'}), items_add=frozenset({'Black'}), confidence=0.20512820512820512, lift=1.1600353669319188)])\n",
            "11 RelationRecord(items=frozenset({'Other ethnic group - Not stated', 'Black', 'Article for use in theft', 'Male'}), support=0.06402439024390244, ordered_statistics=[OrderedStatistic(items_base=frozenset(), items_add=frozenset({'Other ethnic group - Not stated', 'Black', 'Article for use in theft', 'Male'}), confidence=0.06402439024390244, lift=1.0), OrderedStatistic(items_base=frozenset({'Article for use in theft'}), items_add=frozenset({'Other ethnic group - Not stated', 'Black', 'Male'}), confidence=0.07473309608540926, lift=1.02135231316726), OrderedStatistic(items_base=frozenset({'Black'}), items_add=frozenset({'Other ethnic group - Not stated', 'Article for use in theft', 'Male'}), confidence=0.3620689655172414, lift=1.1758279276203483), OrderedStatistic(items_base=frozenset({'Male'}), items_add=frozenset({'Other ethnic group - Not stated', 'Black', 'Article for use in theft'}), confidence=0.07420494699646643, lift=1.1590106007067138), OrderedStatistic(items_base=frozenset({'Other ethnic group - Not stated'}), items_add=frozenset({'Black', 'Article for use in theft', 'Male'}), confidence=0.16153846153846155, lift=1.1273322422258594), OrderedStatistic(items_base=frozenset({'Black', 'Article for use in theft'}), items_add=frozenset({'Other ethnic group - Not stated', 'Male'}), confidence=0.4285714285714286, lift=1.2014652014652016), OrderedStatistic(items_base=frozenset({'Article for use in theft', 'Male'}), items_add=frozenset({'Other ethnic group - Not stated', 'Black'}), confidence=0.08571428571428572, lift=1.1714285714285715), OrderedStatistic(items_base=frozenset({'Other ethnic group - Not stated', 'Article for use in theft'}), items_add=frozenset({'Black', 'Male'}), confidence=0.18918918918918917, lift=1.108108108108108), OrderedStatistic(items_base=frozenset({'Black', 'Male'}), items_add=frozenset({'Other ethnic group - Not stated', 'Article for use in theft'}), confidence=0.375, lift=1.1081081081081081), OrderedStatistic(items_base=frozenset({'Other ethnic group - Not stated', 'Black'}), items_add=frozenset({'Article for use in theft', 'Male'}), confidence=0.8750000000000001, lift=1.1714285714285715), OrderedStatistic(items_base=frozenset({'Other ethnic group - Not stated', 'Male'}), items_add=frozenset({'Black', 'Article for use in theft'}), confidence=0.1794871794871795, lift=1.2014652014652014), OrderedStatistic(items_base=frozenset({'Black', 'Article for use in theft', 'Male'}), items_add=frozenset({'Other ethnic group - Not stated'}), confidence=0.4468085106382979, lift=1.1273322422258594), OrderedStatistic(items_base=frozenset({'Other ethnic group - Not stated', 'Black', 'Article for use in theft'}), items_add=frozenset({'Male'}), confidence=1.0, lift=1.1590106007067138), OrderedStatistic(items_base=frozenset({'Other ethnic group - Not stated', 'Article for use in theft', 'Male'}), items_add=frozenset({'Black'}), confidence=0.20792079207920794, lift=1.1758279276203485), OrderedStatistic(items_base=frozenset({'Other ethnic group - Not stated', 'Black', 'Male'}), items_add=frozenset({'Article for use in theft'}), confidence=0.8750000000000001, lift=1.02135231316726)])\n"
          ]
        }
      ]
    },
    {
      "cell_type": "markdown",
      "source": [
        "<br> ใน Transaction ทั้้งหมด มี ตำรวจ Black ชอบจับ Article for use in theft 14.94%\n",
        "<br> มี ตำรวจ Black ชอบจับคนที่เป็นผู้ชาย 17%\n",
        "<br> **มี ตำรวจ Black ชอบจับคนที่เป็นผู้ชาย และมี Article for use in theft 14.3%**\n",
        "<br> Article for use in theft อุปกรณ์ที่ใช้ในการโจรกรรม"
      ],
      "metadata": {
        "id": "dF7l_057HZ10"
      }
    },
    {
      "cell_type": "code",
      "source": [
        "police_black[8]"
      ],
      "metadata": {
        "colab": {
          "base_uri": "https://localhost:8080/"
        },
        "id": "_C2Ifk0KFkaJ",
        "outputId": "736e4399-7240-4d34-8b2c-6081f5ab6121"
      },
      "execution_count": 109,
      "outputs": [
        {
          "output_type": "execute_result",
          "data": {
            "text/plain": [
              "RelationRecord(items=frozenset({'Black', 'Article for use in theft', 'Male'}), support=0.14329268292682926, ordered_statistics=[OrderedStatistic(items_base=frozenset(), items_add=frozenset({'Black', 'Article for use in theft', 'Male'}), confidence=0.14329268292682926, lift=1.0), OrderedStatistic(items_base=frozenset({'Article for use in theft'}), items_add=frozenset({'Black', 'Male'}), confidence=0.16725978647686832, lift=0.9796644636502286), OrderedStatistic(items_base=frozenset({'Black'}), items_add=frozenset({'Article for use in theft', 'Male'}), confidence=0.8103448275862069, lift=1.0848698099929626), OrderedStatistic(items_base=frozenset({'Male'}), items_add=frozenset({'Black', 'Article for use in theft'}), confidence=0.16607773851590105, lift=1.1117040455758274), OrderedStatistic(items_base=frozenset({'Black', 'Article for use in theft'}), items_add=frozenset({'Male'}), confidence=0.9591836734693877, lift=1.1117040455758274), OrderedStatistic(items_base=frozenset({'Article for use in theft', 'Male'}), items_add=frozenset({'Black'}), confidence=0.19183673469387755, lift=1.0848698099929628), OrderedStatistic(items_base=frozenset({'Black', 'Male'}), items_add=frozenset({'Article for use in theft'}), confidence=0.8392857142857142, lift=0.9796644636502286)])"
            ]
          },
          "metadata": {},
          "execution_count": 109
        }
      ]
    },
    {
      "cell_type": "code",
      "source": [
        "for v in police_black[8][2]:\n",
        "  print(v)"
      ],
      "metadata": {
        "id": "Q_H_hWi6G39I",
        "outputId": "5e4131e1-fd25-4420-f133-98a7043084c7",
        "colab": {
          "base_uri": "https://localhost:8080/"
        }
      },
      "execution_count": 111,
      "outputs": [
        {
          "output_type": "stream",
          "name": "stdout",
          "text": [
            "OrderedStatistic(items_base=frozenset(), items_add=frozenset({'Black', 'Article for use in theft', 'Male'}), confidence=0.14329268292682926, lift=1.0)\n",
            "OrderedStatistic(items_base=frozenset({'Article for use in theft'}), items_add=frozenset({'Black', 'Male'}), confidence=0.16725978647686832, lift=0.9796644636502286)\n",
            "OrderedStatistic(items_base=frozenset({'Black'}), items_add=frozenset({'Article for use in theft', 'Male'}), confidence=0.8103448275862069, lift=1.0848698099929626)\n",
            "OrderedStatistic(items_base=frozenset({'Male'}), items_add=frozenset({'Black', 'Article for use in theft'}), confidence=0.16607773851590105, lift=1.1117040455758274)\n",
            "OrderedStatistic(items_base=frozenset({'Black', 'Article for use in theft'}), items_add=frozenset({'Male'}), confidence=0.9591836734693877, lift=1.1117040455758274)\n",
            "OrderedStatistic(items_base=frozenset({'Article for use in theft', 'Male'}), items_add=frozenset({'Black'}), confidence=0.19183673469387755, lift=1.0848698099929628)\n",
            "OrderedStatistic(items_base=frozenset({'Black', 'Male'}), items_add=frozenset({'Article for use in theft'}), confidence=0.8392857142857142, lift=0.9796644636502286)\n"
          ]
        }
      ]
    },
    {
      "cell_type": "markdown",
      "source": [
        "(base = black)\n",
        "81% ของตำรวจ Black  มักจะเรียกค้นผู้ชายแล้วจะเจอว่า มีอุปกรณ์ที่ใช้ในการโจรกรรม"
      ],
      "metadata": {
        "id": "rGyMEuc8I6lB"
      }
    },
    {
      "cell_type": "markdown",
      "source": [
        "#หาว่า ช่วงอายุ วัยรุ่น 18-24 มีความสัมพันธ์กับอะไรบ้าง"
      ],
      "metadata": {
        "id": "N3OuJv2kJo9K"
      }
    },
    {
      "cell_type": "code",
      "source": [
        "teen = list()\n",
        "for result in list_apri:\n",
        "  if '18-24' in result[0]: #str(result[0])\n",
        "    teen.append(result)"
      ],
      "metadata": {
        "id": "h40Y3BTRId-X"
      },
      "execution_count": 112,
      "outputs": []
    },
    {
      "cell_type": "code",
      "source": [
        "len(teen)"
      ],
      "metadata": {
        "id": "T71Wk8s8KFrI",
        "outputId": "3060e8a7-0c61-41c2-fc46-4de07ff3a7f0",
        "colab": {
          "base_uri": "https://localhost:8080/"
        }
      },
      "execution_count": 114,
      "outputs": [
        {
          "output_type": "execute_result",
          "data": {
            "text/plain": [
              "20"
            ]
          },
          "metadata": {},
          "execution_count": 114
        }
      ]
    },
    {
      "cell_type": "code",
      "source": [
        "for i,rule in enumerate(teen):\n",
        "  print(i,rule)"
      ],
      "metadata": {
        "id": "fRCqCvHdKGJV",
        "outputId": "df71257e-09ba-409e-a004-6a7fb3fddcd3",
        "colab": {
          "base_uri": "https://localhost:8080/"
        }
      },
      "execution_count": 115,
      "outputs": [
        {
          "output_type": "stream",
          "name": "stdout",
          "text": [
            "0 RelationRecord(items=frozenset({'18-24'}), support=0.20121951219512196, ordered_statistics=[OrderedStatistic(items_base=frozenset(), items_add=frozenset({'18-24'}), confidence=0.20121951219512196, lift=1.0)])\n",
            "1 RelationRecord(items=frozenset({'18-24', 'Article for use in theft'}), support=0.1676829268292683, ordered_statistics=[OrderedStatistic(items_base=frozenset(), items_add=frozenset({'18-24', 'Article for use in theft'}), confidence=0.1676829268292683, lift=1.0), OrderedStatistic(items_base=frozenset({'18-24'}), items_add=frozenset({'Article for use in theft'}), confidence=0.8333333333333334, lift=0.9727164887307237), OrderedStatistic(items_base=frozenset({'Article for use in theft'}), items_add=frozenset({'18-24'}), confidence=0.19572953736654805, lift=0.9727164887307236)])\n",
            "2 RelationRecord(items=frozenset({'18-24', 'Black'}), support=0.057926829268292686, ordered_statistics=[OrderedStatistic(items_base=frozenset(), items_add=frozenset({'18-24', 'Black'}), confidence=0.057926829268292686, lift=1.0), OrderedStatistic(items_base=frozenset({'18-24'}), items_add=frozenset({'Black'}), confidence=0.2878787878787879, lift=1.6280041797283178), OrderedStatistic(items_base=frozenset({'Black'}), items_add=frozenset({'18-24'}), confidence=0.32758620689655177, lift=1.6280041797283178)])\n",
            "3 RelationRecord(items=frozenset({'18-24', 'Male'}), support=0.18292682926829268, ordered_statistics=[OrderedStatistic(items_base=frozenset(), items_add=frozenset({'18-24', 'Male'}), confidence=0.18292682926829268, lift=1.0), OrderedStatistic(items_base=frozenset({'18-24'}), items_add=frozenset({'Male'}), confidence=0.9090909090909091, lift=1.053646000642467), OrderedStatistic(items_base=frozenset({'Male'}), items_add=frozenset({'18-24'}), confidence=0.21201413427561838, lift=1.053646000642467)])\n",
            "4 RelationRecord(items=frozenset({'18-24', 'Other ethnic group - Not stated'}), support=0.07317073170731707, ordered_statistics=[OrderedStatistic(items_base=frozenset(), items_add=frozenset({'18-24', 'Other ethnic group - Not stated'}), confidence=0.07317073170731707, lift=1.0), OrderedStatistic(items_base=frozenset({'18-24'}), items_add=frozenset({'Other ethnic group - Not stated'}), confidence=0.3636363636363636, lift=0.9174825174825173), OrderedStatistic(items_base=frozenset({'Other ethnic group - Not stated'}), items_add=frozenset({'18-24'}), confidence=0.1846153846153846, lift=0.9174825174825173)])\n",
            "5 RelationRecord(items=frozenset({'18-24', 'White'}), support=0.10975609756097561, ordered_statistics=[OrderedStatistic(items_base=frozenset(), items_add=frozenset({'18-24', 'White'}), confidence=0.10975609756097561, lift=1.0), OrderedStatistic(items_base=frozenset({'18-24'}), items_add=frozenset({'White'}), confidence=0.5454545454545454, lift=0.7987012987012986), OrderedStatistic(items_base=frozenset({'White'}), items_add=frozenset({'18-24'}), confidence=0.1607142857142857, lift=0.7987012987012986)])\n",
            "6 RelationRecord(items=frozenset({'18-24', 'White - English/Welsh/Scottish/Northern Irish/British'}), support=0.06707317073170732, ordered_statistics=[OrderedStatistic(items_base=frozenset(), items_add=frozenset({'18-24', 'White - English/Welsh/Scottish/Northern Irish/British'}), confidence=0.06707317073170732, lift=1.0), OrderedStatistic(items_base=frozenset({'18-24'}), items_add=frozenset({'White - English/Welsh/Scottish/Northern Irish/British'}), confidence=0.3333333333333333, lift=0.8475452196382428), OrderedStatistic(items_base=frozenset({'White - English/Welsh/Scottish/Northern Irish/British'}), items_add=frozenset({'18-24'}), confidence=0.17054263565891473, lift=0.8475452196382428)])\n",
            "7 RelationRecord(items=frozenset({'18-24', 'Article for use in theft', 'Male'}), support=0.1524390243902439, ordered_statistics=[OrderedStatistic(items_base=frozenset(), items_add=frozenset({'18-24', 'Article for use in theft', 'Male'}), confidence=0.1524390243902439, lift=1.0), OrderedStatistic(items_base=frozenset({'18-24'}), items_add=frozenset({'Article for use in theft', 'Male'}), confidence=0.7575757575757575, lift=1.0142238713667284), OrderedStatistic(items_base=frozenset({'Article for use in theft'}), items_add=frozenset({'18-24', 'Male'}), confidence=0.17793594306049823, lift=0.9727164887307237), OrderedStatistic(items_base=frozenset({'Male'}), items_add=frozenset({'18-24', 'Article for use in theft'}), confidence=0.17667844522968199, lift=1.053646000642467), OrderedStatistic(items_base=frozenset({'18-24', 'Article for use in theft'}), items_add=frozenset({'Male'}), confidence=0.9090909090909091, lift=1.053646000642467), OrderedStatistic(items_base=frozenset({'18-24', 'Male'}), items_add=frozenset({'Article for use in theft'}), confidence=0.8333333333333334, lift=0.9727164887307237), OrderedStatistic(items_base=frozenset({'Article for use in theft', 'Male'}), items_add=frozenset({'18-24'}), confidence=0.20408163265306123, lift=1.0142238713667284)])\n",
            "8 RelationRecord(items=frozenset({'18-24', 'Other ethnic group - Not stated', 'Article for use in theft'}), support=0.06402439024390244, ordered_statistics=[OrderedStatistic(items_base=frozenset(), items_add=frozenset({'18-24', 'Other ethnic group - Not stated', 'Article for use in theft'}), confidence=0.06402439024390244, lift=1.0), OrderedStatistic(items_base=frozenset({'18-24'}), items_add=frozenset({'Other ethnic group - Not stated', 'Article for use in theft'}), confidence=0.3181818181818182, lift=0.9402129402129401), OrderedStatistic(items_base=frozenset({'Article for use in theft'}), items_add=frozenset({'18-24', 'Other ethnic group - Not stated'}), confidence=0.07473309608540926, lift=1.02135231316726), OrderedStatistic(items_base=frozenset({'Other ethnic group - Not stated'}), items_add=frozenset({'18-24', 'Article for use in theft'}), confidence=0.16153846153846155, lift=0.9633566433566434), OrderedStatistic(items_base=frozenset({'18-24', 'Article for use in theft'}), items_add=frozenset({'Other ethnic group - Not stated'}), confidence=0.3818181818181818, lift=0.9633566433566432), OrderedStatistic(items_base=frozenset({'18-24', 'Other ethnic group - Not stated'}), items_add=frozenset({'Article for use in theft'}), confidence=0.8750000000000001, lift=1.02135231316726), OrderedStatistic(items_base=frozenset({'Other ethnic group - Not stated', 'Article for use in theft'}), items_add=frozenset({'18-24'}), confidence=0.18918918918918917, lift=0.9402129402129401)])\n",
            "9 RelationRecord(items=frozenset({'18-24', 'White', 'Article for use in theft'}), support=0.09146341463414634, ordered_statistics=[OrderedStatistic(items_base=frozenset(), items_add=frozenset({'18-24', 'White', 'Article for use in theft'}), confidence=0.09146341463414634, lift=1.0), OrderedStatistic(items_base=frozenset({'18-24'}), items_add=frozenset({'White', 'Article for use in theft'}), confidence=0.45454545454545453, lift=0.7765151515151515), OrderedStatistic(items_base=frozenset({'Article for use in theft'}), items_add=frozenset({'18-24', 'White'}), confidence=0.10676156583629894, lift=0.9727164887307236), OrderedStatistic(items_base=frozenset({'White'}), items_add=frozenset({'18-24', 'Article for use in theft'}), confidence=0.13392857142857142, lift=0.7987012987012986), OrderedStatistic(items_base=frozenset({'18-24', 'Article for use in theft'}), items_add=frozenset({'White'}), confidence=0.5454545454545454, lift=0.7987012987012986), OrderedStatistic(items_base=frozenset({'18-24', 'White'}), items_add=frozenset({'Article for use in theft'}), confidence=0.8333333333333333, lift=0.9727164887307236), OrderedStatistic(items_base=frozenset({'White', 'Article for use in theft'}), items_add=frozenset({'18-24'}), confidence=0.15625, lift=0.7765151515151515)])\n",
            "10 RelationRecord(items=frozenset({'18-24', 'White - English/Welsh/Scottish/Northern Irish/British', 'Article for use in theft'}), support=0.051829268292682924, ordered_statistics=[OrderedStatistic(items_base=frozenset(), items_add=frozenset({'18-24', 'Article for use in theft', 'White - English/Welsh/Scottish/Northern Irish/British'}), confidence=0.051829268292682924, lift=1.0), OrderedStatistic(items_base=frozenset({'18-24'}), items_add=frozenset({'Article for use in theft', 'White - English/Welsh/Scottish/Northern Irish/British'}), confidence=0.25757575757575757, lift=0.7476535264145884), OrderedStatistic(items_base=frozenset({'Article for use in theft'}), items_add=frozenset({'18-24', 'White - English/Welsh/Scottish/Northern Irish/British'}), confidence=0.060498220640569395, lift=0.9019734713684892), OrderedStatistic(items_base=frozenset({'White - English/Welsh/Scottish/Northern Irish/British'}), items_add=frozenset({'18-24', 'Article for use in theft'}), confidence=0.1317829457364341, lift=0.785905567300916), OrderedStatistic(items_base=frozenset({'18-24', 'Article for use in theft'}), items_add=frozenset({'White - English/Welsh/Scottish/Northern Irish/British'}), confidence=0.3090909090909091, lift=0.7859055673009161), OrderedStatistic(items_base=frozenset({'18-24', 'White - English/Welsh/Scottish/Northern Irish/British'}), items_add=frozenset({'Article for use in theft'}), confidence=0.7727272727272726, lift=0.901973471368489), OrderedStatistic(items_base=frozenset({'White - English/Welsh/Scottish/Northern Irish/British', 'Article for use in theft'}), items_add=frozenset({'18-24'}), confidence=0.1504424778761062, lift=0.7476535264145884)])\n",
            "11 RelationRecord(items=frozenset({'18-24', 'Black', 'Male'}), support=0.054878048780487805, ordered_statistics=[OrderedStatistic(items_base=frozenset(), items_add=frozenset({'18-24', 'Black', 'Male'}), confidence=0.054878048780487805, lift=1.0), OrderedStatistic(items_base=frozenset({'18-24'}), items_add=frozenset({'Black', 'Male'}), confidence=0.2727272727272727, lift=1.5974025974025972), OrderedStatistic(items_base=frozenset({'Black'}), items_add=frozenset({'18-24', 'Male'}), confidence=0.3103448275862069, lift=1.696551724137931), OrderedStatistic(items_base=frozenset({'Male'}), items_add=frozenset({'18-24', 'Black'}), confidence=0.06360424028268552, lift=1.0980100427747816), OrderedStatistic(items_base=frozenset({'18-24', 'Black'}), items_add=frozenset({'Male'}), confidence=0.9473684210526315, lift=1.0980100427747814), OrderedStatistic(items_base=frozenset({'18-24', 'Male'}), items_add=frozenset({'Black'}), confidence=0.3, lift=1.696551724137931), OrderedStatistic(items_base=frozenset({'Black', 'Male'}), items_add=frozenset({'18-24'}), confidence=0.3214285714285714, lift=1.5974025974025972)])\n",
            "12 RelationRecord(items=frozenset({'18-24', 'Other ethnic group - Not stated', 'Male'}), support=0.06402439024390244, ordered_statistics=[OrderedStatistic(items_base=frozenset(), items_add=frozenset({'18-24', 'Other ethnic group - Not stated', 'Male'}), confidence=0.06402439024390244, lift=1.0), OrderedStatistic(items_base=frozenset({'18-24'}), items_add=frozenset({'Other ethnic group - Not stated', 'Male'}), confidence=0.3181818181818182, lift=0.891996891996892), OrderedStatistic(items_base=frozenset({'Male'}), items_add=frozenset({'18-24', 'Other ethnic group - Not stated'}), confidence=0.07420494699646643, lift=1.0141342756183747), OrderedStatistic(items_base=frozenset({'Other ethnic group - Not stated'}), items_add=frozenset({'18-24', 'Male'}), confidence=0.16153846153846155, lift=0.8830769230769231), OrderedStatistic(items_base=frozenset({'18-24', 'Male'}), items_add=frozenset({'Other ethnic group - Not stated'}), confidence=0.35000000000000003, lift=0.8830769230769231), OrderedStatistic(items_base=frozenset({'18-24', 'Other ethnic group - Not stated'}), items_add=frozenset({'Male'}), confidence=0.8750000000000001, lift=1.0141342756183747), OrderedStatistic(items_base=frozenset({'Other ethnic group - Not stated', 'Male'}), items_add=frozenset({'18-24'}), confidence=0.1794871794871795, lift=0.8919968919968919)])\n",
            "13 RelationRecord(items=frozenset({'18-24', 'White', 'Male'}), support=0.0975609756097561, ordered_statistics=[OrderedStatistic(items_base=frozenset(), items_add=frozenset({'18-24', 'White', 'Male'}), confidence=0.0975609756097561, lift=1.0), OrderedStatistic(items_base=frozenset({'18-24'}), items_add=frozenset({'White', 'Male'}), confidence=0.48484848484848486, lift=0.8690180493459182), OrderedStatistic(items_base=frozenset({'Male'}), items_add=frozenset({'18-24', 'White'}), confidence=0.11307420494699646, lift=1.0302316450726345), OrderedStatistic(items_base=frozenset({'White'}), items_add=frozenset({'18-24', 'Male'}), confidence=0.14285714285714285, lift=0.780952380952381), OrderedStatistic(items_base=frozenset({'18-24', 'Male'}), items_add=frozenset({'White'}), confidence=0.5333333333333333, lift=0.7809523809523808), OrderedStatistic(items_base=frozenset({'18-24', 'White'}), items_add=frozenset({'Male'}), confidence=0.888888888888889, lift=1.0302316450726345), OrderedStatistic(items_base=frozenset({'White', 'Male'}), items_add=frozenset({'18-24'}), confidence=0.17486338797814208, lift=0.8690180493459182)])\n",
            "14 RelationRecord(items=frozenset({'18-24', 'White - English/Welsh/Scottish/Northern Irish/British', 'Male'}), support=0.06097560975609756, ordered_statistics=[OrderedStatistic(items_base=frozenset(), items_add=frozenset({'18-24', 'White - English/Welsh/Scottish/Northern Irish/British', 'Male'}), confidence=0.06097560975609756, lift=1.0), OrderedStatistic(items_base=frozenset({'18-24'}), items_add=frozenset({'White - English/Welsh/Scottish/Northern Irish/British', 'Male'}), confidence=0.303030303030303, lift=0.974450386215092), OrderedStatistic(items_base=frozenset({'Male'}), items_add=frozenset({'18-24', 'White - English/Welsh/Scottish/Northern Irish/British'}), confidence=0.0706713780918728, lift=1.053646000642467), OrderedStatistic(items_base=frozenset({'White - English/Welsh/Scottish/Northern Irish/British'}), items_add=frozenset({'18-24', 'Male'}), confidence=0.15503875968992248, lift=0.8475452196382429), OrderedStatistic(items_base=frozenset({'18-24', 'Male'}), items_add=frozenset({'White - English/Welsh/Scottish/Northern Irish/British'}), confidence=0.3333333333333333, lift=0.8475452196382428), OrderedStatistic(items_base=frozenset({'18-24', 'White - English/Welsh/Scottish/Northern Irish/British'}), items_add=frozenset({'Male'}), confidence=0.9090909090909091, lift=1.053646000642467), OrderedStatistic(items_base=frozenset({'White - English/Welsh/Scottish/Northern Irish/British', 'Male'}), items_add=frozenset({'18-24'}), confidence=0.19607843137254902, lift=0.9744503862150921)])\n",
            "15 RelationRecord(items=frozenset({'18-24', 'White', 'White - English/Welsh/Scottish/Northern Irish/British'}), support=0.06707317073170732, ordered_statistics=[OrderedStatistic(items_base=frozenset(), items_add=frozenset({'18-24', 'White', 'White - English/Welsh/Scottish/Northern Irish/British'}), confidence=0.06707317073170732, lift=1.0), OrderedStatistic(items_base=frozenset({'18-24'}), items_add=frozenset({'White', 'White - English/Welsh/Scottish/Northern Irish/British'}), confidence=0.3333333333333333, lift=0.8541666666666666), OrderedStatistic(items_base=frozenset({'White'}), items_add=frozenset({'18-24', 'White - English/Welsh/Scottish/Northern Irish/British'}), confidence=0.09821428571428571, lift=1.4642857142857142), OrderedStatistic(items_base=frozenset({'White - English/Welsh/Scottish/Northern Irish/British'}), items_add=frozenset({'18-24', 'White'}), confidence=0.17054263565891473, lift=1.5538329026701119), OrderedStatistic(items_base=frozenset({'18-24', 'White'}), items_add=frozenset({'White - English/Welsh/Scottish/Northern Irish/British'}), confidence=0.6111111111111112, lift=1.553832902670112), OrderedStatistic(items_base=frozenset({'18-24', 'White - English/Welsh/Scottish/Northern Irish/British'}), items_add=frozenset({'White'}), confidence=1.0, lift=1.4642857142857142), OrderedStatistic(items_base=frozenset({'White', 'White - English/Welsh/Scottish/Northern Irish/British'}), items_add=frozenset({'18-24'}), confidence=0.171875, lift=0.8541666666666666)])\n",
            "16 RelationRecord(items=frozenset({'18-24', 'Other ethnic group - Not stated', 'Article for use in theft', 'Male'}), support=0.054878048780487805, ordered_statistics=[OrderedStatistic(items_base=frozenset(), items_add=frozenset({'18-24', 'Other ethnic group - Not stated', 'Article for use in theft', 'Male'}), confidence=0.054878048780487805, lift=1.0), OrderedStatistic(items_base=frozenset({'18-24'}), items_add=frozenset({'Other ethnic group - Not stated', 'Article for use in theft', 'Male'}), confidence=0.2727272727272727, lift=0.8856885688568856), OrderedStatistic(items_base=frozenset({'Article for use in theft'}), items_add=frozenset({'18-24', 'Other ethnic group - Not stated', 'Male'}), confidence=0.06405693950177936, lift=1.0005083884087442), OrderedStatistic(items_base=frozenset({'Male'}), items_add=frozenset({'18-24', 'Other ethnic group - Not stated', 'Article for use in theft'}), confidence=0.06360424028268552, lift=0.9934376577486119), OrderedStatistic(items_base=frozenset({'Other ethnic group - Not stated'}), items_add=frozenset({'18-24', 'Article for use in theft', 'Male'}), confidence=0.13846153846153844, lift=0.9083076923076921), OrderedStatistic(items_base=frozenset({'18-24', 'Article for use in theft'}), items_add=frozenset({'Other ethnic group - Not stated', 'Male'}), confidence=0.32727272727272727, lift=0.9174825174825175), OrderedStatistic(items_base=frozenset({'18-24', 'Male'}), items_add=frozenset({'Other ethnic group - Not stated', 'Article for use in theft'}), confidence=0.3, lift=0.8864864864864864), OrderedStatistic(items_base=frozenset({'18-24', 'Other ethnic group - Not stated'}), items_add=frozenset({'Article for use in theft', 'Male'}), confidence=0.75, lift=1.0040816326530613), OrderedStatistic(items_base=frozenset({'Article for use in theft', 'Male'}), items_add=frozenset({'18-24', 'Other ethnic group - Not stated'}), confidence=0.07346938775510205, lift=1.0040816326530613), OrderedStatistic(items_base=frozenset({'Other ethnic group - Not stated', 'Article for use in theft'}), items_add=frozenset({'18-24', 'Male'}), confidence=0.16216216216216214, lift=0.8864864864864864), OrderedStatistic(items_base=frozenset({'Other ethnic group - Not stated', 'Male'}), items_add=frozenset({'18-24', 'Article for use in theft'}), confidence=0.15384615384615385, lift=0.9174825174825175), OrderedStatistic(items_base=frozenset({'18-24', 'Article for use in theft', 'Male'}), items_add=frozenset({'Other ethnic group - Not stated'}), confidence=0.36, lift=0.9083076923076923), OrderedStatistic(items_base=frozenset({'18-24', 'Other ethnic group - Not stated', 'Article for use in theft'}), items_add=frozenset({'Male'}), confidence=0.8571428571428571, lift=0.9934376577486118), OrderedStatistic(items_base=frozenset({'18-24', 'Other ethnic group - Not stated', 'Male'}), items_add=frozenset({'Article for use in theft'}), confidence=0.8571428571428571, lift=1.0005083884087442), OrderedStatistic(items_base=frozenset({'Other ethnic group - Not stated', 'Article for use in theft', 'Male'}), items_add=frozenset({'18-24'}), confidence=0.1782178217821782, lift=0.8856885688568856)])\n",
            "17 RelationRecord(items=frozenset({'18-24', 'White', 'Article for use in theft', 'Male'}), support=0.08231707317073171, ordered_statistics=[OrderedStatistic(items_base=frozenset(), items_add=frozenset({'18-24', 'White', 'Article for use in theft', 'Male'}), confidence=0.08231707317073171, lift=1.0), OrderedStatistic(items_base=frozenset({'18-24'}), items_add=frozenset({'White', 'Article for use in theft', 'Male'}), confidence=0.40909090909090906, lift=0.8386363636363636), OrderedStatistic(items_base=frozenset({'Article for use in theft'}), items_add=frozenset({'18-24', 'White', 'Male'}), confidence=0.09608540925266905, lift=0.9848754448398577), OrderedStatistic(items_base=frozenset({'Male'}), items_add=frozenset({'18-24', 'White', 'Article for use in theft'}), confidence=0.09540636042402828, lift=1.0431095406360427), OrderedStatistic(items_base=frozenset({'White'}), items_add=frozenset({'18-24', 'Article for use in theft', 'Male'}), confidence=0.12053571428571429, lift=0.7907142857142857), OrderedStatistic(items_base=frozenset({'18-24', 'Article for use in theft'}), items_add=frozenset({'White', 'Male'}), confidence=0.4909090909090909, lift=0.8798807749627421), OrderedStatistic(items_base=frozenset({'18-24', 'Male'}), items_add=frozenset({'White', 'Article for use in theft'}), confidence=0.45, lift=0.76875), OrderedStatistic(items_base=frozenset({'18-24', 'White'}), items_add=frozenset({'Article for use in theft', 'Male'}), confidence=0.75, lift=1.0040816326530613), OrderedStatistic(items_base=frozenset({'Article for use in theft', 'Male'}), items_add=frozenset({'18-24', 'White'}), confidence=0.11020408163265306, lift=1.0040816326530613), OrderedStatistic(items_base=frozenset({'White', 'Article for use in theft'}), items_add=frozenset({'18-24', 'Male'}), confidence=0.14062500000000003, lift=0.7687500000000002), OrderedStatistic(items_base=frozenset({'White', 'Male'}), items_add=frozenset({'18-24', 'Article for use in theft'}), confidence=0.14754098360655737, lift=0.8798807749627421), OrderedStatistic(items_base=frozenset({'18-24', 'Article for use in theft', 'Male'}), items_add=frozenset({'White'}), confidence=0.54, lift=0.7907142857142857), OrderedStatistic(items_base=frozenset({'18-24', 'White', 'Article for use in theft'}), items_add=frozenset({'Male'}), confidence=0.9, lift=1.0431095406360424), OrderedStatistic(items_base=frozenset({'18-24', 'White', 'Male'}), items_add=frozenset({'Article for use in theft'}), confidence=0.84375, lift=0.9848754448398577), OrderedStatistic(items_base=frozenset({'White', 'Article for use in theft', 'Male'}), items_add=frozenset({'18-24'}), confidence=0.16875, lift=0.8386363636363636)])\n",
            "18 RelationRecord(items=frozenset({'18-24', 'White - English/Welsh/Scottish/Northern Irish/British', 'White', 'Article for use in theft'}), support=0.051829268292682924, ordered_statistics=[OrderedStatistic(items_base=frozenset(), items_add=frozenset({'18-24', 'White - English/Welsh/Scottish/Northern Irish/British', 'White', 'Article for use in theft'}), confidence=0.051829268292682924, lift=1.0), OrderedStatistic(items_base=frozenset({'18-24'}), items_add=frozenset({'Article for use in theft', 'White', 'White - English/Welsh/Scottish/Northern Irish/British'}), confidence=0.25757575757575757, lift=0.7543290043290043), OrderedStatistic(items_base=frozenset({'Article for use in theft'}), items_add=frozenset({'18-24', 'White', 'White - English/Welsh/Scottish/Northern Irish/British'}), confidence=0.060498220640569395, lift=0.9019734713684892), OrderedStatistic(items_base=frozenset({'White'}), items_add=frozenset({'18-24', 'Article for use in theft', 'White - English/Welsh/Scottish/Northern Irish/British'}), confidence=0.07589285714285714, lift=1.4642857142857142), OrderedStatistic(items_base=frozenset({'White - English/Welsh/Scottish/Northern Irish/British'}), items_add=frozenset({'18-24', 'White', 'Article for use in theft'}), confidence=0.1317829457364341, lift=1.4408268733850127), OrderedStatistic(items_base=frozenset({'18-24', 'Article for use in theft'}), items_add=frozenset({'White', 'White - English/Welsh/Scottish/Northern Irish/British'}), confidence=0.3090909090909091, lift=0.7920454545454545), OrderedStatistic(items_base=frozenset({'18-24', 'White'}), items_add=frozenset({'Article for use in theft', 'White - English/Welsh/Scottish/Northern Irish/British'}), confidence=0.4722222222222222, lift=1.3706981317600788), OrderedStatistic(items_base=frozenset({'18-24', 'White - English/Welsh/Scottish/Northern Irish/British'}), items_add=frozenset({'White', 'Article for use in theft'}), confidence=0.7727272727272726, lift=1.3200757575757573), OrderedStatistic(items_base=frozenset({'White', 'Article for use in theft'}), items_add=frozenset({'18-24', 'White - English/Welsh/Scottish/Northern Irish/British'}), confidence=0.08854166666666667, lift=1.3200757575757576), OrderedStatistic(items_base=frozenset({'White - English/Welsh/Scottish/Northern Irish/British', 'Article for use in theft'}), items_add=frozenset({'18-24', 'White'}), confidence=0.1504424778761062, lift=1.3706981317600788), OrderedStatistic(items_base=frozenset({'White', 'White - English/Welsh/Scottish/Northern Irish/British'}), items_add=frozenset({'18-24', 'Article for use in theft'}), confidence=0.1328125, lift=0.7920454545454545), OrderedStatistic(items_base=frozenset({'18-24', 'White', 'Article for use in theft'}), items_add=frozenset({'White - English/Welsh/Scottish/Northern Irish/British'}), confidence=0.5666666666666667, lift=1.440826873385013), OrderedStatistic(items_base=frozenset({'18-24', 'White - English/Welsh/Scottish/Northern Irish/British', 'Article for use in theft'}), items_add=frozenset({'White'}), confidence=1.0, lift=1.4642857142857142), OrderedStatistic(items_base=frozenset({'18-24', 'White', 'White - English/Welsh/Scottish/Northern Irish/British'}), items_add=frozenset({'Article for use in theft'}), confidence=0.7727272727272726, lift=0.901973471368489), OrderedStatistic(items_base=frozenset({'White - English/Welsh/Scottish/Northern Irish/British', 'White', 'Article for use in theft'}), items_add=frozenset({'18-24'}), confidence=0.15178571428571427, lift=0.7543290043290042)])\n",
            "19 RelationRecord(items=frozenset({'18-24', 'White - English/Welsh/Scottish/Northern Irish/British', 'White', 'Male'}), support=0.06097560975609756, ordered_statistics=[OrderedStatistic(items_base=frozenset(), items_add=frozenset({'18-24', 'White - English/Welsh/Scottish/Northern Irish/British', 'White', 'Male'}), confidence=0.06097560975609756, lift=1.0), OrderedStatistic(items_base=frozenset({'18-24'}), items_add=frozenset({'White', 'White - English/Welsh/Scottish/Northern Irish/British', 'Male'}), confidence=0.303030303030303, lift=0.984098409840984), OrderedStatistic(items_base=frozenset({'Male'}), items_add=frozenset({'18-24', 'White', 'White - English/Welsh/Scottish/Northern Irish/British'}), confidence=0.0706713780918728, lift=1.053646000642467), OrderedStatistic(items_base=frozenset({'White'}), items_add=frozenset({'18-24', 'White - English/Welsh/Scottish/Northern Irish/British', 'Male'}), confidence=0.08928571428571427, lift=1.4642857142857142), OrderedStatistic(items_base=frozenset({'White - English/Welsh/Scottish/Northern Irish/British'}), items_add=frozenset({'18-24', 'White', 'Male'}), confidence=0.15503875968992248, lift=1.5891472868217054), OrderedStatistic(items_base=frozenset({'18-24', 'Male'}), items_add=frozenset({'White', 'White - English/Welsh/Scottish/Northern Irish/British'}), confidence=0.3333333333333333, lift=0.8541666666666666), OrderedStatistic(items_base=frozenset({'18-24', 'White'}), items_add=frozenset({'White - English/Welsh/Scottish/Northern Irish/British', 'Male'}), confidence=0.5555555555555556, lift=1.7864923747276689), OrderedStatistic(items_base=frozenset({'18-24', 'White - English/Welsh/Scottish/Northern Irish/British'}), items_add=frozenset({'White', 'Male'}), confidence=0.9090909090909091, lift=1.6294088425235964), OrderedStatistic(items_base=frozenset({'White', 'Male'}), items_add=frozenset({'18-24', 'White - English/Welsh/Scottish/Northern Irish/British'}), confidence=0.10928961748633878, lift=1.6294088425235962), OrderedStatistic(items_base=frozenset({'White - English/Welsh/Scottish/Northern Irish/British', 'Male'}), items_add=frozenset({'18-24', 'White'}), confidence=0.19607843137254902, lift=1.7864923747276689), OrderedStatistic(items_base=frozenset({'White', 'White - English/Welsh/Scottish/Northern Irish/British'}), items_add=frozenset({'18-24', 'Male'}), confidence=0.15625, lift=0.8541666666666667), OrderedStatistic(items_base=frozenset({'18-24', 'White', 'Male'}), items_add=frozenset({'White - English/Welsh/Scottish/Northern Irish/British'}), confidence=0.625, lift=1.5891472868217054), OrderedStatistic(items_base=frozenset({'18-24', 'White - English/Welsh/Scottish/Northern Irish/British', 'Male'}), items_add=frozenset({'White'}), confidence=1.0, lift=1.4642857142857142), OrderedStatistic(items_base=frozenset({'18-24', 'White', 'White - English/Welsh/Scottish/Northern Irish/British'}), items_add=frozenset({'Male'}), confidence=0.9090909090909091, lift=1.053646000642467), OrderedStatistic(items_base=frozenset({'White - English/Welsh/Scottish/Northern Irish/British', 'White', 'Male'}), items_add=frozenset({'18-24'}), confidence=0.19801980198019803, lift=0.9840984098409841)])\n"
          ]
        }
      ]
    },
    {
      "cell_type": "code",
      "source": [
        "teen[1]"
      ],
      "metadata": {
        "id": "qf7nhDD9KyCu",
        "outputId": "0406d0ba-c361-4fb3-f9b6-b7a9af694f6a",
        "colab": {
          "base_uri": "https://localhost:8080/"
        }
      },
      "execution_count": 119,
      "outputs": [
        {
          "output_type": "execute_result",
          "data": {
            "text/plain": [
              "RelationRecord(items=frozenset({'18-24', 'Article for use in theft'}), support=0.1676829268292683, ordered_statistics=[OrderedStatistic(items_base=frozenset(), items_add=frozenset({'18-24', 'Article for use in theft'}), confidence=0.1676829268292683, lift=1.0), OrderedStatistic(items_base=frozenset({'18-24'}), items_add=frozenset({'Article for use in theft'}), confidence=0.8333333333333334, lift=0.9727164887307237), OrderedStatistic(items_base=frozenset({'Article for use in theft'}), items_add=frozenset({'18-24'}), confidence=0.19572953736654805, lift=0.9727164887307236)])"
            ]
          },
          "metadata": {},
          "execution_count": 119
        }
      ]
    },
    {
      "cell_type": "markdown",
      "source": [
        "<br> 16% ของผู้ต้องหาที่ถูกจับทั้งหมด อายุ 18-24 และ  มีอุปกรณ์ในการโจรกรรม\n",
        "<br> 83% ของผู้ต้องหาอายุ 18-24 จะมีอุปกรณ์ในการโจรกรรม\n",
        "<br> **แต่ ค่า lift<1**"
      ],
      "metadata": {
        "id": "Ov1y8i04Na6j"
      }
    },
    {
      "cell_type": "code",
      "source": [
        "teen[3]"
      ],
      "metadata": {
        "id": "0TkrJmW3K8t_",
        "outputId": "2c022dd4-4a71-496c-fce5-0989e7ae997d",
        "colab": {
          "base_uri": "https://localhost:8080/"
        }
      },
      "execution_count": 120,
      "outputs": [
        {
          "output_type": "execute_result",
          "data": {
            "text/plain": [
              "RelationRecord(items=frozenset({'18-24', 'Male'}), support=0.18292682926829268, ordered_statistics=[OrderedStatistic(items_base=frozenset(), items_add=frozenset({'18-24', 'Male'}), confidence=0.18292682926829268, lift=1.0), OrderedStatistic(items_base=frozenset({'18-24'}), items_add=frozenset({'Male'}), confidence=0.9090909090909091, lift=1.053646000642467), OrderedStatistic(items_base=frozenset({'Male'}), items_add=frozenset({'18-24'}), confidence=0.21201413427561838, lift=1.053646000642467)])"
            ]
          },
          "metadata": {},
          "execution_count": 120
        }
      ]
    },
    {
      "cell_type": "code",
      "source": [
        "teen[7]"
      ],
      "metadata": {
        "id": "FWWWpnM9LuS4",
        "outputId": "e1c12704-92e1-4269-e30a-e69104579ecd",
        "colab": {
          "base_uri": "https://localhost:8080/"
        }
      },
      "execution_count": 121,
      "outputs": [
        {
          "output_type": "execute_result",
          "data": {
            "text/plain": [
              "RelationRecord(items=frozenset({'18-24', 'Article for use in theft', 'Male'}), support=0.1524390243902439, ordered_statistics=[OrderedStatistic(items_base=frozenset(), items_add=frozenset({'18-24', 'Article for use in theft', 'Male'}), confidence=0.1524390243902439, lift=1.0), OrderedStatistic(items_base=frozenset({'18-24'}), items_add=frozenset({'Article for use in theft', 'Male'}), confidence=0.7575757575757575, lift=1.0142238713667284), OrderedStatistic(items_base=frozenset({'Article for use in theft'}), items_add=frozenset({'18-24', 'Male'}), confidence=0.17793594306049823, lift=0.9727164887307237), OrderedStatistic(items_base=frozenset({'Male'}), items_add=frozenset({'18-24', 'Article for use in theft'}), confidence=0.17667844522968199, lift=1.053646000642467), OrderedStatistic(items_base=frozenset({'18-24', 'Article for use in theft'}), items_add=frozenset({'Male'}), confidence=0.9090909090909091, lift=1.053646000642467), OrderedStatistic(items_base=frozenset({'18-24', 'Male'}), items_add=frozenset({'Article for use in theft'}), confidence=0.8333333333333334, lift=0.9727164887307237), OrderedStatistic(items_base=frozenset({'Article for use in theft', 'Male'}), items_add=frozenset({'18-24'}), confidence=0.20408163265306123, lift=1.0142238713667284)])"
            ]
          },
          "metadata": {},
          "execution_count": 121
        }
      ]
    },
    {
      "cell_type": "markdown",
      "source": [
        "อยากจะรู้ว่าอาชญากรรมที่เกิดขึ้นใน 1 วัน มักจะมีคสพ อะไรกันบ้าง ต้อง groupby \"Date\""
      ],
      "metadata": {
        "id": "oxtIITclOBun"
      }
    }
  ]
}